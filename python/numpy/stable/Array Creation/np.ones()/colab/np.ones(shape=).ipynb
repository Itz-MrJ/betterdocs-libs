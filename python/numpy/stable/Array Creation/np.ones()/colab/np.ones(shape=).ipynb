{
 "cells": [
  {
   "cell_type": "code",
   "execution_count": null,
   "id": "35917820",
   "metadata": {},
   "outputs": [],
   "source": [
    "import numpy as np\n",
    "# (row, col) or [row, col] to be fed as shape\n",
    "ones_array = np.ones(shape=[2, 3])\n",
    "print(ones_array)\n",
    "'''\n",
    "Output:\n",
    "[[1. 1. 1.]\n",
    " [1. 1. 1.]]\n",
    "'''"
   ]
  }
 ],
 "metadata": {},
 "nbformat": 4,
 "nbformat_minor": 5
}
