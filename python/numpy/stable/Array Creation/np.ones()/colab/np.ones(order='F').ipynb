{
 "cells": [
  {
   "cell_type": "code",
   "execution_count": null,
   "id": "cea20705",
   "metadata": {},
   "outputs": [],
   "source": [
    "import numpy as np\n",
    "\n",
    "# Create a 2x3 array\n",
    "array = np.ones([2, 3], order='F')\n",
    "print(array)\n",
    "\n",
    "\"\"\"\n",
    "Output:\n",
    "[[1. 1. 1.]\n",
    " [1. 1. 1.]]\n",
    "\"\"\"\n",
    "\n",
    "# Ravel with K-order\n",
    "ravel_c = array.ravel(order='K')\n",
    "print(ravel_c)  # Output: [1. 1. 1. 1. 1. 1.]"
   ]
  }
 ],
 "metadata": {},
 "nbformat": 4,
 "nbformat_minor": 5
}
