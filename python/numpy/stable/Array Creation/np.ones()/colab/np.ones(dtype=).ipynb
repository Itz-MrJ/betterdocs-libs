{
 "cells": [
  {
   "cell_type": "code",
   "execution_count": null,
   "id": "eb4d0e60",
   "metadata": {},
   "outputs": [],
   "source": [
    "import numpy as np\n",
    "# (row, col) or [row, col] to be fed as shape\n",
    "ones_array = np.ones([2, 3], dtype=np.int8)\n",
    "print(ones_array.dtype) # int8"
   ]
  }
 ],
 "metadata": {},
 "nbformat": 4,
 "nbformat_minor": 5
}
