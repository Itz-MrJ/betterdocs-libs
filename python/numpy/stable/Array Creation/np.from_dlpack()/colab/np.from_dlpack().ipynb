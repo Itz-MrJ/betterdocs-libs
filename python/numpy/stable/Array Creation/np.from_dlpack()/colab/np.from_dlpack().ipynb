{
 "cells": [
  {
   "cell_type": "code",
   "execution_count": null,
   "id": "b7bc41cf",
   "metadata": {},
   "outputs": [],
   "source": [
    "import numpy as np\n",
    "import torch\n",
    "\n",
    "# Creating a 2x2 tensor of zeros\n",
    "tensor = torch.zeros((2,2))\n",
    "arr = np.from_dlpack(tensor)\n",
    "\n",
    "print(arr)\n",
    "'''\n",
    "Output: \n",
    "[[0. 0.]\n",
    " [0. 0.]]\n",
    "'''"
   ]
  }
 ],
 "metadata": {},
 "nbformat": 4,
 "nbformat_minor": 5
}
