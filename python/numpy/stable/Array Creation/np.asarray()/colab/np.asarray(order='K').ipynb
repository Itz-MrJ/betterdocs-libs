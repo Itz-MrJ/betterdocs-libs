{
 "cells": [
  {
   "cell_type": "code",
   "execution_count": null,
   "id": "207e6026",
   "metadata": {},
   "outputs": [],
   "source": [
    "import numpy as np\n",
    "\n",
    "# Create a 2x3 array\n",
    "array = np.asarray([[1, 2, 3], [4, 5, 6]], order='K')\n",
    "print(array)\n",
    "\n",
    "\"\"\"\n",
    "Output:\n",
    "[[1 2 3]\n",
    " [4 5 6]]\n",
    "\"\"\"\n",
    "\n",
    "# Ravel with K-order\n",
    "ravel_c = array.ravel(order='K')\n",
    "print(ravel_c)  # Output: [1 2 3 4 5 6]"
   ]
  }
 ],
 "metadata": {},
 "nbformat": 4,
 "nbformat_minor": 5
}
