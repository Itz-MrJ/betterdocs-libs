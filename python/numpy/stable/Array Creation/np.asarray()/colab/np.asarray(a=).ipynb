{
 "cells": [
  {
   "cell_type": "code",
   "execution_count": null,
   "id": "a3f43922",
   "metadata": {},
   "outputs": [],
   "source": [
    "import numpy as np\n",
    "array = np.asarray([1, 2, 3])\n",
    "print(array)\n",
    "# Output: [1, 2, 3]"
   ]
  }
 ],
 "metadata": {},
 "nbformat": 4,
 "nbformat_minor": 5
}
