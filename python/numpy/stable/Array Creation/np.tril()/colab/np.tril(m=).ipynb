{
 "cells": [
  {
   "cell_type": "code",
   "execution_count": null,
   "id": "37568ffb",
   "metadata": {},
   "outputs": [],
   "source": [
    "import numpy as np\n",
    "matrix = np.array([[1, 2, 3], [4, 5, 6], [7, 8, 9]])\n",
    "result = np.tril(m=matrix, k=0)\n",
    "print(result)\n",
    "'''\n",
    "Output:\n",
    "[[1 0 0]\n",
    " [4 5 0]\n",
    " [7 8 9]]\n",
    "'''"
   ]
  }
 ],
 "metadata": {},
 "nbformat": 4,
 "nbformat_minor": 5
}
