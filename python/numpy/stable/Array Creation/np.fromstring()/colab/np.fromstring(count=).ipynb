{
 "cells": [
  {
   "cell_type": "code",
   "execution_count": null,
   "id": "eb9fa2a6",
   "metadata": {},
   "outputs": [],
   "source": [
    "import numpy as np\n",
    "\n",
    "string = \"1 2 3 4 5\"\n",
    "arr_from_string = np.fromstring(string=string, dtype=np.int8, count=3, sep=' ')\n",
    "print(arr_from_string) # Output: [1 2 3]"
   ]
  }
 ],
 "metadata": {},
 "nbformat": 4,
 "nbformat_minor": 5
}
