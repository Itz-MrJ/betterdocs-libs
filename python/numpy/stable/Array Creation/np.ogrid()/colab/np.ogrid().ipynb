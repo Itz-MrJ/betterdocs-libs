{
 "cells": [
  {
   "cell_type": "code",
   "execution_count": null,
   "id": "f8e9527a",
   "metadata": {},
   "outputs": [],
   "source": [
    "import numpy as np\n",
    "result = np.ogrid[0:2, 0:5]\n",
    "print(result)\n",
    "'''\n",
    "Output:\n",
    "[array([[0], [1]]), array([[0, 1, 2, 3, 4]])]\n",
    "'''"
   ]
  }
 ],
 "metadata": {},
 "nbformat": 4,
 "nbformat_minor": 5
}
