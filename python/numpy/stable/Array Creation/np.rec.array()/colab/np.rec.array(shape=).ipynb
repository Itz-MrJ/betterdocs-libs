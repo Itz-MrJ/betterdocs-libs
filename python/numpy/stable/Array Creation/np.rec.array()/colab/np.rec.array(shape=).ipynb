{
 "cells": [
  {
   "cell_type": "code",
   "execution_count": null,
   "id": "dcf18887",
   "metadata": {},
   "outputs": [],
   "source": [
    "import numpy as np\n",
    "\n",
    "# Create record array with shape\n",
    "data = [(1, 2.5, 'foo'), (2, 3.5, 'bar')]\n",
    "r_array = np.rec.array(data, shape=(2))\n",
    "print(r_array.shape)  # Output: (2,)"
   ]
  }
 ],
 "metadata": {},
 "nbformat": 4,
 "nbformat_minor": 5
}
