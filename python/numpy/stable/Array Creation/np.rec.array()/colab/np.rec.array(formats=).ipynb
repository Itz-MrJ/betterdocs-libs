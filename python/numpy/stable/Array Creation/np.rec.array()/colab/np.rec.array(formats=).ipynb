{
 "cells": [
  {
   "cell_type": "code",
   "execution_count": null,
   "id": "9d78b6df",
   "metadata": {},
   "outputs": [],
   "source": [
    "import numpy as np\n",
    "\n",
    "# Create a record array\n",
    "r_array = np.rec.array([(1, 2.5), (3, 4.0)], formats=\"i4,f4\")\n",
    "\n",
    "print(r_array)"
   ]
  }
 ],
 "metadata": {},
 "nbformat": 4,
 "nbformat_minor": 5
}
