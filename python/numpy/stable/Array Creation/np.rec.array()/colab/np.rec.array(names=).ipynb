{
 "cells": [
  {
   "cell_type": "code",
   "execution_count": null,
   "id": "4971fa2d",
   "metadata": {},
   "outputs": [],
   "source": [
    "import numpy as np\n",
    "            \n",
    "# Define names for fields\n",
    "names = ('id', 'value', 'label')\n",
    "# Create a record array with named fields\n",
    "data = [(1, 2.5, 'A'), (2, 3.7, 'B')]\n",
    "r_array = np.rec.array(data, names=names)\n",
    "print(r_array)\n",
    "            \n",
    "\"\"\"\n",
    "Output:\n",
    "[(1, 2.5, 'A') (2, 3.7, 'B')]\n",
    "\"\"\"\n",
    "print(r_array.label)  # Output: ['A' 'B']"
   ]
  }
 ],
 "metadata": {},
 "nbformat": 4,
 "nbformat_minor": 5
}
