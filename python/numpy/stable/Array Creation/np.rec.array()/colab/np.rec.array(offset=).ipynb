{
 "cells": [
  {
   "cell_type": "code",
   "execution_count": null,
   "id": "2f49f837",
   "metadata": {},
   "outputs": [],
   "source": [
    "import numpy as np\n",
    "\n",
    "# Metadata: 1 byte, followed by record (id: 1 byte, value: 2 bytes)\n",
    "binary_data = bytes([0xFF, 0x01]) + np.int16(4660).tobytes()\n",
    "\n",
    "# Define dtype using np.dtype\n",
    "dtype = np.dtype([('id', np.int8), ('value', np.int16)])\n",
    "\n",
    "# Create record array with offset to skip 1 byte of metadata\n",
    "r_array = np.rec.array(binary_data, dtype=dtype, offset=1)\n",
    "\n",
    "print(r_array)       # Output: [(1, 4660)]\n",
    "print(r_array.id)    # Output: [1]\n",
    "print(r_array.value) # Output: [4660]"
   ]
  }
 ],
 "metadata": {},
 "nbformat": 4,
 "nbformat_minor": 5
}
