{
 "cells": [
  {
   "cell_type": "code",
   "execution_count": null,
   "id": "2adfe735",
   "metadata": {},
   "outputs": [],
   "source": [
    "import numpy as np\n",
    "\n",
    "# Define dtype with fields\n",
    "dtype = [('x', np.float32), ('y', np.int32), ('z', np.object_)]\n",
    "\n",
    "# Create a record array\n",
    "data = [(1, 2.5, 'foo'), (2, 3.5, 'bar')]\n",
    "r_array = np.rec.array(data, dtype=dtype)\n",
    "print(r_array)\n",
    "\n",
    "\"\"\"\n",
    "Output:\n",
    "[(1., 2, 'foo') (2., 3, 'bar')]\n",
    "\"\"\"\n",
    "print(r_array.x)  # Output: [1. 2.]"
   ]
  }
 ],
 "metadata": {},
 "nbformat": 4,
 "nbformat_minor": 5
}
