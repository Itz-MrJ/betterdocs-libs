{
 "cells": [
  {
   "cell_type": "code",
   "execution_count": null,
   "id": "652dda0f",
   "metadata": {},
   "outputs": [],
   "source": [
    "import numpy as np\n",
    "\n",
    "# Create a record array from a list of tuples\n",
    "data = [(1, 'A', 2.5), (2, 'B', 3.7), (3, 'C', 1.9)]\n",
    "r_array = np.rec.array(obj=data, dtype=[('id', np.float32), ('name', np.object_), ('value', np.float32)])\n",
    "print(r_array)\n",
    "\n",
    "# Output\n",
    "# [(1., 'A', 2.5) (2., 'B', 3.7) (3., 'C', 1.9)]\n",
    "\n",
    "print(r_array.id)  # Access 'id' field: [1. 2. 3.]\n",
    "print(r_array.name)  # Access 'name' field: ['A' 'B' 'C']\n",
    "print(r_array.value)  # Access 'value' field: [2.5 3.7 1.9]"
   ]
  }
 ],
 "metadata": {},
 "nbformat": 4,
 "nbformat_minor": 5
}
