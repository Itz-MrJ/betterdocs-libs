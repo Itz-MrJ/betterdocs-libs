{
 "cells": [
  {
   "cell_type": "code",
   "execution_count": null,
   "id": "8cafd588",
   "metadata": {},
   "outputs": [],
   "source": [
    "import numpy as np\n",
    "\n",
    "# A 1D array\n",
    "arr_1d = np.array([1, 2, 3])\n",
    "print(\"Original array:\", arr_1d) # Output: [1 2 3]\n",
    "print(\"Original array dimensions:\", arr_1d.ndim) # Output: 1\n",
    "\n",
    "# Using ndmin=2 to make sure the array has at least 2 dimensions\n",
    "arr_2d = np.array([1, 2, 3], ndmin=2)\n",
    "print(\"\\nArray with ndmin=2:\", arr_2d) # Output: [[1 2 3]]\n",
    "print(\"Array with ndmin=2 dimensions:\", arr_2d.ndim) # Output: 2\n",
    "\n",
    "# Using ndmin=3 to make sure the array has at least 3 dimensions\n",
    "arr_3d = np.array([1, 2, 3], ndmin=3)\n",
    "print(\"\\nArray with ndmin=3:\", arr_3d) # Output: [[[1 2 3]]]\n",
    "print(\"Array with ndmin=3 dimensions:\", arr_3d.ndim) # Output: 3"
   ]
  }
 ],
 "metadata": {},
 "nbformat": 4,
 "nbformat_minor": 5
}
