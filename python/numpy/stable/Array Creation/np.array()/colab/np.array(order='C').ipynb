{
 "cells": [
  {
   "cell_type": "code",
   "execution_count": null,
   "id": "2d6c2acc",
   "metadata": {},
   "outputs": [],
   "source": [
    "import numpy as np\n",
    "\n",
    "# Create a 2x3 array\n",
    "array = np.array([[1, 2, 3], [4, 5, 6]], order='C')\n",
    "print(array)\n",
    "\n",
    "\"\"\"\n",
    "Output:\n",
    "[[1 2 3]\n",
    " [4 5 6]]\n",
    "\"\"\"\n",
    "\n",
    "# Ravel with C-order (row-major)\n",
    "ravel_c = array.ravel(order='K')\n",
    "print(ravel_c)  # Output: [1, 2, 3, 4, 5, 6]"
   ]
  }
 ],
 "metadata": {},
 "nbformat": 4,
 "nbformat_minor": 5
}
