{
 "cells": [
  {
   "cell_type": "code",
   "execution_count": null,
   "id": "50d0f803",
   "metadata": {},
   "outputs": [],
   "source": [
    "import numpy as np\n",
    "\n",
    "class MyArray(np.ndarray):\n",
    "    pass  # Just a subclass for demonstration\n",
    "\n",
    "# Create an instance of MyArray\n",
    "my_array = np.array([[1, 2, 3], [4, 5, 6]]).view(MyArray)\n",
    "print(\"Original type:\", type(my_array))  # Output: <class '__main__.MyArray'>\n",
    "\n",
    "# Using np.array with subok=True\n",
    "result_subok_true = np.array(my_array, subok=True)\n",
    "print(\"With subok=True:\", type(result_subok_true))  # Output: <class '__main__.MyArray'>"
   ]
  }
 ],
 "metadata": {},
 "nbformat": 4,
 "nbformat_minor": 5
}
