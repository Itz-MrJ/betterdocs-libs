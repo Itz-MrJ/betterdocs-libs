{
 "cells": [
  {
   "cell_type": "code",
   "execution_count": null,
   "id": "b7c529b6",
   "metadata": {},
   "outputs": [],
   "source": [
    "import numpy as np\n",
    "\n",
    "# Original array\n",
    "original_array = np.array([1, 2, 3])\n",
    "\n",
    "# Creating a new array with copy=False (view)\n",
    "new_array = np.array(original_array, copy=False)\n",
    "\n",
    "# Modify the new array\n",
    "new_array[0] = 99\n",
    "\n",
    "# Print both arrays\n",
    "print(\"Original Array:\", original_array)  # Output: [99 2 3]\n",
    "print(\"New Array:\", new_array)            # Output: [99 2 3]"
   ]
  }
 ],
 "metadata": {},
 "nbformat": 4,
 "nbformat_minor": 5
}
