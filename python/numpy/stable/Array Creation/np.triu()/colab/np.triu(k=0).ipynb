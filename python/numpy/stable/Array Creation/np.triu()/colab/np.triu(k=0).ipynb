{
 "cells": [
  {
   "cell_type": "code",
   "execution_count": null,
   "id": "84c1509a",
   "metadata": {},
   "outputs": [],
   "source": [
    "import numpy as np\n",
    "matrix = np.array([[1, 2, 3], [4, 5, 6], [7, 8, 9]])\n",
    "result = np.triu(m=matrix, k=0)\n",
    "print(result)\n",
    "'''\n",
    "Output:\n",
    "[[1 2 3]\n",
    " [0 5 6]\n",
    " [0 0 9]]\n",
    "'''"
   ]
  }
 ],
 "metadata": {},
 "nbformat": 4,
 "nbformat_minor": 5
}
