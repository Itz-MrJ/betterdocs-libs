{
 "cells": [
  {
   "cell_type": "code",
   "execution_count": null,
   "id": "de01f003",
   "metadata": {},
   "outputs": [],
   "source": [
    "import numpy as np\n",
    "matrix = np.array([[1, 2, 3], [4, 5, 6], [7, 8, 9]])\n",
    "result = np.triu(m=matrix, k=-1)\n",
    "print(result)\n",
    "'''\n",
    "Output:\n",
    "[[1 2 3]\n",
    " [4 5 6]\n",
    " [0 8 9]]\n",
    "'''"
   ]
  }
 ],
 "metadata": {},
 "nbformat": 4,
 "nbformat_minor": 5
}
