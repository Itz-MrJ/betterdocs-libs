{
 "cells": [
  {
   "cell_type": "code",
   "execution_count": null,
   "id": "5626751a",
   "metadata": {},
   "outputs": [],
   "source": [
    "import numpy as np\n",
    "\n",
    "# Create an empty_like 2x2 array\n",
    "a = np.array([[1, 2], [2, 5]])\n",
    "array = np.empty_like(prototype=a, order='K')\n",
    "print(array)\n",
    "\n",
    "\"\"\"\n",
    "Output: (Garbage Values)\n",
    "[[1 2]\n",
    " [3 0]]\n",
    "\"\"\"\n",
    "\n",
    "# Ravel with K-order\n",
    "ravel_c = array.ravel(order='K')\n",
    "print(ravel_c)  # Output: [1 2 3 0]"
   ]
  }
 ],
 "metadata": {},
 "nbformat": 4,
 "nbformat_minor": 5
}
