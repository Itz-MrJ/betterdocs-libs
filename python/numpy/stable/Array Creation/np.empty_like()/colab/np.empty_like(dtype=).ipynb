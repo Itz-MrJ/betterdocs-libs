{
 "cells": [
  {
   "cell_type": "code",
   "execution_count": null,
   "id": "6c15a59d",
   "metadata": {},
   "outputs": [],
   "source": [
    "import numpy as np\n",
    "\n",
    "a = np.array([[1, 2], [3, 4]])\n",
    "empty_arr = np.empty_like(a, dtype=np.float32)\n",
    "print(empty_arr)  # Values are uninitialized\n",
    "'''\n",
    "Output: (Garbage Values)\n",
    "[[ 1.28442770e+07 -7.59295479e-38]\n",
    " [ 1.06929976e-04  4.41717302e-41]]\n",
    "'''"
   ]
  }
 ],
 "metadata": {},
 "nbformat": 4,
 "nbformat_minor": 5
}
