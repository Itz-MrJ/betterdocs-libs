{
 "cells": [
  {
   "cell_type": "code",
   "execution_count": null,
   "id": "0040c55d",
   "metadata": {},
   "outputs": [],
   "source": [
    "import numpy as np\n",
    "\n",
    "# Create an empty_like 2x2 array\n",
    "a = np.array([[10, 0], [15, 5]])\n",
    "array = np.empty_like(prototype=a, order='A')\n",
    "print(array)\n",
    "\n",
    "\"\"\"\n",
    "Output: (Garbage Values)\n",
    "[[10 20]\n",
    " [15  5]]\n",
    "\"\"\"\n",
    "\n",
    "# Ravel with K-order\n",
    "ravel_c = array.ravel(order='K')\n",
    "print(ravel_c)  # Output: [10 20 15  5]"
   ]
  }
 ],
 "metadata": {},
 "nbformat": 4,
 "nbformat_minor": 5
}
