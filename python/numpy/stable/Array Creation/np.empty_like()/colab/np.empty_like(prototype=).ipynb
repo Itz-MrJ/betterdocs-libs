{
 "cells": [
  {
   "cell_type": "code",
   "execution_count": null,
   "id": "43605cd8",
   "metadata": {},
   "outputs": [],
   "source": [
    "import numpy as np\n",
    "\n",
    "a = np.array([[1, 2], [3, 4]])\n",
    "empty_arr = np.empty_like(prototype=a)\n",
    "print(empty_arr)  # Values are uninitialized\n",
    "'''\n",
    "Output: (Garbage Values)\n",
    "[[    100981028852064                   0]\n",
    " [7306090318617649184 8386106492501113458]]\n",
    "'''"
   ]
  }
 ],
 "metadata": {},
 "nbformat": 4,
 "nbformat_minor": 5
}
