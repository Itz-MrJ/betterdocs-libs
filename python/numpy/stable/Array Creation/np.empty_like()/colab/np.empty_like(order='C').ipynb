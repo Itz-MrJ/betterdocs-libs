{
 "cells": [
  {
   "cell_type": "code",
   "execution_count": null,
   "id": "e49d2b09",
   "metadata": {},
   "outputs": [],
   "source": [
    "import numpy as np\n",
    "\n",
    "# Create an empty_like 2x2 array\n",
    "a = np.array([[1, 2], [2, 5]])\n",
    "array = np.empty_like(prototype=a, order='C')\n",
    "print(array)\n",
    "\n",
    "\"\"\"\n",
    "Output: (Garbage Values)\n",
    "[[1 2]\n",
    " [2 5]]\n",
    "\"\"\"\n",
    "\n",
    "# Ravel with K-order\n",
    "ravel_c = array.ravel(order='K')\n",
    "print(ravel_c)  # Output: [1 2 2 5]"
   ]
  }
 ],
 "metadata": {},
 "nbformat": 4,
 "nbformat_minor": 5
}
