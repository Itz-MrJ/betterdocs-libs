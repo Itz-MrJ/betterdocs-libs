{
 "cells": [
  {
   "cell_type": "code",
   "execution_count": null,
   "id": "a48aceb1",
   "metadata": {},
   "outputs": [],
   "source": [
    "import numpy as np\n",
    "\n",
    "a = np.empty_like([[1, 2], [3, 4]], shape=(2,1))\n",
    "print(a)  # Values are uninitialized\n",
    "'''\n",
    "Output:\n",
    "[[4575657222473777152]\n",
    " [4575657222473777152]]\n",
    "'''"
   ]
  }
 ],
 "metadata": {},
 "nbformat": 4,
 "nbformat_minor": 5
}
