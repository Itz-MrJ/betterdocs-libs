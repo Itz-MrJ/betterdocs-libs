{
 "cells": [
  {
   "cell_type": "code",
   "execution_count": null,
   "id": "8d427342",
   "metadata": {},
   "outputs": [],
   "source": [
    "import numpy as np\n",
    "# (row, col) or [row, col] to be fed as shape\n",
    "empty_array = np.empty(shape=(2, 3))\n",
    "print(empty_array)\n",
    "'''\n",
    "Output: (Garbage value)\n",
    "[[1. 1. 1.]\n",
    " [1. 1. 1.]]\n",
    " '''"
   ]
  }
 ],
 "metadata": {},
 "nbformat": 4,
 "nbformat_minor": 5
}
