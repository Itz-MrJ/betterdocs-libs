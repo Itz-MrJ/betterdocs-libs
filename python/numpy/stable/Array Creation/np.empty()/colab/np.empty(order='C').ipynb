{
 "cells": [
  {
   "cell_type": "code",
   "execution_count": null,
   "id": "e23bf7de",
   "metadata": {},
   "outputs": [],
   "source": [
    "import numpy as np\n",
    "\n",
    "# Create a 2x3 array\n",
    "array = np.empty([2, 3], order='C')\n",
    "print(array)\n",
    "\n",
    "\"\"\"\n",
    "Output: (Garbage value)\n",
    "[[0. 0. 0.]\n",
    " [0. 0. 0.]]\n",
    "\"\"\"\n",
    "\n",
    "# Ravel with K-order\n",
    "ravel_c = array.ravel(order='K')\n",
    "print(ravel_c)  # Output: [0. 0. 0. 0. 0. 0.]"
   ]
  }
 ],
 "metadata": {},
 "nbformat": 4,
 "nbformat_minor": 5
}
