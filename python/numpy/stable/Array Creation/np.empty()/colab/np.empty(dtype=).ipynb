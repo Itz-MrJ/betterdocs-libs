{
 "cells": [
  {
   "cell_type": "code",
   "execution_count": null,
   "id": "a20293fe",
   "metadata": {},
   "outputs": [],
   "source": [
    "import numpy as np\n",
    "empty_array = np.empty((2, 3), dtype=np.int16)\n",
    "print(empty_array)\n",
    "'''\n",
    "Output: (Garbage value)\n",
    "[[-1783 25878 21981]\n",
    " [    0     0     0]]\n",
    " '''"
   ]
  }
 ],
 "metadata": {},
 "nbformat": 4,
 "nbformat_minor": 5
}
