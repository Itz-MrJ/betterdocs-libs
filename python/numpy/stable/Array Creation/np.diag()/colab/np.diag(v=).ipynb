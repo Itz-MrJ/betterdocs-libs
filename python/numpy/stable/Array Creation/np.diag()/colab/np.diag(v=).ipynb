{
 "cells": [
  {
   "cell_type": "code",
   "execution_count": null,
   "id": "1a8fdea4",
   "metadata": {},
   "outputs": [],
   "source": [
    "import numpy as np\n",
    "result = np.diag(v=[1, 2, 3])\n",
    "print(result)\n",
    "'''\n",
    "Output:\n",
    "[[1 0 0]\n",
    " [0 2 0]\n",
    " [0 0 3]]\n",
    "'''"
   ]
  }
 ],
 "metadata": {},
 "nbformat": 4,
 "nbformat_minor": 5
}
