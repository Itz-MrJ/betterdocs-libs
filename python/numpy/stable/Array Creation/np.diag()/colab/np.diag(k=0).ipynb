{
 "cells": [
  {
   "cell_type": "code",
   "execution_count": null,
   "id": "02e1380a",
   "metadata": {},
   "outputs": [],
   "source": [
    "import numpy as np\n",
    "result = np.diag(v=[1,2,3], k=0)\n",
    "print(result)\n",
    "'''\n",
    "Output:\n",
    "[[1 0 0]\n",
    " [0 2 0]\n",
    " [0 0 3]]\n",
    "'''"
   ]
  }
 ],
 "metadata": {},
 "nbformat": 4,
 "nbformat_minor": 5
}
