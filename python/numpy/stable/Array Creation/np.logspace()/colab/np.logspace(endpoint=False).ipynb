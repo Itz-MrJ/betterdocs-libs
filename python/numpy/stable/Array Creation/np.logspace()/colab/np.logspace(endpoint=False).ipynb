{
 "cells": [
  {
   "cell_type": "code",
   "execution_count": null,
   "id": "2fb76f8a",
   "metadata": {},
   "outputs": [],
   "source": [
    "import numpy as np\n",
    "arr = np.logspace(start=0, stop=1, num=5, endpoint=False)\n",
    "# Only 'start' is included & 'stop' is excluded\n",
    "print(arr)\n",
    "'''\n",
    "Output:\n",
    "[1.         1.58489319 2.51188643 3.98107171 6.30957344]\n",
    "'''"
   ]
  }
 ],
 "metadata": {},
 "nbformat": 4,
 "nbformat_minor": 5
}
