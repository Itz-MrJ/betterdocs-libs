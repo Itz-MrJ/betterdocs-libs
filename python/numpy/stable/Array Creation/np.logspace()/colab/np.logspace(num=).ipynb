{
 "cells": [
  {
   "cell_type": "code",
   "execution_count": null,
   "id": "9a9ed2c7",
   "metadata": {},
   "outputs": [],
   "source": [
    "import numpy as np\n",
    "arr = np.logspace(start=1, stop=2, num=10)\n",
    "# Both 'start' & 'stop' are included as endpoint=True\n",
    "print(arr)\n",
    "'''\n",
    "Output:\n",
    "[ 10.          12.91549665  16.68100537  21.5443469   27.82559402\n",
    "  35.93813664  46.41588834  59.94842503  77.42636827 100.        ]\n",
    "'''"
   ]
  }
 ],
 "metadata": {},
 "nbformat": 4,
 "nbformat_minor": 5
}
