{
 "cells": [
  {
   "cell_type": "code",
   "execution_count": null,
   "id": "555c8c8c",
   "metadata": {},
   "outputs": [],
   "source": [
    "import numpy as np\n",
    "arr = np.logspace(start=0, stop=1, num=5, base=5)\n",
    "# Both 'start' & 'stop' are included\n",
    "print(arr)\n",
    "'''\n",
    "Output:\n",
    "[1.         1.49534878 2.23606798 3.34370152 5.        ]\n",
    "'''"
   ]
  }
 ],
 "metadata": {},
 "nbformat": 4,
 "nbformat_minor": 5
}
