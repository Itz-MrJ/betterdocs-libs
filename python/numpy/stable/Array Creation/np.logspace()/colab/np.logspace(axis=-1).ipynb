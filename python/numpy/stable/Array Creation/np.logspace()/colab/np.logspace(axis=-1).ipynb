{
 "cells": [
  {
   "cell_type": "code",
   "execution_count": null,
   "id": "1ea9f756",
   "metadata": {},
   "outputs": [],
   "source": [
    "import numpy as np\n",
    "\n",
    "arr = np.logspace([1,2], [4,5], num=5, axis=-1)\n",
    "print(arr)\n",
    "'''\n",
    "Output:\n",
    "[[1.00000000e+01 5.62341325e+01 3.16227766e+02 1.77827941e+03\n",
    "  1.00000000e+04]\n",
    " [1.00000000e+02 5.62341325e+02 3.16227766e+03 1.77827941e+04\n",
    "  1.00000000e+05]]\n",
    "'''"
   ]
  }
 ],
 "metadata": {},
 "nbformat": 4,
 "nbformat_minor": 5
}
