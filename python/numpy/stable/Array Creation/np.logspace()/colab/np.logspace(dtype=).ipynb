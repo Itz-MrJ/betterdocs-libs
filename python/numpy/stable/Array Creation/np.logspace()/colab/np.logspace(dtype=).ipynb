{
 "cells": [
  {
   "cell_type": "code",
   "execution_count": null,
   "id": "4ea86ae6",
   "metadata": {},
   "outputs": [],
   "source": [
    "import numpy as np\n",
    "arr = np.logspace(start=0, stop=4, num=5, dtype=np.int32)\n",
    "# Both 'start' & 'stop' are included\n",
    "print(arr)\n",
    "'''\n",
    "Output:\n",
    "[    1    10   100  1000 10000]\n",
    "'''"
   ]
  }
 ],
 "metadata": {},
 "nbformat": 4,
 "nbformat_minor": 5
}
