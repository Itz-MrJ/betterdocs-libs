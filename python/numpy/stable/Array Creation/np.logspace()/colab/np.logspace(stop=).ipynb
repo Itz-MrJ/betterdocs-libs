{
 "cells": [
  {
   "cell_type": "code",
   "execution_count": null,
   "id": "63493489",
   "metadata": {},
   "outputs": [],
   "source": [
    "import numpy as np\n",
    "arr = np.logspace(start=0, stop=1, num=5)\n",
    "# Both 'start' & 'stop' are included as endpoint=True\n",
    "print(arr)\n",
    "'''\n",
    "Output:\n",
    "[ 1.          1.77827941  3.16227766  5.62341325 10.        ]\n",
    "'''"
   ]
  }
 ],
 "metadata": {},
 "nbformat": 4,
 "nbformat_minor": 5
}
