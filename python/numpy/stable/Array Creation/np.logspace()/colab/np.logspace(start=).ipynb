{
 "cells": [
  {
   "cell_type": "code",
   "execution_count": null,
   "id": "5a8cfd17",
   "metadata": {},
   "outputs": [],
   "source": [
    "import numpy as np\n",
    "arr = np.logspace(start=0, stop=2, num=5, base=10.0)\n",
    "# Both 'start' & 'stop' are included as endpoint=True\n",
    "print(arr)\n",
    "'''\n",
    "Output:\n",
    "[  1.           3.16227766  10.          31.6227766  100.        ]\n",
    "'''"
   ]
  }
 ],
 "metadata": {},
 "nbformat": 4,
 "nbformat_minor": 5
}
