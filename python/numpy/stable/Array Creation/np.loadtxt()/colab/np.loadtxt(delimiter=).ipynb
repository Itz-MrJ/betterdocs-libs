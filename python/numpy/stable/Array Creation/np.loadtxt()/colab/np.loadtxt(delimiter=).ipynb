{
 "cells": [
  {
   "cell_type": "code",
   "execution_count": null,
   "id": "9140c6a8",
   "metadata": {},
   "outputs": [],
   "source": [
    "import numpy as np\n",
    "\n",
    "with open('data.txt', 'w') as f:\n",
    "  f.write(\"1*2*3*4^*5\")\n",
    "arr_from_file = np.loadtxt(fname='data.txt',comments='^', delimiter='*')\n",
    "print(arr_from_file)  # Output: [1. 2. 3. 4.]"
   ]
  }
 ],
 "metadata": {},
 "nbformat": 4,
 "nbformat_minor": 5
}
