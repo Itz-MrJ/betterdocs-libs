{
 "cells": [
  {
   "cell_type": "code",
   "execution_count": null,
   "id": "67532e5c",
   "metadata": {},
   "outputs": [],
   "source": [
    "import numpy as np\n",
    "\n",
    "with open('data_usecols.txt', 'w') as f:\n",
    "    f.write(\"1.0 2.0 3.0\\n4.0 5.0 6.0\")\n",
    "\n",
    "data = np.loadtxt('data_usecols.txt', usecols=(0, 2))\n",
    "print(data)\n",
    "# Output:\n",
    "# [[1. 3.]\n",
    "#  [4. 6.]]"
   ]
  }
 ],
 "metadata": {},
 "nbformat": 4,
 "nbformat_minor": 5
}
