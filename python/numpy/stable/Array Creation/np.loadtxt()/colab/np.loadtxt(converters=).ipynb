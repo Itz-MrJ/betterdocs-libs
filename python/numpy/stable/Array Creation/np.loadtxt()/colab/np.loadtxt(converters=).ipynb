{
 "cells": [
  {
   "cell_type": "code",
   "execution_count": null,
   "id": "5f8a6aee",
   "metadata": {},
   "outputs": [],
   "source": [
    "import numpy as np\n",
    "\n",
    "with open('data_converters.txt', 'w') as f:\n",
    "    f.write(\"1.0, 2.0, A\\n4.0, 5.0, B\")\n",
    "\n",
    "data = np.loadtxt('data_converters.txt', delimiter=',', converters={2: lambda s: ord(s.strip()) - ord('A')})\n",
    "print(data)\n",
    "# Output:\n",
    "# [[1. 2. 0.]\n",
    "#  [4. 5. 1.]]"
   ]
  }
 ],
 "metadata": {},
 "nbformat": 4,
 "nbformat_minor": 5
}
