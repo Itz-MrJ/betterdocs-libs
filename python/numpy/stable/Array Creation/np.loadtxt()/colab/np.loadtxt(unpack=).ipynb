{
 "cells": [
  {
   "cell_type": "code",
   "execution_count": null,
   "id": "417d9d05",
   "metadata": {},
   "outputs": [],
   "source": [
    "import numpy as np\n",
    "\n",
    "with open('data_usecols.txt', 'w') as f:\n",
    "    f.write(\"1.0 2.0 3.0\\n4.0 5.0 6.0\")\n",
    "\n",
    "data1, data2, data3 = np.loadtxt('data_usecols.txt', unpack=True)\n",
    "print(data1)  # Output: [1. 4.]\n",
    "print(data2)  # Output: [2. 5.]\n",
    "print(data3)  # Output: [3. 6.]"
   ]
  }
 ],
 "metadata": {},
 "nbformat": 4,
 "nbformat_minor": 5
}
