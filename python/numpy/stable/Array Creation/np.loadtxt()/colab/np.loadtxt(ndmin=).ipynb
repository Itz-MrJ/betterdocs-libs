{
 "cells": [
  {
   "cell_type": "code",
   "execution_count": null,
   "id": "9de79a5a",
   "metadata": {},
   "outputs": [],
   "source": [
    "import numpy as np\n",
    "\n",
    "# Write a simple data file with a single line\n",
    "with open('data_single_line.txt', 'w') as f:\n",
    "    f.write(\"1.0 2.0 3.0\")\n",
    "\n",
    "data_ndmin2 = np.loadtxt('data_single_line.txt', ndmin=2)\n",
    "print(\"\\nndmin=2 array shape:\", data_ndmin2.shape)  # Output: (1, 3)\n",
    "print(\"ndmin=2 array:\", data_ndmin2)  # Output: [[1. 2. 3.]]"
   ]
  }
 ],
 "metadata": {},
 "nbformat": 4,
 "nbformat_minor": 5
}
