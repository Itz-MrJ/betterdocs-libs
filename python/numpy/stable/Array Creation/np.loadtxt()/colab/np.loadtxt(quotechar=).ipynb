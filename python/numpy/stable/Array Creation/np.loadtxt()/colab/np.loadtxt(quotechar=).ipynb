{
 "cells": [
  {
   "cell_type": "code",
   "execution_count": null,
   "id": "7234cd9a",
   "metadata": {},
   "outputs": [],
   "source": [
    "import numpy as np\n",
    "from io import StringIO\n",
    "\n",
    "s = StringIO('\"BetterDocs, is just \"\"BETTER\"\"!\"')\n",
    "data = np.loadtxt(s, dtype=\"U\", delimiter=\",\", quotechar='\"')\n",
    "print(data) # Output: BetterDocs, is just \"BETTER\"!"
   ]
  }
 ],
 "metadata": {},
 "nbformat": 4,
 "nbformat_minor": 5
}
