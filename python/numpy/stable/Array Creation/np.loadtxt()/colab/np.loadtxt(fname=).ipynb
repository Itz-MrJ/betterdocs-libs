{
 "cells": [
  {
   "cell_type": "code",
   "execution_count": null,
   "id": "1d1af4e1",
   "metadata": {},
   "outputs": [],
   "source": [
    "import numpy as np\n",
    "\n",
    "arr = np.array([1, 2, 3])\n",
    "arr.tofile(file='data.txt', sep=\",\")  # Write as text\n",
    "arr_from_file = np.loadtxt(fname='data.txt', delimiter=',')\n",
    "print(arr_from_file)  # Output: [1. 2. 3.]"
   ]
  }
 ],
 "metadata": {},
 "nbformat": 4,
 "nbformat_minor": 5
}
