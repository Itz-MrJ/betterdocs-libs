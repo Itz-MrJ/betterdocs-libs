{
 "cells": [
  {
   "cell_type": "code",
   "execution_count": null,
   "id": "ac5d3c96",
   "metadata": {},
   "outputs": [],
   "source": [
    "import numpy as np\n",
    "\n",
    "arr = np.array([1, 2, 3])\n",
    "arr.tofile(file='data.txt', sep=\",\")  # Write as text\n",
    "arr_from_file = np.loadtxt(fname='data.txt', delimiter=',', dtype=np.float32)\n",
    "print(arr_from_file)  # Output: [1. 2. 3.]"
   ]
  }
 ],
 "metadata": {},
 "nbformat": 4,
 "nbformat_minor": 5
}
