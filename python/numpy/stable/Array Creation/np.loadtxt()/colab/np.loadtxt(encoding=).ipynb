{
 "cells": [
  {
   "cell_type": "code",
   "execution_count": null,
   "id": "c942a539",
   "metadata": {},
   "outputs": [],
   "source": [
    "import numpy as np\n",
    "\n",
    "with open('data_utf8.txt', 'w', encoding='utf-8') as f:\n",
    "    f.write(\"1.0 2.0 3.0\\n4.0 5.0 6.0\")\n",
    "\n",
    "data = np.loadtxt('data_utf8.txt', encoding='utf-8')\n",
    "print(data)\n",
    "# Output:\n",
    "# [[1. 2. 3.]\n",
    "#  [4. 5. 6.]]"
   ]
  }
 ],
 "metadata": {},
 "nbformat": 4,
 "nbformat_minor": 5
}
