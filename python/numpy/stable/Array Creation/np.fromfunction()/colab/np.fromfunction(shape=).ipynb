{
 "cells": [
  {
   "cell_type": "code",
   "execution_count": null,
   "id": "137a0d60",
   "metadata": {},
   "outputs": [],
   "source": [
    "import numpy as np\n",
    "\n",
    "# 3x2 array where each entry is i + j (row + column index)\n",
    "fromfunction_array = np.fromfunction(function=lambda i, j: i + j, shape=(3, 2))\n",
    "print(fromfunction_array)\n",
    "'''\n",
    "Output:\n",
    "[[0. 1.]\n",
    " [1. 2.]\n",
    " [2. 3.]]\n",
    "'''"
   ]
  }
 ],
 "metadata": {},
 "nbformat": 4,
 "nbformat_minor": 5
}
