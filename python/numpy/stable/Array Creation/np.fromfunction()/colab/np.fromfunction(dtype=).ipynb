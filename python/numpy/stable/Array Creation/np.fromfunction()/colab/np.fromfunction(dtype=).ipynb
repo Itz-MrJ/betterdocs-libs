{
 "cells": [
  {
   "cell_type": "code",
   "execution_count": null,
   "id": "78422310",
   "metadata": {},
   "outputs": [],
   "source": [
    "import numpy as np\n",
    "\n",
    "# 1x5 array where each entry is i + j (row + column index)\n",
    "fromfunction_array = np.fromfunction(function=lambda i, j: i + j, shape=(1, 5), dtype=np.int32)\n",
    "print(fromfunction_array)\n",
    "'''\n",
    "Output:\n",
    "[[0 1 2 3 4]]\n",
    "'''"
   ]
  }
 ],
 "metadata": {},
 "nbformat": 4,
 "nbformat_minor": 5
}
