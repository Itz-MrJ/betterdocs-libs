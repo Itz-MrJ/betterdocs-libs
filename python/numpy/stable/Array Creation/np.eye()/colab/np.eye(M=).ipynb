{
 "cells": [
  {
   "cell_type": "code",
   "execution_count": null,
   "id": "6a0cf522",
   "metadata": {},
   "outputs": [],
   "source": [
    "import numpy as np\n",
    "\n",
    "# 3x2 identity matrix\n",
    "identity_matrix = np.eye(3, M=2)\n",
    "print(identity_matrix)\n",
    "'''\n",
    "Output:\n",
    "[[1. 0.]\n",
    " [0. 1.]\n",
    " [0. 0.]]\n",
    "'''"
   ]
  }
 ],
 "metadata": {},
 "nbformat": 4,
 "nbformat_minor": 5
}
