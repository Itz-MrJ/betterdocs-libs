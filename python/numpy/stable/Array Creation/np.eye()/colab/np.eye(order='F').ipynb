{
 "cells": [
  {
   "cell_type": "code",
   "execution_count": null,
   "id": "c931dff2",
   "metadata": {},
   "outputs": [],
   "source": [
    "import numpy as np\n",
    "\n",
    "# Create a 3x3 array\n",
    "array = np.eye(3, order='F')\n",
    "print(array)\n",
    "\n",
    "\"\"\"\n",
    "Output:\n",
    "[[1. 0. 0.]\n",
    " [0. 1. 0.]\n",
    " [0. 0. 1.]]\n",
    "\"\"\"\n",
    "\n",
    "# Ravel with K-order\n",
    "ravel_c = array.ravel(order='K')\n",
    "print(ravel_c)  # Output: [1. 0. 0. 0. 1. 0. 0. 0. 1.]"
   ]
  }
 ],
 "metadata": {},
 "nbformat": 4,
 "nbformat_minor": 5
}
