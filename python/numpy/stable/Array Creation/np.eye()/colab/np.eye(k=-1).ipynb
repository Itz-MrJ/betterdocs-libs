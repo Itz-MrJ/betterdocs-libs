{
 "cells": [
  {
   "cell_type": "code",
   "execution_count": null,
   "id": "21af374d",
   "metadata": {},
   "outputs": [],
   "source": [
    "import numpy as np\n",
    "\n",
    "# 3x3 identity matrix\n",
    "identity_matrix = np.eye(3, k=-1)\n",
    "print(identity_matrix)\n",
    "'''\n",
    "Output:\n",
    "[[0. 0. 0.]\n",
    " [1. 0. 0.]\n",
    " [0. 1. 0.]]\n",
    "'''"
   ]
  }
 ],
 "metadata": {},
 "nbformat": 4,
 "nbformat_minor": 5
}
