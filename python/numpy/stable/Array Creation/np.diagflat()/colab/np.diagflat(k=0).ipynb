{
 "cells": [
  {
   "cell_type": "code",
   "execution_count": null,
   "id": "041f28b7",
   "metadata": {},
   "outputs": [],
   "source": [
    "import numpy as np\n",
    "result = np.diagflat(v=[[1], [2], [3]], k=0)\n",
    "print(result)\n",
    "'''\n",
    "Output:\n",
    "[[1 0 0]\n",
    " [0 2 0]\n",
    " [0 0 3]]\n",
    "'''"
   ]
  }
 ],
 "metadata": {},
 "nbformat": 4,
 "nbformat_minor": 5
}
