{
 "cells": [
  {
   "cell_type": "code",
   "execution_count": null,
   "id": "45eb78a4",
   "metadata": {},
   "outputs": [],
   "source": [
    "import numpy as np\n",
    "\n",
    "# Write to a file with a specified dtype\n",
    "np.array([1, 2, 3], dtype=np.int32).tofile('data.bin')\n",
    "\n",
    "# Read from the file with the same dtype\n",
    "arr_from_file = np.fromfile(file='data.bin', dtype=np.int32)\n",
    "print(arr_from_file)  # Output: [1 2 3]"
   ]
  }
 ],
 "metadata": {},
 "nbformat": 4,
 "nbformat_minor": 5
}
