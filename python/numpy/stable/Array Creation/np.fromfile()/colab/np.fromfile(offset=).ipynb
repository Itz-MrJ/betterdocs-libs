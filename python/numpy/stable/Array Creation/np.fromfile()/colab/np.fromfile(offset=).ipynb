{
 "cells": [
  {
   "cell_type": "code",
   "execution_count": null,
   "id": "1102d253",
   "metadata": {},
   "outputs": [],
   "source": [
    "import numpy as np\n",
    "\n",
    "# Data to write\n",
    "data = np.array([10, 20, 30, 40, 50], dtype=np.int32)\n",
    "\n",
    "# Write the data to a binary file\n",
    "with open('data_with_header.bin', 'wb') as f:\n",
    "    f.write(b'BETTER')  # Write a header (6 bytes)\n",
    "    data.tofile(f)      # Write the actual data\n",
    "\n",
    "# Read the file, skipping the 6-byte header\n",
    "arr = np.fromfile('data_with_header.bin', dtype=np.int32, offset=6)\n",
    "print(arr)\n",
    "# Output: [10 20 30 40 50]"
   ]
  }
 ],
 "metadata": {},
 "nbformat": 4,
 "nbformat_minor": 5
}
