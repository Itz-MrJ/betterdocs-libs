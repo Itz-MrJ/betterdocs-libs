{
 "cells": [
  {
   "cell_type": "code",
   "execution_count": null,
   "id": "78c8e9c3",
   "metadata": {},
   "outputs": [],
   "source": [
    "import numpy as np\n",
    "\n",
    "# Write to a file with a specified dtype\n",
    "np.array([1., 2., 3.]).tofile('data.bin')\n",
    "\n",
    "# Read from the file with the same dtype\n",
    "arr_from_file = np.fromfile('data.bin', count=2)\n",
    "print(arr_from_file)  # Output: [1. 2.]"
   ]
  }
 ],
 "metadata": {},
 "nbformat": 4,
 "nbformat_minor": 5
}
