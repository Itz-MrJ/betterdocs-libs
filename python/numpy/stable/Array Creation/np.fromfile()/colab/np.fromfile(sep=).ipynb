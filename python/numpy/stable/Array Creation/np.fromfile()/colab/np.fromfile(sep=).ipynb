{
 "cells": [
  {
   "cell_type": "code",
   "execution_count": null,
   "id": "dfb5ffd4",
   "metadata": {},
   "outputs": [],
   "source": [
    "import numpy as np\n",
    "\n",
    "arr = np.array([1, 2, 3])\n",
    "arr.tofile(file='data.txt', sep=\",\")  # Write as text\n",
    "arr_from_file = np.fromfile(file='data.txt', sep=\",\")  # Read as text\n",
    "print(arr_from_file)  # Output: [1. 2. 3.]"
   ]
  }
 ],
 "metadata": {},
 "nbformat": 4,
 "nbformat_minor": 5
}
