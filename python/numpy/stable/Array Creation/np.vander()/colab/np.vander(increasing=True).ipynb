{
 "cells": [
  {
   "cell_type": "code",
   "execution_count": null,
   "id": "91c91050",
   "metadata": {},
   "outputs": [],
   "source": [
    "import numpy as np\n",
    "result = np.vander(x=[4, 2, 3], N=4, increasing=True)\n",
    "print(result)\n",
    "'''\n",
    "Output:\n",
    "[[ 1  4 16 64]\n",
    " [ 1  2  4  8]\n",
    " [ 1  3  9 27]]\n",
    "'''"
   ]
  }
 ],
 "metadata": {},
 "nbformat": 4,
 "nbformat_minor": 5
}
