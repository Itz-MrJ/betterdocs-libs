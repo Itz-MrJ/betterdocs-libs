{
 "cells": [
  {
   "cell_type": "code",
   "execution_count": null,
   "id": "a4515ee7",
   "metadata": {},
   "outputs": [],
   "source": [
    "import numpy as np\n",
    "result = np.vander(x=[4, 2, 3], N=4, increasing=False)\n",
    "print(result)\n",
    "'''\n",
    "Output:\n",
    "[[64 16  4  1]\n",
    " [ 8  4  2  1]\n",
    " [27  9  3  1]]\n",
    "'''"
   ]
  }
 ],
 "metadata": {},
 "nbformat": 4,
 "nbformat_minor": 5
}
