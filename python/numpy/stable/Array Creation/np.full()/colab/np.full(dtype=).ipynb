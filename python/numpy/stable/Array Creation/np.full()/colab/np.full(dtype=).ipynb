{
 "cells": [
  {
   "cell_type": "code",
   "execution_count": null,
   "id": "3df36464",
   "metadata": {},
   "outputs": [],
   "source": [
    "import numpy as np\n",
    "\n",
    "# 2x2 array filled with 4\n",
    "full_array = np.full((2, 2), 4, dtype=np.float64)\n",
    "print(full_array)\n",
    "'''\n",
    "[[4. 4.]\n",
    " [4. 4.]]\n",
    "'''"
   ]
  }
 ],
 "metadata": {},
 "nbformat": 4,
 "nbformat_minor": 5
}
