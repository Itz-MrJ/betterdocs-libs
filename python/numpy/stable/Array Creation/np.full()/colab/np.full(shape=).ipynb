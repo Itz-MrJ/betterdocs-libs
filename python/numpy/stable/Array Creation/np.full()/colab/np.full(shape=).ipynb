{
 "cells": [
  {
   "cell_type": "code",
   "execution_count": null,
   "id": "686faefd",
   "metadata": {},
   "outputs": [],
   "source": [
    "import numpy as np\n",
    "\n",
    "# 2x2 array filled with 0\n",
    "full_array = np.full(shape=(2, 2), fill_value=0)\n",
    "print(full_array)\n",
    "'''\n",
    "Output:\n",
    "[[0 0]\n",
    " [0 0]]\n",
    "'''"
   ]
  }
 ],
 "metadata": {},
 "nbformat": 4,
 "nbformat_minor": 5
}
