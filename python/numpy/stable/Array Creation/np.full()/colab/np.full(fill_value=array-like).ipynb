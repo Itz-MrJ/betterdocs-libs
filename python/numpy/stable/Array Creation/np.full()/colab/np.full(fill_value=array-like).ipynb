{
 "cells": [
  {
   "cell_type": "code",
   "execution_count": null,
   "id": "f4f75dca",
   "metadata": {},
   "outputs": [],
   "source": [
    "import numpy as np\n",
    "\n",
    "# 2x2 array filled with array-like\n",
    "full_array = np.full((2, 2), fill_value=[[1], [2]])\n",
    "print(full_array)\n",
    "'''\n",
    "[[1 1]\n",
    " [2 2]]\n",
    "'''"
   ]
  }
 ],
 "metadata": {},
 "nbformat": 4,
 "nbformat_minor": 5
}
