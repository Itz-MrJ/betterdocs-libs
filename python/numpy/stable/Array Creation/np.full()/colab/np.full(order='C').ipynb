{
 "cells": [
  {
   "cell_type": "code",
   "execution_count": null,
   "id": "bc08ef79",
   "metadata": {},
   "outputs": [],
   "source": [
    "import numpy as np\n",
    "\n",
    "# Create a 3x3 array\n",
    "array = np.full((3, 3),fill_value=[[1], [2], [3]], order='C')\n",
    "print(array)\n",
    "\n",
    "\"\"\"\n",
    "Output:\n",
    "[[1 1 1]\n",
    " [2 2 2]\n",
    " [3 3 3]]\n",
    "\"\"\"\n",
    "\n",
    "# Ravel with K-order\n",
    "ravel_c = array.ravel(order='K')\n",
    "print(ravel_c)  # Output: [1 1 1 2 2 2 3 3 3]"
   ]
  }
 ],
 "metadata": {},
 "nbformat": 4,
 "nbformat_minor": 5
}
