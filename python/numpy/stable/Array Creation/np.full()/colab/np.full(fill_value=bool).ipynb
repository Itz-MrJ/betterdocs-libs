{
 "cells": [
  {
   "cell_type": "code",
   "execution_count": null,
   "id": "3e972af4",
   "metadata": {},
   "outputs": [],
   "source": [
    "import numpy as np\n",
    "\n",
    "# 2x2 array filled with Boolean\n",
    "full_array = np.full((2, 2), fill_value=True)\n",
    "print(full_array)\n",
    "'''\n",
    "[[ True  True]\n",
    " [ True  True]]\n",
    "'''"
   ]
  }
 ],
 "metadata": {},
 "nbformat": 4,
 "nbformat_minor": 5
}
