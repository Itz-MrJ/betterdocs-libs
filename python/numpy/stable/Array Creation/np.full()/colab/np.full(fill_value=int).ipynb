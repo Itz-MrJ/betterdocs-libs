{
 "cells": [
  {
   "cell_type": "code",
   "execution_count": null,
   "id": "42847800",
   "metadata": {},
   "outputs": [],
   "source": [
    "import numpy as np\n",
    "\n",
    "# 2x2 array filled with 5\n",
    "full_array = np.full((2, 2), fill_value=5)\n",
    "print(full_array)\n",
    "'''\n",
    "Output:\n",
    "[[5 5]\n",
    " [5 5]]\n",
    "'''"
   ]
  }
 ],
 "metadata": {},
 "nbformat": 4,
 "nbformat_minor": 5
}
