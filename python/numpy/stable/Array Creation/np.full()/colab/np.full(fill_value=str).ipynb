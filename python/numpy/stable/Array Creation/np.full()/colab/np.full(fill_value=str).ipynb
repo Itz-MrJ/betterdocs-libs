{
 "cells": [
  {
   "cell_type": "code",
   "execution_count": null,
   "id": "04b56ddd",
   "metadata": {},
   "outputs": [],
   "source": [
    "import numpy as np\n",
    "\n",
    "# 2x2 array filled with 'better'\n",
    "full_array = np.full((2, 2), fill_value=\"better\")\n",
    "print(full_array)\n",
    "'''\n",
    "[['better' 'better']\n",
    " ['better' 'better']]\n",
    "'''"
   ]
  }
 ],
 "metadata": {},
 "nbformat": 4,
 "nbformat_minor": 5
}
