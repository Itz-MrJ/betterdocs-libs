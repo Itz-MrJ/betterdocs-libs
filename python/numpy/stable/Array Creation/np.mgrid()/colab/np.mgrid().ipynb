{
 "cells": [
  {
   "cell_type": "code",
   "execution_count": null,
   "id": "183712f0",
   "metadata": {},
   "outputs": [],
   "source": [
    "import numpy as np\n",
    "result = np.mgrid[0:2, 0:5]\n",
    "print(result)\n",
    "'''\n",
    "Output:\n",
    "[[[0 0 0 0 0]\n",
    "  [1 1 1 1 1]]\n",
    "\n",
    " [[0 1 2 3 4]\n",
    "  [0 1 2 3 4]]]\n",
    "'''"
   ]
  }
 ],
 "metadata": {},
 "nbformat": 4,
 "nbformat_minor": 5
}
