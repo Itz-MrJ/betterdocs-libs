{
 "cells": [
  {
   "cell_type": "code",
   "execution_count": null,
   "id": "794a3a98",
   "metadata": {},
   "outputs": [],
   "source": [
    "import numpy as np\n",
    "\n",
    "a = np.ones_like([[1, 2], [3, 4]], shape=(2,1))\n",
    "print(a)\n",
    "'''\n",
    "Output:\n",
    "[[1]\n",
    " [1]]\n",
    "'''"
   ]
  }
 ],
 "metadata": {},
 "nbformat": 4,
 "nbformat_minor": 5
}
