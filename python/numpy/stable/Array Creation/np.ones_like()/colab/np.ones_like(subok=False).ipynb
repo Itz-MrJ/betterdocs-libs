{
 "cells": [
  {
   "cell_type": "code",
   "execution_count": null,
   "id": "dfa78ccf",
   "metadata": {},
   "outputs": [],
   "source": [
    "import numpy as np\n",
    "\n",
    "class MyArray(np.ndarray):\n",
    "    pass  # Just a subclass for demonstration\n",
    "\n",
    "# Create an instance of MyArray\n",
    "my_array = np.array([[1, 2, 3], [4, 5, 6]]).view(MyArray)\n",
    "print(\"Original type:\", type(my_array))  # Output: <class '__main__.MyArray'>\n",
    "\n",
    "# Using np.ones_like with subok=False\n",
    "result_subok = np.ones_like(my_array, subok=False)\n",
    "print(\"With subok=False:\", type(result_subok))  # Output: <class 'numpy.ndarray'>"
   ]
  }
 ],
 "metadata": {},
 "nbformat": 4,
 "nbformat_minor": 5
}
