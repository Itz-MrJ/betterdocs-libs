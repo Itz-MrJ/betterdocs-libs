{
 "cells": [
  {
   "cell_type": "code",
   "execution_count": null,
   "id": "0bf9a638",
   "metadata": {},
   "outputs": [],
   "source": [
    "import numpy as np\n",
    "\n",
    "a = np.array([[1, 2], [3, 4]])\n",
    "ones_arr = np.ones_like(a, dtype=np.float32)\n",
    "print(ones_arr)\n",
    "'''\n",
    "Output:\n",
    "[[1. 1.]\n",
    " [1. 1.]]\n",
    "'''"
   ]
  }
 ],
 "metadata": {},
 "nbformat": 4,
 "nbformat_minor": 5
}
