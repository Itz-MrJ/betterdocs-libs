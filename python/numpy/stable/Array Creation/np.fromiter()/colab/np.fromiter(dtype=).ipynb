{
 "cells": [
  {
   "cell_type": "code",
   "execution_count": null,
   "id": "c1a1bc9a",
   "metadata": {},
   "outputs": [],
   "source": [
    "import numpy as np\n",
    "\n",
    "arr_from_iter = np.fromiter(range(5), dtype=np.float32)\n",
    "print(arr_from_iter) # Output: [0. 1. 2. 3. 4.]"
   ]
  }
 ],
 "metadata": {},
 "nbformat": 4,
 "nbformat_minor": 5
}
