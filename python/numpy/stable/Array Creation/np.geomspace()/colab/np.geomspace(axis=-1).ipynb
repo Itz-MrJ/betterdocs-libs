{
 "cells": [
  {
   "cell_type": "code",
   "execution_count": null,
   "id": "7dcd12ca",
   "metadata": {},
   "outputs": [],
   "source": [
    "import numpy as np\n",
    "\n",
    "arr = np.geomspace([1,2], [4,5], num=5, axis=-1)\n",
    "print(arr)\n",
    "'''\n",
    "Output: \n",
    "[[1.         1.41421356 2.         2.82842712 4.        ]\n",
    " [2.         2.51486686 3.16227766 3.97635364 5.        ]]\n",
    "'''"
   ]
  }
 ],
 "metadata": {},
 "nbformat": 4,
 "nbformat_minor": 5
}
