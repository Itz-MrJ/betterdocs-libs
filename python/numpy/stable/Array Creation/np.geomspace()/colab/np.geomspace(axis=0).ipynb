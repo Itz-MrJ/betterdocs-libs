{
 "cells": [
  {
   "cell_type": "code",
   "execution_count": null,
   "id": "227009d2",
   "metadata": {},
   "outputs": [],
   "source": [
    "import numpy as np\n",
    "\n",
    "arr = np.geomspace([1,2], [4,5], num=5, axis=0)\n",
    "print(arr)\n",
    "'''\n",
    "Output: \n",
    "[[1.         2.        ]\n",
    " [1.41421356 2.51486686]\n",
    " [2.         3.16227766]\n",
    " [2.82842712 3.97635364]\n",
    " [4.         5.        ]]\n",
    "'''"
   ]
  }
 ],
 "metadata": {},
 "nbformat": 4,
 "nbformat_minor": 5
}
