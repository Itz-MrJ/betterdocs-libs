{
 "cells": [
  {
   "cell_type": "code",
   "execution_count": null,
   "id": "04d13c82",
   "metadata": {},
   "outputs": [],
   "source": [
    "import numpy as np\n",
    "\n",
    "# Generate 10 values logarithmically spaced between 1 and 10\n",
    "result = np.geomspace(start=1, stop=10, num=10)\n",
    "print(result) \n",
    "'''\n",
    "Output: \n",
    "[ 1.          1.29154967  1.66810054  2.15443469  2.7825594   3.59381366\n",
    "  4.64158883  5.9948425   7.74263683 10.        ]\n",
    "'''"
   ]
  }
 ],
 "metadata": {},
 "nbformat": 4,
 "nbformat_minor": 5
}
