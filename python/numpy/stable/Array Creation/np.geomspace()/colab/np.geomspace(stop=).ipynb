{
 "cells": [
  {
   "cell_type": "code",
   "execution_count": null,
   "id": "53e5e547",
   "metadata": {},
   "outputs": [],
   "source": [
    "import numpy as np\n",
    "\n",
    "# Generate 5 values logarithmically spaced between 1 and 10\n",
    "result = np.geomspace(start=1, stop=10, num=5)\n",
    "print(result) #Output: [ 1.          1.77827941  3.16227766  5.62341325 10.        ]"
   ]
  }
 ],
 "metadata": {},
 "nbformat": 4,
 "nbformat_minor": 5
}
