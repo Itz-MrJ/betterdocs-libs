{
 "cells": [
  {
   "cell_type": "code",
   "execution_count": null,
   "id": "ad5a034d",
   "metadata": {},
   "outputs": [],
   "source": [
    "import numpy as np\n",
    "\n",
    "# Generate 5 values logarithmically spaced between 1 and 10\n",
    "result = np.geomspace(start=1, stop=10, num=5, endpoint=True)\n",
    "print(result) \n",
    "'''\n",
    "Output: \n",
    "[ 1.          1.77827941  3.16227766  5.62341325 10.        ]\n",
    "'''"
   ]
  }
 ],
 "metadata": {},
 "nbformat": 4,
 "nbformat_minor": 5
}
