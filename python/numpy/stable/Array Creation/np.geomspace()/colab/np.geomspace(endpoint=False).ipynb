{
 "cells": [
  {
   "cell_type": "code",
   "execution_count": null,
   "id": "d8f5b76d",
   "metadata": {},
   "outputs": [],
   "source": [
    "import numpy as np\n",
    "\n",
    "# Generate 5 values logarithmically spaced between 1 and 10\n",
    "result = np.geomspace(start=1, stop=10, num=5, endpoint=False)\n",
    "print(result) \n",
    "'''\n",
    "Output: \n",
    "[1.         1.58489319 2.51188643 3.98107171 6.30957344]\n",
    "'''"
   ]
  }
 ],
 "metadata": {},
 "nbformat": 4,
 "nbformat_minor": 5
}
