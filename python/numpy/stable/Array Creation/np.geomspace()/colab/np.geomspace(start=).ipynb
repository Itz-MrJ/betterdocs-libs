{
 "cells": [
  {
   "cell_type": "code",
   "execution_count": null,
   "id": "23b100b2",
   "metadata": {},
   "outputs": [],
   "source": [
    "import numpy as np\n",
    "\n",
    "# Generate 5 values logarithmically spaced between 1 and 1000\n",
    "result = np.geomspace(start=1, stop=1000, num=5)\n",
    "print(result) #Output: [   1.            5.62341325   31.6227766   177.827941   1000.        ]"
   ]
  }
 ],
 "metadata": {},
 "nbformat": 4,
 "nbformat_minor": 5
}
