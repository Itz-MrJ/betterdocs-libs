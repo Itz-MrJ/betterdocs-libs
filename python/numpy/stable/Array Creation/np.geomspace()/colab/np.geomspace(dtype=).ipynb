{
 "cells": [
  {
   "cell_type": "code",
   "execution_count": null,
   "id": "ea23f08a",
   "metadata": {},
   "outputs": [],
   "source": [
    "import numpy as np\n",
    "\n",
    "# Generate 5 values logarithmically spaced between 1 and 10\n",
    "result = np.geomspace(start=1, stop=10, num=5, dtype=np.int32)\n",
    "print(result) \n",
    "'''\n",
    "Output: \n",
    "[ 1  1  3  5 10]\n",
    "'''"
   ]
  }
 ],
 "metadata": {},
 "nbformat": 4,
 "nbformat_minor": 5
}
