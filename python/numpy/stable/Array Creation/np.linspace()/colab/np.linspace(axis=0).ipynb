{
 "cells": [
  {
   "cell_type": "code",
   "execution_count": null,
   "id": "fd897402",
   "metadata": {},
   "outputs": [],
   "source": [
    "import numpy as np\n",
    "\n",
    "linspace_axis = np.linspace([1,2], [4,5], num=5, axis=0)\n",
    "print(linspace_axis)\n",
    "'''\n",
    "Output:\n",
    "[[1.   2.  ]\n",
    " [1.75 2.75]\n",
    " [2.5  3.5 ]\n",
    " [3.25 4.25]\n",
    " [4.   5.  ]]\n",
    "'''"
   ]
  }
 ],
 "metadata": {},
 "nbformat": 4,
 "nbformat_minor": 5
}
