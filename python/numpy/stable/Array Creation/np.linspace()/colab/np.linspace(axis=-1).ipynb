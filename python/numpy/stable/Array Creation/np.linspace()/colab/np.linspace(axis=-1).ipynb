{
 "cells": [
  {
   "cell_type": "code",
   "execution_count": null,
   "id": "ee57cb39",
   "metadata": {},
   "outputs": [],
   "source": [
    "import numpy as np\n",
    "\n",
    "linspace_axis = np.linspace([1,2], [4,5], num=5, axis=-1)\n",
    "print(linspace_axis)\n",
    "'''\n",
    "Output:\n",
    "[[1.   1.75 2.5  3.25 4.  ]\n",
    " [2.   2.75 3.5  4.25 5.  ]]\n",
    "'''"
   ]
  }
 ],
 "metadata": {},
 "nbformat": 4,
 "nbformat_minor": 5
}
