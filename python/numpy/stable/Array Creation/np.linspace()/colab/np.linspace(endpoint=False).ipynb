{
 "cells": [
  {
   "cell_type": "code",
   "execution_count": null,
   "id": "b5170219",
   "metadata": {},
   "outputs": [],
   "source": [
    "import numpy as np\n",
    "linspace_array = np.linspace(start=0, stop=1, num=5, endpoint=True)\n",
    "# Both 'start' & 'stop' are included\n",
    "print(linspace_array)\n",
    "'''\n",
    "Output:\n",
    "[0.   0.25 0.5  0.75 1.  ]\n",
    "'''"
   ]
  }
 ],
 "metadata": {},
 "nbformat": 4,
 "nbformat_minor": 5
}
