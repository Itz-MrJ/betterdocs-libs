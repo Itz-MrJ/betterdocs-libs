{
 "cells": [
  {
   "cell_type": "code",
   "execution_count": null,
   "id": "626fcbe6",
   "metadata": {},
   "outputs": [],
   "source": [
    "import numpy as np\n",
    "linspace_array = np.linspace(start=0, stop=1, num=5, retstep=True)\n",
    "# Both 'start' & 'stop' are included\n",
    "print(linspace_array)\n",
    "'''\n",
    "Output:\n",
    "(array([0.  , 0.25, 0.5 , 0.75, 1.  ]), 0.25)\n",
    "'''"
   ]
  }
 ],
 "metadata": {},
 "nbformat": 4,
 "nbformat_minor": 5
}
