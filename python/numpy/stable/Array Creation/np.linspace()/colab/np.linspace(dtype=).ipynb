{
 "cells": [
  {
   "cell_type": "code",
   "execution_count": null,
   "id": "1263b80b",
   "metadata": {},
   "outputs": [],
   "source": [
    "import numpy as np\n",
    "linspace_array = np.linspace(start=0, stop=4, num=5, dtype=np.int32)\n",
    "# Both 'start' & 'stop' are included\n",
    "print(linspace_array)\n",
    "'''\n",
    "Output:\n",
    "[0 1 2 3 4]\n",
    "'''"
   ]
  }
 ],
 "metadata": {},
 "nbformat": 4,
 "nbformat_minor": 5
}
