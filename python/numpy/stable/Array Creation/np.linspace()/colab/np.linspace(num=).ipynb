{
 "cells": [
  {
   "cell_type": "code",
   "execution_count": null,
   "id": "670d11a3",
   "metadata": {},
   "outputs": [],
   "source": [
    "import numpy as np\n",
    "linspace_array = np.linspace(start=0, stop=2, num=5)\n",
    "# Both 'start' & 'stop' are included as endpoint=True\n",
    "print(linspace_array)\n",
    "'''\n",
    "Output:\n",
    "[0.  0.5 1.  1.5 2. ]\n",
    "'''"
   ]
  }
 ],
 "metadata": {},
 "nbformat": 4,
 "nbformat_minor": 5
}
