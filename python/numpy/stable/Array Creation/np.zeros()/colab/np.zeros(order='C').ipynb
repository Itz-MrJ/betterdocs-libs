{
 "cells": [
  {
   "cell_type": "code",
   "execution_count": null,
   "id": "e7f850e8",
   "metadata": {},
   "outputs": [],
   "source": [
    "import numpy as np\n",
    "\n",
    "# Create a 2x3 array\n",
    "array = np.zeros([2, 3], order='C')\n",
    "print(array)\n",
    "\n",
    "\"\"\"\n",
    "Output:\n",
    "[[0. 0. 0.]\n",
    " [0. 0. 0.]]\n",
    "\"\"\"\n",
    "\n",
    "# Ravel with K-order\n",
    "ravel_c = array.ravel(order='K')\n",
    "print(ravel_c)  # Output: [0. 0. 0. 0. 0. 0.]"
   ]
  }
 ],
 "metadata": {},
 "nbformat": 4,
 "nbformat_minor": 5
}
