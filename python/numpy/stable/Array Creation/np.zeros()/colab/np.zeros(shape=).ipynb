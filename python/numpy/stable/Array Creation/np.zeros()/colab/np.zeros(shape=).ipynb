{
 "cells": [
  {
   "cell_type": "code",
   "execution_count": null,
   "id": "f7889d1c",
   "metadata": {},
   "outputs": [],
   "source": [
    "import numpy as np\n",
    "# (row, col) or [row, col] to be fed as shape\n",
    "zeros_array = np.zeros(shape=[2, 3])\n",
    "print(zeros_array)\n",
    "'''\n",
    "Output:\n",
    "[[0. 0. 0.]\n",
    " [0. 0. 0.]]\n",
    "'''"
   ]
  }
 ],
 "metadata": {},
 "nbformat": 4,
 "nbformat_minor": 5
}
