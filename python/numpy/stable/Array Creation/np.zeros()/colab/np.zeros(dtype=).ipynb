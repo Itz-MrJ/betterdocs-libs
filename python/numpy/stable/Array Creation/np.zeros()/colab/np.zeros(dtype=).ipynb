{
 "cells": [
  {
   "cell_type": "code",
   "execution_count": null,
   "id": "07ec83dd",
   "metadata": {},
   "outputs": [],
   "source": [
    "import numpy as np\n",
    "# (row, col) or [row, col] to be fed as shape\n",
    "zeros_array = np.zeros(shape=[2, 3], dtype=np.int8)\n",
    "print(zeros_array.dtype) # int8"
   ]
  }
 ],
 "metadata": {},
 "nbformat": 4,
 "nbformat_minor": 5
}
