{
 "cells": [
  {
   "cell_type": "code",
   "execution_count": null,
   "id": "a64b630a",
   "metadata": {},
   "outputs": [],
   "source": [
    "import numpy as np\n",
    "\n",
    "buffer = bytes([1,2,3,4]) # Output: b'\u0001\u0002\u0003\u0004'\n",
    "arr_from_buffer = np.frombuffer(buffer=buffer, dtype=np.int8, count=2)\n",
    "print(arr_from_buffer) # Output: [1 2]"
   ]
  }
 ],
 "metadata": {},
 "nbformat": 4,
 "nbformat_minor": 5
}
