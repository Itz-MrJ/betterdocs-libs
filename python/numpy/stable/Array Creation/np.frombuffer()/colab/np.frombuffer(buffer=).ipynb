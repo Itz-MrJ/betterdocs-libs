{
 "cells": [
  {
   "cell_type": "code",
   "execution_count": null,
   "id": "e7a29d31",
   "metadata": {},
   "outputs": [],
   "source": [
    "import numpy as np\n",
    "\n",
    "buffer = bytes([1,2,3,4]) # Output: b'\u0001\u0002\u0003\u0004'\n",
    "arr_from_buffer = np.frombuffer(buffer=buffer, dtype=np.uint8)\n",
    "print(arr_from_buffer) # Output: [1 2 3 4]"
   ]
  }
 ],
 "metadata": {},
 "nbformat": 4,
 "nbformat_minor": 5
}
