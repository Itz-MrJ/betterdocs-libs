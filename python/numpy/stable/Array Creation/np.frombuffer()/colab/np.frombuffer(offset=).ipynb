{
 "cells": [
  {
   "cell_type": "code",
   "execution_count": null,
   "id": "558385ab",
   "metadata": {},
   "outputs": [],
   "source": [
    "import numpy as np\n",
    "\n",
    "buffer = bytes([1,2,3,4]) # Output: b'\u0001\u0002\u0003\u0004'\n",
    "arr_from_buffer = np.frombuffer(buffer=buffer, dtype=np.int8, count=2, offset=2)\n",
    "print(arr_from_buffer) # Output: [3 4]"
   ]
  }
 ],
 "metadata": {},
 "nbformat": 4,
 "nbformat_minor": 5
}
