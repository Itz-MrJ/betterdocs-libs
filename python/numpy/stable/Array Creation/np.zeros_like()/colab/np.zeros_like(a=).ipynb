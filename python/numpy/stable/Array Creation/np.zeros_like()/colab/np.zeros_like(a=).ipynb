{
 "cells": [
  {
   "cell_type": "code",
   "execution_count": null,
   "id": "fadfb709",
   "metadata": {},
   "outputs": [],
   "source": [
    "import numpy as np\n",
    "\n",
    "a = np.array([[1, 2], [3, 4]])\n",
    "arr = np.zeros_like(a=a)\n",
    "print(arr)\n",
    "'''\n",
    "Output:\n",
    "[[0 0]\n",
    " [0 0]]\n",
    "'''"
   ]
  }
 ],
 "metadata": {},
 "nbformat": 4,
 "nbformat_minor": 5
}
