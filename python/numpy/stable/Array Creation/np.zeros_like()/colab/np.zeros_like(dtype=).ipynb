{
 "cells": [
  {
   "cell_type": "code",
   "execution_count": null,
   "id": "02214d51",
   "metadata": {},
   "outputs": [],
   "source": [
    "import numpy as np\n",
    "\n",
    "a = np.array([[1, 2], [3, 4]])\n",
    "arr = np.zeros_like(a, dtype=np.float32)\n",
    "print(arr)\n",
    "'''\n",
    "Output:\n",
    "[[0. 0.]\n",
    " [0. 0.]]\n",
    "'''"
   ]
  }
 ],
 "metadata": {},
 "nbformat": 4,
 "nbformat_minor": 5
}
