{
 "cells": [
  {
   "cell_type": "code",
   "execution_count": null,
   "id": "4c9bddd4",
   "metadata": {},
   "outputs": [],
   "source": [
    "import numpy as np\n",
    "\n",
    "a = np.zeros_like([[1, 2], [3, 4]], shape=(3,1))\n",
    "print(a)\n",
    "'''\n",
    "Output:\n",
    "[[0]\n",
    " [0]\n",
    " [0]]\n",
    "'''"
   ]
  }
 ],
 "metadata": {},
 "nbformat": 4,
 "nbformat_minor": 5
}
