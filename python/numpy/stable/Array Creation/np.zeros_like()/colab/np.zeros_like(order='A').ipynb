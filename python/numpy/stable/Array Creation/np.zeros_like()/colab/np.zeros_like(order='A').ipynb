{
 "cells": [
  {
   "cell_type": "code",
   "execution_count": null,
   "id": "624c84f4",
   "metadata": {},
   "outputs": [],
   "source": [
    "import numpy as np\n",
    "\n",
    "# Create a zeros_like 2x2 array\n",
    "a = np.array([[1, 2], [2, 5]])\n",
    "array = np.zeros_like(a=a, order='A')\n",
    "print(array)\n",
    "\n",
    "\"\"\"\n",
    "Output:\n",
    "[[0 0]\n",
    " [0 0]]\n",
    "\"\"\"\n",
    "\n",
    "# Ravel with K-order\n",
    "ravel_c = array.ravel(order='K')\n",
    "print(ravel_c)  # Output: [0 0 0 0]"
   ]
  }
 ],
 "metadata": {},
 "nbformat": 4,
 "nbformat_minor": 5
}
