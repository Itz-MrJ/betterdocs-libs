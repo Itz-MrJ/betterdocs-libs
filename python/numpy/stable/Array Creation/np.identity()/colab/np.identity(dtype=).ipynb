{
 "cells": [
  {
   "cell_type": "code",
   "execution_count": null,
   "id": "c8ef4f3f",
   "metadata": {},
   "outputs": [],
   "source": [
    "import numpy as np\n",
    "\n",
    "identity_matrix = np.identity(n=3, dtype=np.int32)\n",
    "print(identity_matrix)\n",
    "'''\n",
    "Output:\n",
    "[[1 0 0]\n",
    " [0 1 0]\n",
    " [0 0 1]]\n",
    "'''"
   ]
  }
 ],
 "metadata": {},
 "nbformat": 4,
 "nbformat_minor": 5
}
