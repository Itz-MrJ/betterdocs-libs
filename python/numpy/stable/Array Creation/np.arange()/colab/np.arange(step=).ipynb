{
 "cells": [
  {
   "cell_type": "code",
   "execution_count": null,
   "id": "f393ddc9",
   "metadata": {},
   "outputs": [],
   "source": [
    "import numpy as np\n",
    "range_array = np.arange(start=-5, stop=0)\n",
    "# Including 'start' and excluding 'stop'\n",
    "print(range_array)\n",
    "'''\n",
    "Output:\n",
    "[-5 -4 -3 -2 -1]\n",
    "'''"
   ]
  }
 ],
 "metadata": {},
 "nbformat": 4,
 "nbformat_minor": 5
}
