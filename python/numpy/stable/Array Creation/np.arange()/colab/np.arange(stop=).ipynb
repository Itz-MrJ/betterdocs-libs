{
 "cells": [
  {
   "cell_type": "code",
   "execution_count": null,
   "id": "7ea5297c",
   "metadata": {},
   "outputs": [],
   "source": [
    "import numpy as np\n",
    "range_array = np.arange(start=1, stop=10, step=2)\n",
    "# Including 'start' and excluding 'stop'\n",
    "print(range_array)\n",
    "'''\n",
    "Output:\n",
    "[1 3 5 7 9]\n",
    "'''"
   ]
  }
 ],
 "metadata": {},
 "nbformat": 4,
 "nbformat_minor": 5
}
