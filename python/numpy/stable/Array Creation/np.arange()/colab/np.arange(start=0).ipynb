{
 "cells": [
  {
   "cell_type": "code",
   "execution_count": null,
   "id": "3b68349b",
   "metadata": {},
   "outputs": [],
   "source": [
    "import numpy as np\n",
    "# Range from 0 (default) to 10 with step 1 (default)\n",
    "range_array = np.arange(stop=10)\n",
    "# Including 'start' and excluding 'stop'\n",
    "print(range_array)\n",
    "'''\n",
    "Output:\n",
    "[0 1 2 3 4 5 6 7 8 9]\n",
    "'''"
   ]
  }
 ],
 "metadata": {},
 "nbformat": 4,
 "nbformat_minor": 5
}
