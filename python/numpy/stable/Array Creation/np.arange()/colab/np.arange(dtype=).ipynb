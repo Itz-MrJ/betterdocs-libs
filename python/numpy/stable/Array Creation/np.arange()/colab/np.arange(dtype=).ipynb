{
 "cells": [
  {
   "cell_type": "code",
   "execution_count": null,
   "id": "19080b8e",
   "metadata": {},
   "outputs": [],
   "source": [
    "import numpy as np\n",
    "range_array = np.arange(start=-5, stop=0, dtype=np.float64)\n",
    "# Including 'start' and excluding 'stop'\n",
    "print(range_array)\n",
    "print(range_array.dtype)\n",
    "'''\n",
    "Output:\n",
    "[-5. -4. -3. -2. -1.]\n",
    "float64\n",
    "'''"
   ]
  }
 ],
 "metadata": {},
 "nbformat": 4,
 "nbformat_minor": 5
}
