{
 "cells": [
  {
   "cell_type": "code",
   "execution_count": null,
   "id": "95824f0e",
   "metadata": {},
   "outputs": [],
   "source": [
    "import numpy as np\n",
    "\n",
    "a = np.full_like([[1, 2], [3, 4]], fill_value=[0, 8], shape=(3,2))\n",
    "print(a)\n",
    "'''\n",
    "Output:\n",
    "[[0 8]\n",
    " [0 8]\n",
    " [0 8]]\n",
    "'''"
   ]
  }
 ],
 "metadata": {},
 "nbformat": 4,
 "nbformat_minor": 5
}
