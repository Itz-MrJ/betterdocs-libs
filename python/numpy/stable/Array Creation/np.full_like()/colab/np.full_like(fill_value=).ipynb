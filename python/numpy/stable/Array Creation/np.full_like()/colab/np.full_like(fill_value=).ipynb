{
 "cells": [
  {
   "cell_type": "code",
   "execution_count": null,
   "id": "541369d2",
   "metadata": {},
   "outputs": [],
   "source": [
    "import numpy as np\n",
    "\n",
    "a = np.array([[1, 2], [3, 4]])\n",
    "full_arr = np.full_like(a=a, fill_value=[1, 0])\n",
    "print(full_arr)\n",
    "'''\n",
    "Output:\n",
    "[[1 0]\n",
    " [1 0]]\n",
    "'''"
   ]
  }
 ],
 "metadata": {},
 "nbformat": 4,
 "nbformat_minor": 5
}
