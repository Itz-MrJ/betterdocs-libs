{
 "cells": [
  {
   "cell_type": "code",
   "execution_count": null,
   "id": "e9f64b7c",
   "metadata": {},
   "outputs": [],
   "source": [
    "import numpy as np\n",
    "\n",
    "# Create a full_like 2x2 array\n",
    "a = np.array([[1, 2], [2, 5]])\n",
    "array = np.full_like(a=a, fill_value=10, order='A')\n",
    "print(array)\n",
    "\n",
    "\"\"\"\n",
    "Output:\n",
    "[[10 10]\n",
    " [10 10]]\n",
    "\"\"\"\n",
    "\n",
    "# Ravel with K-order\n",
    "ravel_c = array.ravel(order='K')\n",
    "print(ravel_c)  # Output: [10 10 10 10]"
   ]
  }
 ],
 "metadata": {},
 "nbformat": 4,
 "nbformat_minor": 5
}
