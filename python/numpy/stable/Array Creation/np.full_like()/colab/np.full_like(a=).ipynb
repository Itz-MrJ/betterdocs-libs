{
 "cells": [
  {
   "cell_type": "code",
   "execution_count": null,
   "id": "4d3a1e4a",
   "metadata": {},
   "outputs": [],
   "source": [
    "import numpy as np\n",
    "\n",
    "a = np.array([[1, 2], [3, 4]])\n",
    "arr = np.full_like(a=a, fill_value=20)\n",
    "print(arr)\n",
    "'''\n",
    "Output:\n",
    "[[20 20]\n",
    " [20 20]]\n",
    "'''"
   ]
  }
 ],
 "metadata": {},
 "nbformat": 4,
 "nbformat_minor": 5
}
