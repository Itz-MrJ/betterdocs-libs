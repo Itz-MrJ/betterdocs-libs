{
 "cells": [
  {
   "cell_type": "code",
   "execution_count": null,
   "id": "fbd51040",
   "metadata": {},
   "outputs": [],
   "source": [
    "import numpy as np\n",
    "\n",
    "class MyArray(np.ndarray):\n",
    "    pass  # Just a subclass for demonstration\n",
    "\n",
    "# Create an instance of MyArray\n",
    "my_array = np.array([[1, 2, 3], [4, 5, 6]]).view(MyArray)\n",
    "print(\"Original type:\", type(my_array))  # Output: <class '__main__.MyArray'>\n",
    "\n",
    "# Using np.full_like with subok=True\n",
    "result_subok = np.full_like(my_array,fill_value=True, subok=True)\n",
    "print(\"With subok=True:\", type(result_subok))  # Output: <class '__main__.MyArray'>"
   ]
  }
 ],
 "metadata": {},
 "nbformat": 4,
 "nbformat_minor": 5
}
