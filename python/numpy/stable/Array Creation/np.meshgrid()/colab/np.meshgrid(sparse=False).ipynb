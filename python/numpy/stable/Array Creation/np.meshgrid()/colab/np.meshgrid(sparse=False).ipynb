{
 "cells": [
  {
   "cell_type": "code",
   "execution_count": null,
   "id": "13470f3f",
   "metadata": {},
   "outputs": [],
   "source": [
    "import numpy as np\n",
    "x = np.array([1, 2, 3])\n",
    "y = np.array([4, 5])\n",
    "a, b = np.meshgrid(x, y, sparse=False)\n",
    "print(a)\n",
    "print(b)\n",
    "'''\n",
    "Output:\n",
    "[[1 2 3]\n",
    " [1 2 3]]\n",
    "[[4 4 4]\n",
    " [5 5 5]]\n",
    "'''"
   ]
  }
 ],
 "metadata": {},
 "nbformat": 4,
 "nbformat_minor": 5
}
