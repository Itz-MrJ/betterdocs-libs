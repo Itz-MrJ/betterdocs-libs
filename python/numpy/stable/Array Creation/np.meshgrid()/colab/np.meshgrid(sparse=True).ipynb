{
 "cells": [
  {
   "cell_type": "code",
   "execution_count": null,
   "id": "914abd08",
   "metadata": {},
   "outputs": [],
   "source": [
    "import numpy as np\n",
    "x = np.array([1, 2, 3])\n",
    "y = np.array([4, 5])\n",
    "a, b = np.meshgrid(x, y, sparse=True)\n",
    "print(a)\n",
    "print(b)\n",
    "'''\n",
    "Output:\n",
    "[[1 2 3]]\n",
    "[[4]\n",
    " [5]]\n",
    "'''"
   ]
  }
 ],
 "metadata": {},
 "nbformat": 4,
 "nbformat_minor": 5
}
