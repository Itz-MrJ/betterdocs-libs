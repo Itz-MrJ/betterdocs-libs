{
 "cells": [
  {
   "cell_type": "code",
   "execution_count": null,
   "id": "1b265e67",
   "metadata": {},
   "outputs": [],
   "source": [
    "import numpy as np\n",
    "result = np.tri(N=3)\n",
    "print(result)\n",
    "'''\n",
    "Output:\n",
    "[[1. 0. 0.]\n",
    " [1. 1. 0.]\n",
    " [1. 1. 1.]]\n",
    "'''"
   ]
  }
 ],
 "metadata": {},
 "nbformat": 4,
 "nbformat_minor": 5
}
