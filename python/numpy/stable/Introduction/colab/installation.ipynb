{
 "cells": [
  {
   "cell_type": "code",
   "execution_count": null,
   "id": "24fd6114",
   "metadata": {},
   "outputs": [],
   "source": [
    "import numpy as np\n",
    "array = np.array(object=[1, 2, 3, 4, 5, 6, 7, 8, 9, 0])\n",
    "print(array)\n",
    "#Output: [1, 2, 3, 4, 5, 6, 7, 8, 9, 0]"
   ]
  }
 ],
 "metadata": {},
 "nbformat": 4,
 "nbformat_minor": 5
}
