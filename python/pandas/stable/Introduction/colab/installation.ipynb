{
 "cells": [
  {
   "cell_type": "code",
   "execution_count": null,
   "metadata": {},
   "outputs": [],
   "source": [
    "import pandas as pd\n",
    "\n",
    "# Create a DataFrame with some sample data\n",
    "data = {\n",
    "    'Name': ['NumPy', 'Pandas', 'Matplotlib'],\n",
    "    'Count': [0, 1, 2],\n",
    "    'Remarks': ['Better', 'Docs', '#justbetter']\n",
    "}\n",
    "df = pd.DataFrame(data)\n",
    "print(df)\n",
    "'''\n",
    "Output:\n",
    "|index|Name      |Count|Remarks    |\n",
    "|-----|----------|-----|-----------|\n",
    "|0    |NumPy     |0    |Better     |\n",
    "|1    |Pandas    |1    |Docs       |\n",
    "|2    |Matplotlib|2    |#justbetter|\n",
    "'''"
   ]
  }
 ],
 "metadata": {
  "language_info": {
   "name": "python"
  }
 },
 "nbformat": 4,
 "nbformat_minor": 2
}
