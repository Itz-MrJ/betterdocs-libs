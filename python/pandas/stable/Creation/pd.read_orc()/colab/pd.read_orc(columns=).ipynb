{
 "cells": [
  {
   "cell_type": "code",
   "execution_count": null,
   "id": "7ada38d7",
   "metadata": {},
   "outputs": [],
   "source": [
    "import pandas as pd\n",
    "\n",
    "# Create a sample DataFrame\n",
    "data = {\n",
    "    'id': [1, 2, 3, 4, 5],\n",
    "    'name': ['Alice', 'Bob', 'Chloe', 'David', 'Eva'],\n",
    "    'age': [25, 30, 35, 40, 45],\n",
    "    'department': ['HR', 'Engineering', 'Marketing', 'Engineering', 'HR']\n",
    "}\n",
    "\n",
    "df = pd.DataFrame(data)\n",
    "df.to_orc('data.orc')\n",
    "\n",
    "# Read the data back from the ORC file\n",
    "df_read = pd.read_orc(path='data.orc', columns=[\"id\", \"name\"])\n",
    "print(df_read)\n",
    "'''\n",
    "Output:\n",
    "   id   name\n",
    "0   1  Alice\n",
    "1   2    Bob\n",
    "2   3  Chloe\n",
    "3   4  David\n",
    "4   5    Eva\n",
    "'''"
   ]
  }
 ],
 "metadata": {},
 "nbformat": 4,
 "nbformat_minor": 5
}
