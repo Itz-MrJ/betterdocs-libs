{
 "cells": [
  {
   "cell_type": "code",
   "execution_count": null,
   "id": "39912954",
   "metadata": {},
   "outputs": [],
   "source": [
    "import pandas as pd\n",
    "\n",
    "# Create a sample DataFrame\n",
    "data = {\n",
    "    'id': [1, 2, 3, 4, 5],\n",
    "    'name': ['Alice', 'Bob', 'Chloe', 'David', 'Eva'],\n",
    "    'age': [25, 30, 35, 40, 45],\n",
    "    'department': ['HR', 'Engineering', 'Marketing', 'Engineering', 'HR']\n",
    "}\n",
    "\n",
    "df = pd.DataFrame(data)\n",
    "df.to_orc('data.orc')\n",
    "\n",
    "# Read the data back from the ORC file\n",
    "df_read = pd.read_orc(path='data.orc')\n",
    "print(df_read)\n",
    "'''\n",
    "Output:\n",
    "   id   name  age   department\n",
    "0   1  Alice   25           HR\n",
    "1   2    Bob   30  Engineering\n",
    "2   3  Chloe   35    Marketing\n",
    "3   4  David   40  Engineering\n",
    "4   5    Eva   45           HR\n",
    "'''"
   ]
  }
 ],
 "metadata": {},
 "nbformat": 4,
 "nbformat_minor": 5
}
