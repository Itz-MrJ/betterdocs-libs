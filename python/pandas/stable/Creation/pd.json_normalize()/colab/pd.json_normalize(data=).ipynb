{
 "cells": [
  {
   "cell_type": "code",
   "execution_count": null,
   "id": "0ad7b7dc",
   "metadata": {},
   "outputs": [],
   "source": [
    "import pandas as pd\n",
    "import json\n",
    "\n",
    "# Sample data\n",
    "nested_json = [\n",
    "    {\n",
    "        \"id\": 1,\n",
    "        \"name\": \"Alice\",\n",
    "        \"info\": {\"age\": 25, \"city\": \"New York\"},\n",
    "        \"hobbies\": [\"reading\", \"hiking\"],\n",
    "    },\n",
    "    {\n",
    "        \"id\": 2,\n",
    "        \"name\": \"Bob\",\n",
    "        \"info\": {\"age\": 30, \"city\": \"San Francisco\"},\n",
    "        \"hobbies\": [\"cooking\"],\n",
    "    },\n",
    "]\n",
    "\n",
    "# Read the JSON data\n",
    "df = pd.json_normalize(data=nested_json)\n",
    "print(df)\n",
    "'''\n",
    "Output:\n",
    "   id   name            hobbies  info.age      info.city\n",
    "0   1  Alice  [reading, hiking]        25       New York\n",
    "1   2    Bob          [cooking]        30  San Francisco\n",
    "'''"
   ]
  }
 ],
 "metadata": {},
 "nbformat": 4,
 "nbformat_minor": 5
}
