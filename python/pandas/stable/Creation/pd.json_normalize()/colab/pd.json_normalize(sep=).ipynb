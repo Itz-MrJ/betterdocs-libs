{
 "cells": [
  {
   "cell_type": "code",
   "execution_count": null,
   "id": "bfa11a74",
   "metadata": {},
   "outputs": [],
   "source": [
    "import pandas as pd\n",
    "\n",
    "# Sample nested JSON\n",
    "nested_json = [\n",
    "    {\n",
    "        \"id\": 1,\n",
    "        \"name\": \"Alice\",\n",
    "        \"info\": {\n",
    "            \"age\": 25,\n",
    "            \"city\": \"New York\"\n",
    "        }\n",
    "    },\n",
    "    {\n",
    "        \"id\": 2,\n",
    "        \"name\": \"Bob\",\n",
    "        \"info\": {\n",
    "            \"age\": 30,\n",
    "            \"city\": \"Berlin\"\n",
    "        }\n",
    "    }\n",
    "]\n",
    "\n",
    "# Normalize the JSON with the separator\n",
    "df = pd.json_normalize(data=nested_json, sep='|')\n",
    "print(df)\n",
    "'''\n",
    "Output:\n",
    "   id   name  info|age info|city\n",
    "0   1  Alice        25  New York\n",
    "1   2    Bob        30    Berlin\n",
    "'''"
   ]
  }
 ],
 "metadata": {},
 "nbformat": 4,
 "nbformat_minor": 5
}
