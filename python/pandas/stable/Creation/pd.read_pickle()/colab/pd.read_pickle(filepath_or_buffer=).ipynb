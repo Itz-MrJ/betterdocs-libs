{
 "cells": [
  {
   "cell_type": "code",
   "execution_count": null,
   "id": "367319cc",
   "metadata": {},
   "outputs": [],
   "source": [
    "import pandas as pd\n",
    "\n",
    "# Writing and reading a DataFrame with pickle\n",
    "data = {'Name': ['Better', 'Docs'], 'Age': [25, 30]}\n",
    "df = pd.DataFrame(data)\n",
    "df.to_pickle('data.pkl')  # Save to pickle\n",
    "\n",
    "# Read back from pickle\n",
    "df_loaded = pd.read_pickle(filepath_or_buffer='data.pkl')\n",
    "print(df_loaded)\n",
    "'''\n",
    "Output:\n",
    "     Name  Age\n",
    "0  Better   25\n",
    "1    Docs   30\n",
    "'''"
   ]
  }
 ],
 "metadata": {},
 "nbformat": 4,
 "nbformat_minor": 5
}
