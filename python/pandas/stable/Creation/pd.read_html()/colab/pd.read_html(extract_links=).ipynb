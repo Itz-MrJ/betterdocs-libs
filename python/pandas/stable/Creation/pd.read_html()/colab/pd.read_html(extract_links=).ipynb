{
 "cells": [
  {
   "cell_type": "code",
   "execution_count": null,
   "id": "c9f5fb62",
   "metadata": {},
   "outputs": [],
   "source": [
    "import pandas as pd\n",
    "\n",
    "# URL containing HTML tables\n",
    "url = \"https://betterdocs.tech/global/python/pandas/tables-links.html\"\n",
    "\n",
    "# Read HTML tables\n",
    "dfs = pd.read_html(io=url, extract_links=\"all\")\n",
    "\n",
    "# Print the first matched DataFrame\n",
    "print(dfs[0])\n",
    "'''\n",
    "Output: \n",
    "    (Name, None)                                (Link, None)\n",
    "0  (Alice, None)  (Alice's Profile, https://dikshapadi.site)\n",
    "1    (Bob, None)          (Bob's Profile, https://aarya.fun)\n",
    "'''"
   ]
  }
 ],
 "metadata": {},
 "nbformat": 4,
 "nbformat_minor": 5
}
