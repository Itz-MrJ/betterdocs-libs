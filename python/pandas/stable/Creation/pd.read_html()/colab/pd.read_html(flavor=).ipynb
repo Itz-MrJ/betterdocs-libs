{
 "cells": [
  {
   "cell_type": "code",
   "execution_count": null,
   "id": "cd95e6ea",
   "metadata": {},
   "outputs": [],
   "source": [
    "import pandas as pd\n",
    "\n",
    "# URL or HTML content\n",
    "url = 'https://betterdocs.tech/global/python/pandas/tables.html'\n",
    "\n",
    "# Using BeautifulSoup (default, if lxml isn't installed)\n",
    "dfs_bs4 = pd.read_html(url, flavor='bs4')\n",
    "\n",
    "# Using lxml\n",
    "dfs_lxml = pd.read_html(url, flavor='lxml')\n",
    "\n",
    "# Using html5lib\n",
    "dfs_html5lib = pd.read_html(url, flavor='html5lib')\n",
    "\n",
    "# Output the first DataFrame from each flavor\n",
    "print(dfs_bs4[0])  # First DataFrame from BeautifulSoup\n",
    "print(dfs_lxml[0])  # First DataFrame from lxml\n",
    "print(dfs_html5lib[0])  # First DataFrame from html5lib\n",
    "'''\n",
    "Output:\n",
    "      Name  Age\n",
    "0    Alice   25\n",
    "1      Bob   30\n",
    "2  Charlie   22\n",
    "      Name  Age\n",
    "0    Alice   25\n",
    "1      Bob   30\n",
    "2  Charlie   22\n",
    "      Name  Age\n",
    "0    Alice   25\n",
    "1      Bob   30\n",
    "2  Charlie   22\n",
    "'''"
   ]
  }
 ],
 "metadata": {},
 "nbformat": 4,
 "nbformat_minor": 5
}
