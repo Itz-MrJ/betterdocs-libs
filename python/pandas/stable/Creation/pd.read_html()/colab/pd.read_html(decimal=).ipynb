{
 "cells": [
  {
   "cell_type": "code",
   "execution_count": null,
   "id": "9265150f",
   "metadata": {},
   "outputs": [],
   "source": [
    "import pandas as pd\n",
    "\n",
    "# URL containing HTML tables\n",
    "url = \"https://betterdocs.tech/global/python/pandas/tables.html\"\n",
    "\n",
    "# Read HTML tables\n",
    "dfs = pd.read_html(io=url, attrs={'class': 'numbers-class'}, decimal=',')\n",
    "\n",
    "# Print the first matched DataFrame\n",
    "print(dfs[0]['Decimal'])\n",
    "'''\n",
    "Output: \n",
    "0    12021\n",
    "1       12\n",
    "2      921\n",
    "Name: Decimal, dtype: int64\n",
    "'''"
   ]
  }
 ],
 "metadata": {},
 "nbformat": 4,
 "nbformat_minor": 5
}
