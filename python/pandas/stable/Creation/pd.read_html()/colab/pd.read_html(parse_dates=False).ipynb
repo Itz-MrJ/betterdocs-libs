{
 "cells": [
  {
   "cell_type": "code",
   "execution_count": null,
   "id": "2f90c281",
   "metadata": {},
   "outputs": [],
   "source": [
    "import pandas as pd\n",
    "\n",
    "# URL containing HTML tables\n",
    "url = \"https://betterdocs.tech/global/python/pandas/tables.html\"\n",
    "\n",
    "# Read HTML tables\n",
    "dfs = pd.read_html(io=url, attrs={'class': 'dates-class'}, parse_dates=False)\n",
    "\n",
    "# Print the first matched DataFrame\n",
    "print(dfs[0]['Date'])\n",
    "'''\n",
    "Output: \n",
    "0    2003-10-02\n",
    "1    2003-04-16\n",
    "2    2023-12-29\n",
    "Name: Date, dtype: object\n",
    "'''"
   ]
  }
 ],
 "metadata": {},
 "nbformat": 4,
 "nbformat_minor": 5
}
