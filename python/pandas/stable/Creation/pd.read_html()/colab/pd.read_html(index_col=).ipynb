{
 "cells": [
  {
   "cell_type": "code",
   "execution_count": null,
   "id": "e2fd2965",
   "metadata": {},
   "outputs": [],
   "source": [
    "import pandas as pd\n",
    "\n",
    "# URL containing HTML tables\n",
    "url = \"https://betterdocs.tech/global/python/pandas/tables.html\"\n",
    "\n",
    "# Read HTML tables\n",
    "dfs = pd.read_html(io=url, match=\"Expenditure\", index_col=\"Year\")\n",
    "\n",
    "# Print the first matched DataFrame\n",
    "print(dfs[0])\n",
    "'''\n",
    "Output: \n",
    "      Expenditure  Profit\n",
    "Year                     \n",
    "2021          200     800\n",
    "2022          300     900\n",
    "'''"
   ]
  }
 ],
 "metadata": {},
 "nbformat": 4,
 "nbformat_minor": 5
}
