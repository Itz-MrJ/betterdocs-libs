{
 "cells": [
  {
   "cell_type": "code",
   "execution_count": null,
   "id": "33bf25d2",
   "metadata": {},
   "outputs": [],
   "source": [
    "import pandas as pd\n",
    "\n",
    "# URL containing HTML tables\n",
    "url = \"https://betterdocs.tech/global/python/pandas/tables.html\"\n",
    "\n",
    "# Read HTML tables\n",
    "dfs = pd.read_html(io=url, match=\"Position\", na_values=[\"null\"])\n",
    "\n",
    "# Print the first matched DataFrame\n",
    "print(dfs[0])\n",
    "'''\n",
    "Output: \n",
    "    Name   Age  Position\n",
    "0  Alice   NaN   Manager\n",
    "1    Bob  30.0  Engineer\n",
    "'''"
   ]
  }
 ],
 "metadata": {},
 "nbformat": 4,
 "nbformat_minor": 5
}
