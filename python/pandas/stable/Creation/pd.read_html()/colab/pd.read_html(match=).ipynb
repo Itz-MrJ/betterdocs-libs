{
 "cells": [
  {
   "cell_type": "code",
   "execution_count": null,
   "id": "72f2889b",
   "metadata": {},
   "outputs": [],
   "source": [
    "import pandas as pd\n",
    "\n",
    "# URL containing HTML tables\n",
    "url = \"https://betterdocs.tech/global/python/pandas/tables.html\"\n",
    "\n",
    "# Read HTML tables, filtering tables containing \"Sales\"\n",
    "dfs = pd.read_html(io=url, match=\"Sales\")\n",
    "\n",
    "# Print the first matched DataFrame\n",
    "print(dfs[0])\n",
    "'''\n",
    "Output: \n",
    "   Year  Sales  Revenue\n",
    "0  2021    500     1000\n",
    "1  2022    600     1200\n",
    "'''"
   ]
  }
 ],
 "metadata": {},
 "nbformat": 4,
 "nbformat_minor": 5
}
