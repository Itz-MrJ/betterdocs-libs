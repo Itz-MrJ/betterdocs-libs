{
 "cells": [
  {
   "cell_type": "code",
   "execution_count": null,
   "id": "2c35f913",
   "metadata": {},
   "outputs": [],
   "source": [
    "import pandas as pd\n",
    "\n",
    "# URL containing HTML tables\n",
    "url = \"https://betterdocs.tech/global/python/pandas/tables.html\"\n",
    "\n",
    "# Read all tables from the URL\n",
    "dfs = pd.read_html(io=url)\n",
    "\n",
    "# Print the first DataFrame (the first table in the HTML)\n",
    "print(dfs[0])\n",
    "'''\n",
    "Output: \n",
    "      Name  Age\n",
    "0    Alice   25\n",
    "1      Bob   30\n",
    "2  Charlie   22\n",
    "'''"
   ]
  }
 ],
 "metadata": {},
 "nbformat": 4,
 "nbformat_minor": 5
}
