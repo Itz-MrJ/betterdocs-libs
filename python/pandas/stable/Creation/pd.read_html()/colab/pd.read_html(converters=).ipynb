{
 "cells": [
  {
   "cell_type": "code",
   "execution_count": null,
   "id": "bbfd5041",
   "metadata": {},
   "outputs": [],
   "source": [
    "import pandas as pd\n",
    "\n",
    "# URL containing HTML tables\n",
    "url = \"https://betterdocs.tech/global/python/pandas/tables.html\"\n",
    "\n",
    "def half_the_age(age):\n",
    "    return int(age)/2\n",
    "\n",
    "# Read HTML tables\n",
    "dfs = pd.read_html(io=url, converters={'Age': half_the_age})\n",
    "\n",
    "# Print the first matched DataFrame\n",
    "print(dfs[0])\n",
    "'''\n",
    "Output: \n",
    "      Name   Age\n",
    "0    Alice  12.5\n",
    "1      Bob  15.0\n",
    "2  Charlie  11.0\n",
    "'''"
   ]
  }
 ],
 "metadata": {},
 "nbformat": 4,
 "nbformat_minor": 5
}
