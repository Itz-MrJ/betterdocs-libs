{
 "cells": [
  {
   "cell_type": "code",
   "execution_count": null,
   "id": "f58bbc26",
   "metadata": {},
   "outputs": [],
   "source": [
    "import pandas as pd\n",
    "\n",
    "# URL containing HTML tables\n",
    "url = \"https://betterdocs.tech/global/python/pandas/tables.html\"\n",
    "\n",
    "# Read HTML tables\n",
    "dfs = pd.read_html(io=url, attrs={'class': 'numbers-class'}, thousands='|')\n",
    "\n",
    "# Print the first matched DataFrame\n",
    "print(dfs[0]['Thousands'])\n",
    "'''\n",
    "Output: \n",
    "0    123908213\n",
    "1        78234\n",
    "2         1023\n",
    "Name: Thousands, dtype: int64\n",
    "'''"
   ]
  }
 ],
 "metadata": {},
 "nbformat": 4,
 "nbformat_minor": 5
}
