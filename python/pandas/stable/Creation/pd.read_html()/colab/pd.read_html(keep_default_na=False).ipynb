{
 "cells": [
  {
   "cell_type": "code",
   "execution_count": null,
   "id": "54f9261d",
   "metadata": {},
   "outputs": [],
   "source": [
    "import pandas as pd\n",
    "\n",
    "# URL containing HTML tables\n",
    "url = \"https://betterdocs.tech/global/python/pandas/tables.html\"\n",
    "\n",
    "# Read HTML tables\n",
    "dfs = pd.read_html(io=url, match=\"Position\", keep_default_na=False)\n",
    "\n",
    "# Print the first matched DataFrame\n",
    "print(dfs[0])\n",
    "'''\n",
    "Output: \n",
    "    Name   Age  Position\n",
    "0  Alice  null   Manager\n",
    "1    Bob    30  Engineer\n",
    "'''"
   ]
  }
 ],
 "metadata": {},
 "nbformat": 4,
 "nbformat_minor": 5
}
