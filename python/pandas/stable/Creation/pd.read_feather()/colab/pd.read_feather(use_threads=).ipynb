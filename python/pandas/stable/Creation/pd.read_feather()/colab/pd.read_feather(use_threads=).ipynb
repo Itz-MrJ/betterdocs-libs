{
 "cells": [
  {
   "cell_type": "code",
   "execution_count": null,
   "id": "180f1796",
   "metadata": {},
   "outputs": [],
   "source": [
    "import pandas as pd\n",
    "\n",
    "# Write a DataFrame to Feather\n",
    "df = pd.DataFrame({'col1': range(100000), 'col2': range(100000)})\n",
    "df.to_feather('data.feather')\n",
    "\n",
    "# Read with threading (default)\n",
    "df1 = pd.read_feather('data.feather', use_threads=True)\n",
    "print(df1.head())\n",
    "'''\n",
    "Output:\n",
    "   col1  col2\n",
    "0     0     0\n",
    "1     1     1\n",
    "2     2     2\n",
    "3     3     3\n",
    "4     4     4\n",
    "'''"
   ]
  }
 ],
 "metadata": {},
 "nbformat": 4,
 "nbformat_minor": 5
}
