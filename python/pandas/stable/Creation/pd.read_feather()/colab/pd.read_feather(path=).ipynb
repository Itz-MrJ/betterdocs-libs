{
 "cells": [
  {
   "cell_type": "code",
   "execution_count": null,
   "id": "b061fe10",
   "metadata": {},
   "outputs": [],
   "source": [
    "import pandas as pd\n",
    "\n",
    "# Write a DataFrame to a Feather file\n",
    "df = pd.DataFrame({'col1': [1, 2, 3], 'col2': ['A', 'B', 'C']})\n",
    "df.to_feather('data.feather')\n",
    "\n",
    "# Read the Feather file\n",
    "df_loaded = pd.read_feather(path='data.feather')\n",
    "print(df_loaded)\n",
    "'''\n",
    "Output:\n",
    "   col1 col2\n",
    "0     1    A\n",
    "1     2    B\n",
    "2     3    C\n",
    "'''"
   ]
  }
 ],
 "metadata": {},
 "nbformat": 4,
 "nbformat_minor": 5
}
