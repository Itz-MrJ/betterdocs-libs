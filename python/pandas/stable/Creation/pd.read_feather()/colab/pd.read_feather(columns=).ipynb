{
 "cells": [
  {
   "cell_type": "code",
   "execution_count": null,
   "id": "11736150",
   "metadata": {},
   "outputs": [],
   "source": [
    "import pandas as pd\n",
    "\n",
    "# Write a DataFrame to a Feather file\n",
    "df = pd.DataFrame({'col1': [1, 2, 3], 'col2': ['A', 'B', 'C']})\n",
    "df.to_feather('data.feather')\n",
    "\n",
    "# Read the Feather file\n",
    "df_loaded = pd.read_feather(path='data.feather', columns=['col1'])\n",
    "print(df_loaded)\n",
    "'''\n",
    "Output:\n",
    "   col1\n",
    "0     1    \n",
    "1     2    \n",
    "2     3    \n",
    "'''"
   ]
  }
 ],
 "metadata": {},
 "nbformat": 4,
 "nbformat_minor": 5
}
