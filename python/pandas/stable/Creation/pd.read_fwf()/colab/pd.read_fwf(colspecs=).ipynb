{
 "cells": [
  {
   "cell_type": "code",
   "execution_count": null,
   "id": "d7f2d4e6",
   "metadata": {},
   "outputs": [],
   "source": [
    "import pandas as pd\n",
    "\n",
    "# Create dataset\n",
    "data = \"123Alice   25\\n456Bob     30\\n789Charlie 35\"\n",
    "file_path = \"file2.fwf\"\n",
    "\n",
    "with open(file_path, \"w\") as f:\n",
    "    f.write(data)\n",
    "\n",
    "# Specify column start and end positions\n",
    "colspecs = [(0, 3), (3, 10), (10, 13)]\n",
    "df1 = pd.read_fwf(file_path, colspecs='infer')\n",
    "df2 = pd.read_fwf(file_path, colspecs=colspecs)\n",
    "print(f\"Infer:\\n{df1}\\nList of tuples:\\n{df2}\")\n",
    "'''\n",
    "Output:\n",
    "Infer:\n",
    "     123Alice  25\n",
    "0      456Bob  30\n",
    "1  789Charlie  35\n",
    "List of tuples:\n",
    "   123    Alice  25\n",
    "0  456      Bob  30\n",
    "1  789  Charlie  35\n",
    "'''"
   ]
  }
 ],
 "metadata": {},
 "nbformat": 4,
 "nbformat_minor": 5
}
