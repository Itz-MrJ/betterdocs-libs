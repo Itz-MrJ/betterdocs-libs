{
 "cells": [
  {
   "cell_type": "code",
   "execution_count": null,
   "id": "98e8f41c",
   "metadata": {},
   "outputs": [],
   "source": [
    "import pandas as pd\n",
    "\n",
    "# Create dataset\n",
    "data = \"ID   Name     Age\\n123  Alice    25\\n456  Bob      30\\n789  Charlie  35\"\n",
    "file_path = \"file6.fwf\"\n",
    "\n",
    "with open(file_path, \"w\") as f:\n",
    "    f.write(data)\n",
    "\n",
    "# Use iterator to read chunks\n",
    "df_iterator = pd.read_fwf(file_path, iterator=True, chunksize=2)\n",
    "print(next(df_iterator))\n",
    "'''\n",
    "Output:\n",
    "    ID     Name  Age\n",
    "0  123    Alice   25\n",
    "1  456    Bob   30\n",
    "'''"
   ]
  }
 ],
 "metadata": {},
 "nbformat": 4,
 "nbformat_minor": 5
}
