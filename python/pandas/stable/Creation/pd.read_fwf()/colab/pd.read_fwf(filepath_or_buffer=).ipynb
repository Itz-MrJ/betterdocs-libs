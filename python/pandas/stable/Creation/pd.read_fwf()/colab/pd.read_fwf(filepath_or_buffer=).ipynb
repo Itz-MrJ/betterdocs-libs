{
 "cells": [
  {
   "cell_type": "code",
   "execution_count": null,
   "id": "b46dbdc1",
   "metadata": {},
   "outputs": [],
   "source": [
    "import pandas as pd\n",
    "\n",
    "# Create dataset\n",
    "data = \"123  Alice  25\\n456  Bob    30\\n789  Charlie 35\"\n",
    "file_path = \"file1.fwf\"\n",
    "\n",
    "with open(file_path, \"w\") as f:\n",
    "    f.write(data)\n",
    "\n",
    "# Read the file\n",
    "df = pd.read_fwf(filepath_or_buffer=file_path)\n",
    "print(df)\n",
    "'''\n",
    "Output:\n",
    "   123   Alice  25\n",
    "0  456   Bob    30\n",
    "1  789  Charlie 35\n",
    "'''"
   ]
  }
 ],
 "metadata": {},
 "nbformat": 4,
 "nbformat_minor": 5
}
