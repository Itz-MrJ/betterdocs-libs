{
 "cells": [
  {
   "cell_type": "code",
   "execution_count": null,
   "id": "39a4eeb7",
   "metadata": {},
   "outputs": [],
   "source": [
    "import pandas as pd\n",
    "\n",
    "# Create dataset\n",
    "data = \"123Alice   25\\n456Bob     30\\n789Charlie 35\"\n",
    "file_path = \"file8.txt\"\n",
    "\n",
    "with open(file_path, \"w\") as f:\n",
    "    f.write(data)\n",
    "\n",
    "# Additional arguments being passed to pd.read_table()\n",
    "df = pd.read_fwf(file_path, names=[\"ID\", \"Name\", \"Age\"])\n",
    "print(df)\n",
    "'''\n",
    "Output:\n",
    "           ID  Name  Age\n",
    "0    123Alice    25  NaN\n",
    "1      456Bob    30  NaN\n",
    "2  789Charlie    35  NaN\n",
    "'''"
   ]
  }
 ],
 "metadata": {},
 "nbformat": 4,
 "nbformat_minor": 5
}
