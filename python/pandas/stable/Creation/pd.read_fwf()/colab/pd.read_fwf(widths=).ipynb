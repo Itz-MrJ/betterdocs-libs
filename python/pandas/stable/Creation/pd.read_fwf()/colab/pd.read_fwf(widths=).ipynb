{
 "cells": [
  {
   "cell_type": "code",
   "execution_count": null,
   "id": "55f60658",
   "metadata": {},
   "outputs": [],
   "source": [
    "import pandas as pd\n",
    "\n",
    "# Create dataset\n",
    "data = \"123Alice  25\\n456Bob    30\\n789Charlie35\"\n",
    "file_path = \"file3.fwf\"\n",
    "\n",
    "with open(file_path, \"w\") as f:\n",
    "    f.write(data)\n",
    "\n",
    "# Specify column widths\n",
    "widths = [3, 6, 2]\n",
    "df = pd.read_fwf(file_path, widths=widths)\n",
    "print(df)\n",
    "'''\n",
    "Output:\n",
    "   123   Alice   2\n",
    "0  456     Bob   3\n",
    "1  789  Charli  e3\n",
    "'''"
   ]
  }
 ],
 "metadata": {},
 "nbformat": 4,
 "nbformat_minor": 5
}
