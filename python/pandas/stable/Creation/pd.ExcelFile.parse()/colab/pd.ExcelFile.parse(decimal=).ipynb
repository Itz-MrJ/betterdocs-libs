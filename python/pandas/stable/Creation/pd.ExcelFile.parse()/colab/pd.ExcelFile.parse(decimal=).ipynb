{
 "cells": [
  {
   "cell_type": "code",
   "execution_count": null,
   "id": "fb8132fd",
   "metadata": {},
   "outputs": [],
   "source": [
    "import pandas as pd\n",
    "from openpyxl import Workbook\n",
    "\n",
    "# Create an Excel file with multiple sheets\n",
    "file_path = \"example.xlsx\"\n",
    "\n",
    "# Create a workbook and add data\n",
    "wb = Workbook()\n",
    "sheet1 = wb.active\n",
    "sheet1.title = \"Sheet1\"\n",
    "sheet1.append([\"ID\", \"Name\", \"Salary\"])\n",
    "sheet1.append([1, \"Alice\", \"20.00\"])\n",
    "sheet1.append([2, \"Bob\", \"100.50\"])\n",
    "sheet1.append([2, \"Charlie\", \"2325.64\"])\n",
    "\n",
    "# Save the workbook\n",
    "wb.save(file_path)\n",
    "\n",
    "# Read the sheets\n",
    "df = pd.ExcelFile(path_or_buffer=file_path).parse(sheet_name='Sheet1', decimal='.')\n",
    "print(df)\n",
    "'''\n",
    "Output:\n",
    "   ID     Name   Salary\n",
    "0   1    Alice    20.00\n",
    "1   2      Bob   100.50\n",
    "2   2  Charlie  2325.64\n",
    "'''"
   ]
  }
 ],
 "metadata": {},
 "nbformat": 4,
 "nbformat_minor": 5
}
