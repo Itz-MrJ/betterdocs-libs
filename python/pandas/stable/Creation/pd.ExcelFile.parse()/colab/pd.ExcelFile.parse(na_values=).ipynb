{
 "cells": [
  {
   "cell_type": "code",
   "execution_count": null,
   "id": "3509b012",
   "metadata": {},
   "outputs": [],
   "source": [
    "import pandas as pd\n",
    "from openpyxl import Workbook\n",
    "\n",
    "# Create an Excel file with multiple sheets\n",
    "file_path = \"example.xlsx\"\n",
    "\n",
    "# Create a workbook and add data\n",
    "wb = Workbook()\n",
    "sheet1 = wb.active\n",
    "sheet1.title = \"Sheet1\"\n",
    "sheet1.append([\"ID\", \"Name\", \"Salary\"])\n",
    "sheet1.append([1, \"Alice\", \"na\"])\n",
    "sheet1.append([2, \"missing\", \"10000\"])\n",
    "sheet1.append([2, \"Charlie\", \"2000\"])\n",
    "\n",
    "# Save the workbook\n",
    "wb.save(file_path)\n",
    "\n",
    "# Read the sheets\n",
    "df = pd.ExcelFile(path_or_buffer=file_path).parse(sheet_name='Sheet1', na_values=[\"missing\", \"na\"])\n",
    "print(df)\n",
    "'''\n",
    "Output:\n",
    "   ID     Name   Salary\n",
    "0   1    Alice      NaN\n",
    "1   2      NaN  10000.0\n",
    "2   2  Charlie   2000.0\n",
    "'''"
   ]
  }
 ],
 "metadata": {},
 "nbformat": 4,
 "nbformat_minor": 5
}
