{
 "cells": [
  {
   "cell_type": "code",
   "execution_count": null,
   "id": "45213d5c",
   "metadata": {},
   "outputs": [],
   "source": [
    "import pandas as pd\n",
    "from openpyxl import Workbook\n",
    "\n",
    "# Create an Excel file with multiple sheets\n",
    "file_path = \"example.xlsx\"\n",
    "\n",
    "# Create a workbook and add data\n",
    "wb = Workbook()\n",
    "sheet1 = wb.active\n",
    "sheet1.title = \"Sheet1\"\n",
    "sheet1.append([\"ID\", \"Name\", \"BirthDate\"])\n",
    "sheet1.append([1, \"Alice\", \"2003-10-02\"])\n",
    "sheet1.append([2, \"Bob\", \"2003-04-16\"])\n",
    "sheet1.append([2, \"Charlie\", \"2023-12-29\"])\n",
    "\n",
    "# Save the workbook\n",
    "wb.save(file_path)\n",
    "\n",
    "# Read the sheets\n",
    "df = pd.ExcelFile(path_or_buffer=file_path).parse(sheet_name='Sheet1', parse_dates=['BirthDate'], date_format='%Y-%m-%d')\n",
    "print(df['BirthDate'])\n",
    "'''\n",
    "Output:\n",
    "0   2003-10-02\n",
    "1   2003-04-16\n",
    "2   2023-12-29\n",
    "Name: BirthDate, dtype: datetime64[ns]\n",
    "'''"
   ]
  }
 ],
 "metadata": {},
 "nbformat": 4,
 "nbformat_minor": 5
}
