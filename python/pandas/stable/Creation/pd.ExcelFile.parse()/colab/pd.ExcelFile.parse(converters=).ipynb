{
 "cells": [
  {
   "cell_type": "code",
   "execution_count": null,
   "id": "25b7f88b",
   "metadata": {},
   "outputs": [],
   "source": [
    "import pandas as pd\n",
    "from openpyxl import Workbook\n",
    "\n",
    "# Create an Excel file with multiple sheets\n",
    "file_path = \"example.xlsx\"\n",
    "\n",
    "# Create a workbook and add data\n",
    "wb = Workbook()\n",
    "sheet1 = wb.active\n",
    "sheet1.title = \"Sheet1\"\n",
    "sheet1.append([\"ID\", \"Name\", \"Age\"])\n",
    "sheet1.append([1, \"Alice\", 20])\n",
    "sheet1.append([2, \"Bob\", 30])\n",
    "sheet1.append([2, \"Charlie\", 10])\n",
    "\n",
    "# Save the workbook\n",
    "wb.save(file_path)\n",
    "\n",
    "def half_the_age(age):\n",
    "    return int(age)/2\n",
    "\n",
    "# Read the sheets\n",
    "df = pd.ExcelFile(path_or_buffer=file_path).parse(sheet_name='Sheet1', converters={\"Age\": half_the_age})\n",
    "print(df)\n",
    "'''\n",
    "Output:\n",
    "   ID     Name   Age\n",
    "0   1    Alice  10.0\n",
    "1   2      Bob  15.0\n",
    "2   2  Charlie   5.0\n",
    "'''"
   ]
  }
 ],
 "metadata": {},
 "nbformat": 4,
 "nbformat_minor": 5
}
