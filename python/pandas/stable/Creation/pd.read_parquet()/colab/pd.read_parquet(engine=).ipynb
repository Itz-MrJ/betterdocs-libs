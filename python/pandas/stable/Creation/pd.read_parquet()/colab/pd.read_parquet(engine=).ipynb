{
 "cells": [
  {
   "cell_type": "code",
   "execution_count": null,
   "id": "9f61d2e3",
   "metadata": {},
   "outputs": [],
   "source": [
    "import pandas as pd\n",
    "\n",
    "# Create a sample DataFrame\n",
    "data = {\n",
    "    'id': [1, 2, 3, 4],\n",
    "    'name': ['Alice', 'Bob', 'Chloe', 'David'],\n",
    "    'age': [25, 30, 35, 40],\n",
    "    'salary': [50000, 60000, 70000, 80000]\n",
    "}\n",
    "df = pd.DataFrame(data)\n",
    "\n",
    "# Write the DataFrame to a Parquet file\n",
    "df.to_parquet('data.parquet', index=False)\n",
    "\n",
    "# Read the Parquet file into a DataFrame\n",
    "df_read = pd.read_parquet(path='data.parquet', engine='auto')\n",
    "print(df_read)\n",
    "'''\n",
    "Output:\n",
    "   id   name  age  salary\n",
    "0   1  Alice   25   50000\n",
    "1   2    Bob   30   60000\n",
    "2   3  Chloe   35   70000\n",
    "3   4  David   40   80000\n",
    "'''"
   ]
  }
 ],
 "metadata": {},
 "nbformat": 4,
 "nbformat_minor": 5
}
