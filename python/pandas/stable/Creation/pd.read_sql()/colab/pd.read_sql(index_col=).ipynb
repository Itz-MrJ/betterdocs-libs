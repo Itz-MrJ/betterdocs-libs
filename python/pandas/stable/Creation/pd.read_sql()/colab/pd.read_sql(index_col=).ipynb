{
 "cells": [
  {
   "cell_type": "code",
   "execution_count": null,
   "id": "822e2f55",
   "metadata": {},
   "outputs": [],
   "source": [
    "import sqlite3\n",
    "import pandas as pd\n",
    "\n",
    "# Create an in-memory SQLite database and sample data\n",
    "conn = sqlite3.connect(':memory:')\n",
    "cursor = conn.cursor()\n",
    "cursor.execute('CREATE TABLE emp (id INTEGER, name TEXT, salary REAL)')\n",
    "cursor.executemany('INSERT INTO emp (id, name, salary) VALUES (?, ?, ?)', [(1, 'Alice', 75000.5), (2, 'Bob', 80000.0), (3, 'Chloe', 85000.0)])\n",
    "conn.commit()\n",
    "\n",
    "df = pd.read_sql(sql=\"SELECT * FROM emp\", con=conn, index_col=\"id\")\n",
    "print(df)\n",
    "conn.close()\n",
    "'''\n",
    "Output:\n",
    "     name   salary\n",
    "id                \n",
    "1   Alice  75000.5\n",
    "2     Bob  80000.0\n",
    "3   Chloe  85000.0\n",
    "'''"
   ]
  }
 ],
 "metadata": {},
 "nbformat": 4,
 "nbformat_minor": 5
}
