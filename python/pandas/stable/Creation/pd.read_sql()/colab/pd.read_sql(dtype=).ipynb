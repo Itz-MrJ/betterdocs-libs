{
 "cells": [
  {
   "cell_type": "code",
   "execution_count": null,
   "id": "991ee95b",
   "metadata": {},
   "outputs": [],
   "source": [
    "import sqlite3\n",
    "import pandas as pd\n",
    "\n",
    "# Create an in-memory SQLite database and sample data\n",
    "conn = sqlite3.connect(':memory:')\n",
    "cursor = conn.cursor()\n",
    "cursor.execute('CREATE TABLE employees (id INTEGER, name TEXT, salary REAL)')\n",
    "cursor.executemany('INSERT INTO employees (id, name, salary) VALUES (?, ?, ?)', [(1, 'Alice', 75000.5), (2, 'Bob', 80000.0), (3, 'Chloe', 85000.0)])\n",
    "conn.commit()\n",
    "\n",
    "df = pd.read_sql(sql=\"SELECT id, name FROM employees\", con=conn, dtype={\"id\": \"float16\"})\n",
    "print(df)\n",
    "conn.close()\n",
    "'''\n",
    "Output:\n",
    "    id   name\n",
    "0  1.0  Alice\n",
    "1  2.0    Bob\n",
    "2  3.0  Chloe\n",
    "'''"
   ]
  }
 ],
 "metadata": {},
 "nbformat": 4,
 "nbformat_minor": 5
}
