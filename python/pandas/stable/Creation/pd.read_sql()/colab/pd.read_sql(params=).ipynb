{
 "cells": [
  {
   "cell_type": "code",
   "execution_count": null,
   "id": "1b4f5768",
   "metadata": {},
   "outputs": [],
   "source": [
    "import sqlite3\n",
    "import pandas as pd\n",
    "\n",
    "# Create an in-memory SQLite database and sample data\n",
    "conn = sqlite3.connect(':memory:')\n",
    "cursor = conn.cursor()\n",
    "cursor.execute('CREATE TABLE employees (id INTEGER, name TEXT, salary REAL)')\n",
    "cursor.executemany('INSERT INTO employees (id, name, salary) VALUES (?, ?, ?)', [(1, 'Alice', 75000.5), (2, 'Bob', 80000.0), (3, 'Chloe', 85000.0)])\n",
    "conn.commit()\n",
    "\n",
    "# Query with parameters using ?\n",
    "query = \"SELECT id, name, salary FROM employees WHERE salary > ?\"\n",
    "df = pd.read_sql(sql=query, con=conn, params=[78000.0])\n",
    "conn.close()\n",
    "print(df)\n",
    "'''\n",
    "Output:\n",
    "   id   name   salary\n",
    "0   2    Bob  80000.0\n",
    "1   3  Chloe  85000.0\n",
    "'''"
   ]
  }
 ],
 "metadata": {},
 "nbformat": 4,
 "nbformat_minor": 5
}
