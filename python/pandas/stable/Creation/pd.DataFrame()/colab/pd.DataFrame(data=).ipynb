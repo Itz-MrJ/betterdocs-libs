{
 "cells": [
  {
   "cell_type": "code",
   "execution_count": null,
   "id": "8622e738",
   "metadata": {},
   "outputs": [],
   "source": [
    "import pandas as pd\n",
    "\n",
    "# Creating a DataFrame\n",
    "data = {'Name': ['Better', 'Docs'], 'Age': [25, 30]}\n",
    "df = pd.DataFrame(data=data)\n",
    "print(df)\n",
    "'''\n",
    "Output:\n",
    "     Name  Age\n",
    "0  Better   25\n",
    "1    Docs   30\n",
    "'''"
   ]
  }
 ],
 "metadata": {},
 "nbformat": 4,
 "nbformat_minor": 5
}
