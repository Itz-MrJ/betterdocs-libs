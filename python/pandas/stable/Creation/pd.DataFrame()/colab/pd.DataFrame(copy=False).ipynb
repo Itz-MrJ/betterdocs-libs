{
 "cells": [
  {
   "cell_type": "code",
   "execution_count": null,
   "id": "6bb54559",
   "metadata": {},
   "outputs": [],
   "source": [
    "import pandas as pd\n",
    "import numpy as np\n",
    "\n",
    "# Creating using np.eye\n",
    "data = np.eye(3, dtype=np.int8)\n",
    "# Creating a DataFrame\n",
    "df = pd.DataFrame(data=data, index=(\"Row1\", \"Row2\", \"Row3\"), copy=False)\n",
    "data[1][1] = 5\n",
    "print(df)\n",
    "'''\n",
    "Output:\n",
    "      0  1  2\n",
    "Row1  1  0  0\n",
    "Row2  0  5  0\n",
    "Row3  0  0  1\n",
    "'''"
   ]
  }
 ],
 "metadata": {},
 "nbformat": 4,
 "nbformat_minor": 5
}
