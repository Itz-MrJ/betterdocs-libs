{
 "cells": [
  {
   "cell_type": "code",
   "execution_count": null,
   "id": "ff685b22",
   "metadata": {},
   "outputs": [],
   "source": [
    "import sqlite3\n",
    "import pandas as pd\n",
    "from sqlalchemy import create_engine\n",
    "\n",
    "# Create a SQLite database connection\n",
    "conn = sqlite3.connect('test.db')\n",
    "cursor = conn.cursor()\n",
    "\n",
    "# Create a sample table\n",
    "cursor.execute('CREATE TABLE IF NOT EXISTS pch (id INTEGER PRIMARY KEY, name TEXT, salary TEXT, date TEXT)')\n",
    "\n",
    "# Insert sample data into the table\n",
    "cursor.executemany('INSERT INTO pch (name, salary, date) VALUES (?, ?, ?)', [('Alice', \"75000.50\", '2003-10-02'), ('Bob', \"80000\", '2003-04-16'), ('Chloe', \"85000\", '2023-12-29')])\n",
    "conn.commit()\n",
    "conn.close()\n",
    "\n",
    "# Create SQLAlchemy engine for pandas to use\n",
    "engine = create_engine('sqlite:///test.db')\n",
    "\n",
    "# NOTE: read_sql_table only works with SQLAlchemy engines, not sqlite3 directly\n",
    "df = pd.read_sql_table(table_name='pch', con=engine, chunksize=2)\n",
    "print(next(df))\n",
    "'''\n",
    "Output:\n",
    "   id   name    salary        date\n",
    "0   1  Alice  75000.50  2003-10-02\n",
    "1   2    Bob     80000  2003-04-16\n",
    "'''"
   ]
  }
 ],
 "metadata": {},
 "nbformat": 4,
 "nbformat_minor": 5
}
