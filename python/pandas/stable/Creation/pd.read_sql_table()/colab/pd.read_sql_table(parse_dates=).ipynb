{
 "cells": [
  {
   "cell_type": "code",
   "execution_count": null,
   "id": "fdb666ca",
   "metadata": {},
   "outputs": [],
   "source": [
    "import sqlite3\n",
    "import pandas as pd\n",
    "from sqlalchemy import create_engine\n",
    "\n",
    "# Create a SQLite database connection\n",
    "conn = sqlite3.connect('example.db')\n",
    "cursor = conn.cursor()\n",
    "\n",
    "# Create a sample table\n",
    "cursor.execute('CREATE TABLE IF NOT EXISTS pbn (id INTEGER PRIMARY KEY, name TEXT, salary TEXT, date TEXT)')\n",
    "\n",
    "# Insert sample data into the table\n",
    "cursor.executemany('INSERT INTO pbn (name, salary, date) VALUES (?, ?, ?)', [('Alice', \"75000.50\", '2003-10-02'), ('Bob', \"80000\", '2003-04-16'), ('Chloe', \"85000\", '2023-12-29')])\n",
    "conn.commit()\n",
    "conn.close()\n",
    "\n",
    "# Create SQLAlchemy engine for pandas to use\n",
    "engine = create_engine('sqlite:///example.db')\n",
    "\n",
    "# NOTE: read_sql_table only works with SQLAlchemy engines, not sqlite3 directly\n",
    "df = pd.read_sql_table(table_name='pbn', con=engine, parse_dates=[\"date\"])\n",
    "print(df['date'])\n",
    "'''\n",
    "Output:\n",
    "0   2003-10-02\n",
    "1   2003-04-16\n",
    "2   2023-12-29\n",
    "Name: date, dtype: datetime64[ns]\n",
    "'''"
   ]
  }
 ],
 "metadata": {},
 "nbformat": 4,
 "nbformat_minor": 5
}
