{
 "cells": [
  {
   "cell_type": "code",
   "execution_count": null,
   "id": "c23fe5dc",
   "metadata": {},
   "outputs": [],
   "source": [
    "import sqlite3\n",
    "import pandas as pd\n",
    "from sqlalchemy import create_engine\n",
    "\n",
    "# Create a SQLite database connection\n",
    "conn = sqlite3.connect('example.db')\n",
    "cursor = conn.cursor()\n",
    "\n",
    "# Create a sample table\n",
    "cursor.execute('CREATE TABLE IF NOT EXISTS eid (id INTEGER PRIMARY KEY, name TEXT, salary INTEGER, department TEXT)')\n",
    "\n",
    "# Insert sample data into the table\n",
    "cursor.executemany('INSERT INTO eid (name, salary, department) VALUES (?, ?, ?)', [('Alice', 75000, 'HR'), ('Bob', 80000, 'Engineering'), ('Chloe', 85000, 'Marketing')])\n",
    "conn.commit()\n",
    "conn.close()\n",
    "\n",
    "# Create SQLAlchemy engine for pandas to use\n",
    "engine = create_engine('sqlite:///example.db')\n",
    "\n",
    "# NOTE: read_sql_table only works with SQLAlchemy engines, not sqlite3 directly\n",
    "df = pd.read_sql_table(table_name='eid', con=engine, index_col='id')\n",
    "print(df)\n",
    "'''\n",
    "Output:\n",
    "     name  salary   department\n",
    "id                            \n",
    "1   Alice   75000           HR\n",
    "2     Bob   80000  Engineering\n",
    "3   Chloe   85000    Marketing\n",
    "'''"
   ]
  }
 ],
 "metadata": {},
 "nbformat": 4,
 "nbformat_minor": 5
}
