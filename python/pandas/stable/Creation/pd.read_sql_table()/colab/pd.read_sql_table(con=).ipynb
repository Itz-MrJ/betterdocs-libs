{
 "cells": [
  {
   "cell_type": "code",
   "execution_count": null,
   "id": "53d8ff58",
   "metadata": {},
   "outputs": [],
   "source": [
    "import sqlite3\n",
    "import pandas as pd\n",
    "from sqlalchemy import create_engine\n",
    "\n",
    "# Create a SQLite database connection\n",
    "conn = sqlite3.connect('example.db')\n",
    "cursor = conn.cursor()\n",
    "\n",
    "# Create a sample table\n",
    "cursor.execute('CREATE TABLE IF NOT EXISTS emps (id INTEGER PRIMARY KEY, name TEXT, salary INTEGER, department TEXT)')\n",
    "\n",
    "# Insert sample data into the table\n",
    "cursor.executemany('INSERT INTO emps (name, salary, department) VALUES (?, ?, ?)', [('Alice', 75000, 'HR'), ('Bob', 80000, 'Engineering'), ('Chloe', 85000, 'Marketing')])\n",
    "conn.commit()\n",
    "conn.close()\n",
    "\n",
    "# Create SQLAlchemy engine for pandas to use\n",
    "engine = create_engine('sqlite:///example.db')\n",
    "\n",
    "# NOTE: read_sql_table only works with SQLAlchemy engines, not sqlite3 directly\n",
    "df = pd.read_sql_table(table_name='emps', con=engine)\n",
    "print(df)\n",
    "'''\n",
    "Output:\n",
    "   id   name  salary   department\n",
    "0   1  Alice   75000           HR\n",
    "1   2    Bob   80000  Engineering\n",
    "2   3  Chloe   85000    Marketing\n",
    "'''"
   ]
  }
 ],
 "metadata": {},
 "nbformat": 4,
 "nbformat_minor": 5
}
