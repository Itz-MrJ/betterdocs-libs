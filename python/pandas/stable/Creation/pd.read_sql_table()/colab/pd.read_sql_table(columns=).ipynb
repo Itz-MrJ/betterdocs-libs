{
 "cells": [
  {
   "cell_type": "code",
   "execution_count": null,
   "id": "390bcea0",
   "metadata": {},
   "outputs": [],
   "source": [
    "import sqlite3\n",
    "import pandas as pd\n",
    "from sqlalchemy import create_engine\n",
    "\n",
    "# Create a SQLite database connection\n",
    "conn = sqlite3.connect('example.db')\n",
    "cursor = conn.cursor()\n",
    "\n",
    "# Create a sample table\n",
    "cursor.execute('CREATE TABLE IF NOT EXISTS pcol (id INTEGER PRIMARY KEY, name TEXT, salary TEXT, date TEXT)')\n",
    "\n",
    "# Insert sample data into the table\n",
    "cursor.executemany('INSERT INTO pcol (name, salary, date) VALUES (?, ?, ?)', [('Alice', \"75000.50\", '2003-10-02'), ('Bob', \"80000\", '2003-04-16'), ('Chloe', \"85000\", '2023-12-29')])\n",
    "conn.commit()\n",
    "conn.close()\n",
    "\n",
    "# Create SQLAlchemy engine for pandas to use\n",
    "engine = create_engine('sqlite:///example.db')\n",
    "\n",
    "# NOTE: read_sql_table only works with SQLAlchemy engines, not sqlite3 directly\n",
    "df = pd.read_sql_table(table_name='pcol', con=engine, columns=[\"id\", \"name\"])\n",
    "print(df)\n",
    "'''\n",
    "Output:\n",
    "   id   name\n",
    "0   1  Alice\n",
    "1   2    Bob\n",
    "2   3  Chloe\n",
    "'''"
   ]
  }
 ],
 "metadata": {},
 "nbformat": 4,
 "nbformat_minor": 5
}
