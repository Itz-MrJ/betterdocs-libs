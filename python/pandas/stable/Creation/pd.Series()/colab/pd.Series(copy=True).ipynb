{
 "cells": [
  {
   "cell_type": "code",
   "execution_count": null,
   "id": "8ca9c2a0",
   "metadata": {},
   "outputs": [],
   "source": [
    "import pandas as pd\n",
    "import numpy as np\n",
    "\n",
    "# Original data as a NumPy array\n",
    "original_data = np.array([1, 2, 3])\n",
    "\n",
    "# Create a Series using the NumPy array\n",
    "s = pd.Series(data=original_data, copy=True)\n",
    "\n",
    "# Modify the original data (this will *not* affect the Series)\n",
    "original_data[0] = 100\n",
    "\n",
    "# Print the Series\n",
    "print(s)\n",
    "'''\n",
    "Output:\n",
    "0      1\n",
    "1      2\n",
    "2      3\n",
    "dtype: int64\n",
    "'''"
   ]
  }
 ],
 "metadata": {},
 "nbformat": 4,
 "nbformat_minor": 5
}
