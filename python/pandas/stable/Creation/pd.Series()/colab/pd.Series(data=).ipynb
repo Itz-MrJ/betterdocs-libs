{
 "cells": [
  {
   "cell_type": "code",
   "execution_count": null,
   "id": "2b23f763",
   "metadata": {},
   "outputs": [],
   "source": [
    "import pandas as pd\n",
    "\n",
    "# Creating a Series\n",
    "s = pd.Series(data=[10, 20, 30], index=['a', 'b', 'c'], name='Numbers')\n",
    "\n",
    "print(s)\n",
    "'''\n",
    "Output:\n",
    "a    10\n",
    "b    20\n",
    "c    30\n",
    "Name: Numbers, dtype: int64\n",
    "'''"
   ]
  }
 ],
 "metadata": {},
 "nbformat": 4,
 "nbformat_minor": 5
}
