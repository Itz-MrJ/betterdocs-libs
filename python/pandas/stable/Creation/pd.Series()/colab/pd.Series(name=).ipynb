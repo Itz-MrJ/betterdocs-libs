{
 "cells": [
  {
   "cell_type": "code",
   "execution_count": null,
   "id": "21d11537",
   "metadata": {},
   "outputs": [],
   "source": [
    "import pandas as pd\n",
    "\n",
    "# Creating a Series\n",
    "s = pd.Series(data=[10, 20, 30], index=['x', 'y', 'z'], dtype='int8', name='Random Name')\n",
    "\n",
    "print(s)\n",
    "'''\n",
    "Output:\n",
    "x    10\n",
    "y    20\n",
    "z    30\n",
    "Name: Random Name, dtype: int8\n",
    "'''"
   ]
  }
 ],
 "metadata": {},
 "nbformat": 4,
 "nbformat_minor": 5
}
