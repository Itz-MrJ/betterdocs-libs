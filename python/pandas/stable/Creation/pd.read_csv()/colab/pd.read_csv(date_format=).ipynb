{
 "cells": [
  {
   "cell_type": "code",
   "execution_count": null,
   "id": "daba1a57",
   "metadata": {},
   "outputs": [],
   "source": [
    "import pandas as pd\n",
    "\n",
    "# Example data with date-like strings\n",
    "data = \"\"\"ID,Name,BirthDate\n",
    "1,Alice,2003-10-02\n",
    "2,Bob,2003-04-16\n",
    "3,Charlie,2023-12-29\"\"\"\n",
    "\n",
    "# Write the data to a file\n",
    "file_path = \"parse_dates_example.csv\"\n",
    "with open(file_path, \"w\") as f:\n",
    "    f.write(data)\n",
    "\n",
    "# Reading the data with parse_dates=True and keep_date_col=True\n",
    "df = pd.read_csv(file_path, sep=',', header=0, parse_dates=[\"BirthDate\"], date_format=\"%Y-%m-%d\")\n",
    "\n",
    "# Display the DataFrame\n",
    "print(df['BirthDate'])\n",
    "'''\n",
    "Output:\n",
    "0   2003-10-02\n",
    "1   2003-04-16\n",
    "2   2023-12-29\n",
    "Name: BirthDate, dtype: datetime64[ns]\n",
    "'''"
   ]
  }
 ],
 "metadata": {},
 "nbformat": 4,
 "nbformat_minor": 5
}
