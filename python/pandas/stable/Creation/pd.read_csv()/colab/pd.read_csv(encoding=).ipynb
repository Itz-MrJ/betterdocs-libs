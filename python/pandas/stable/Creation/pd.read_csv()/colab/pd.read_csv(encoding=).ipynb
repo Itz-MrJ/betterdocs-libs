{
 "cells": [
  {
   "cell_type": "code",
   "execution_count": null,
   "id": "dbd8da39",
   "metadata": {},
   "outputs": [],
   "source": [
    "import pandas as pd\n",
    "\n",
    "# Example data with special characters\n",
    "data = \"ID,Name\\n1,Alice\\n2,Bob\\n3,Chloé\"\n",
    "\n",
    "# Write the data to a file with ISO-8859-1 encoding\n",
    "file_path = \"encoding_example.csv\"\n",
    "with open(file_path, \"w\", encoding=\"ISO-8859-1\") as f:\n",
    "    f.write(data)\n",
    "\n",
    "# Read the file with the correct encoding\n",
    "df = pd.read_csv(file_path, sep=\",\", encoding=\"ISO-8859-1\")\n",
    "print(df)\n",
    "'''\n",
    "Output:\n",
    "   ID   Name\n",
    "0   1  Alice\n",
    "1   2    Bob\n",
    "2   3  Chloé\n",
    "'''"
   ]
  }
 ],
 "metadata": {},
 "nbformat": 4,
 "nbformat_minor": 5
}
