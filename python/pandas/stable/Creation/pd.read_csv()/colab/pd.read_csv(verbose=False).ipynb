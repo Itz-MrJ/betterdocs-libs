{
 "cells": [
  {
   "cell_type": "code",
   "execution_count": null,
   "id": "4a8294e9",
   "metadata": {},
   "outputs": [],
   "source": [
    "import pandas as pd\n",
    "\n",
    "# Example data\n",
    "data = \"\"\"ID, Name, Age\n",
    "1, Alice, 30\n",
    "2, Bob, 25\n",
    "3, Charlie, 35\"\"\"\n",
    "\n",
    "# Write the data to a file\n",
    "file_path = \"verbose_example.csv\"\n",
    "with open(file_path, \"w\") as f:\n",
    "    f.write(data)\n",
    "\n",
    "# Read the data with verbose=True\n",
    "df = pd.read_csv(file_path, sep=',', verbose=False)\n",
    "\n",
    "# Display the DataFrame\n",
    "print(df)\n",
    "'''\n",
    "Output:\n",
    "   ID      Name   Age\n",
    "0   1     Alice    30\n",
    "1   2       Bob    25\n",
    "2   3   Charlie    35\n",
    "'''"
   ]
  }
 ],
 "metadata": {},
 "nbformat": 4,
 "nbformat_minor": 5
}
