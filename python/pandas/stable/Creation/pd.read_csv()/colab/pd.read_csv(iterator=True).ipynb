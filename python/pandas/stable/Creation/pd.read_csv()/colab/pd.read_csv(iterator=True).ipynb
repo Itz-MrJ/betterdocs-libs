{
 "cells": [
  {
   "cell_type": "code",
   "execution_count": null,
   "id": "2655d86f",
   "metadata": {},
   "outputs": [],
   "source": [
    "import pandas as pd\n",
    "\n",
    "# Example data with dates\n",
    "data = \"\"\"ID,Name,BirthDate\n",
    "1,Alice,2020-01-01\n",
    "2,Bob,2021-02-28\n",
    "3,Charlie,2023-03-15\n",
    "4,David,2019-11-12\n",
    "5,Eve,2022-08-09\"\"\"\n",
    "\n",
    "# Write the data to a file\n",
    "file_path = \"example_ite.csv\"\n",
    "with open(file_path, \"w\") as f:\n",
    "    f.write(data)\n",
    "\n",
    "# Read the data\n",
    "df = pd.read_csv(file_path, sep=',', iterator=True)\n",
    "# Read first 2\n",
    "print(df.get_chunk(2))\n",
    "print()\n",
    "# Read the *next* 2\n",
    "print(df.get_chunk(2))\n",
    "'''\n",
    "Output:\n",
    "   ID   Name   BirthDate\n",
    "0   1  Alice  2020-01-01\n",
    "1   2    Bob  2021-02-28\n",
    "\n",
    "   ID     Name   BirthDate\n",
    "2   3  Charlie  2023-03-15\n",
    "3   4    David  2019-11-12\n",
    "'''"
   ]
  }
 ],
 "metadata": {},
 "nbformat": 4,
 "nbformat_minor": 5
}
