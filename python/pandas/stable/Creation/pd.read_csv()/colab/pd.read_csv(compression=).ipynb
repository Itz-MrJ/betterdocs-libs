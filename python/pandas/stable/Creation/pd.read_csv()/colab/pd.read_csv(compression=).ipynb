{
 "cells": [
  {
   "cell_type": "code",
   "execution_count": null,
   "id": "d9821bbe",
   "metadata": {},
   "outputs": [],
   "source": [
    "import pandas as pd\n",
    "\n",
    "# Example data\n",
    "data = {\n",
    "    \"ID\": [1, 2, 3],\n",
    "    \"Name\": [\"Alice\", \"Bob\", \"Charlie\"],\n",
    "    \"Age\": [30, 25, 35]\n",
    "}\n",
    "\n",
    "# Create a DataFrame\n",
    "df = pd.DataFrame(data)\n",
    "\n",
    "# Write the DataFrame to a GZIP-compressed file\n",
    "file_path = \"example_compressed.gz\"\n",
    "df.to_csv(file_path, index=False, compression='gzip')\n",
    "\n",
    "# Reading the GZIP compressed file directly using pandas\n",
    "df_gzip = pd.read_csv(file_path, sep=',', compression='gzip')\n",
    "\n",
    "print(df_gzip)\n",
    "'''\n",
    "Output:\n",
    "   ID     Name  Age\n",
    "0   1    Alice   30\n",
    "1   2      Bob   25\n",
    "2   3  Charlie   35\n",
    "'''"
   ]
  }
 ],
 "metadata": {},
 "nbformat": 4,
 "nbformat_minor": 5
}
