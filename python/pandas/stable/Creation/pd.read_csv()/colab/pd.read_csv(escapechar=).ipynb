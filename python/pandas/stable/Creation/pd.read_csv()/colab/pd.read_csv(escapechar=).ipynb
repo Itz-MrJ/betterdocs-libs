{
 "cells": [
  {
   "cell_type": "code",
   "execution_count": null,
   "id": "d83b2e3a",
   "metadata": {},
   "outputs": [],
   "source": [
    "import pandas as pd\n",
    "\n",
    "# Example data with escape characters\n",
    "data = '''ID,Name\n",
    "1,Alice\n",
    "2,Bob\n",
    "3,Charlie\\,The King\n",
    "'''\n",
    "\n",
    "# Write the data to a file\n",
    "file_path = \"escapechar_example.csv\"\n",
    "with open(file_path, \"w\") as f:\n",
    "    f.write(data)\n",
    "\n",
    "# Read the file with escapechar='\\'\n",
    "df = pd.read_csv(file_path, sep=',', escapechar='\\\\')\n",
    "print(df)\n",
    "'''\n",
    "Output:\n",
    "   ID              Name\n",
    "0   1             Alice\n",
    "1   2               Bob\n",
    "2   3  Charlie,The King\n",
    "'''"
   ]
  }
 ],
 "metadata": {},
 "nbformat": 4,
 "nbformat_minor": 5
}
