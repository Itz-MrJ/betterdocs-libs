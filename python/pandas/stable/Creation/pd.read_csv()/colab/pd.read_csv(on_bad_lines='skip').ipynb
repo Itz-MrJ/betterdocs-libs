{
 "cells": [
  {
   "cell_type": "code",
   "execution_count": null,
   "id": "82771ac2",
   "metadata": {},
   "outputs": [],
   "source": [
    "import pandas as pd\n",
    "\n",
    "# Create a sample file with a bad line\n",
    "file_path = 'sample_bad_lines.csv'\n",
    "with open(file_path, 'w') as f:\n",
    "    f.write(\"ID,Name\\n1,Alice\\n2,Bob\\n3,Charlie,ExtraField\\n4,Diana\")\n",
    "    \n",
    "# Handle bad lines by skipping them\n",
    "df = pd.read_csv(file_path, sep=\",\", on_bad_lines=\"skip\")\n",
    "print(\"With on_bad_lines='skip':\")\n",
    "print(df)\n",
    "'''\n",
    "Output: \n",
    "With on_bad_lines='skip':\n",
    "   ID   Name\n",
    "0   1  Alice\n",
    "1   2    Bob\n",
    "2   4  Diana\n",
    "'''"
   ]
  }
 ],
 "metadata": {},
 "nbformat": 4,
 "nbformat_minor": 5
}
