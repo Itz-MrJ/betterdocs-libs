{
 "cells": [
  {
   "cell_type": "code",
   "execution_count": null,
   "id": "1cf96076",
   "metadata": {},
   "outputs": [],
   "source": [
    "import pandas as pd\n",
    "\n",
    "# Example data with dates\n",
    "data = \"\"\"ID,Name,BirthDate\n",
    "1,Alice,2003-10-02\n",
    "2,Bob,2003-04-16\n",
    "3,Charlie,2023-12-29\"\"\"\n",
    "\n",
    "# Write the data to a file\n",
    "file_path = \"example_cache_dates.csv\"\n",
    "with open(file_path, \"w\") as f:\n",
    "    f.write(data)\n",
    "\n",
    "# Read the data with cache_dates\n",
    "dff = pd.read_csv(file_path, sep=',', parse_dates=[\"BirthDate\"], cache_dates=False)\n",
    "dft = pd.read_csv(file_path, sep=',', parse_dates=[\"BirthDate\"], cache_dates=True)\n",
    "\n",
    "print('cache_date=False',dff['BirthDate'],'cache_date=True',dft['BirthDate'],sep='\\n')\n",
    "'''\n",
    "Output:\n",
    "cache_date=False\n",
    "0   2003-10-02\n",
    "1   2003-04-16\n",
    "2   2023-12-29\n",
    "Name: BirthDate, dtype: datetime64[ns]\n",
    "cache_date=True\n",
    "0   2003-10-02\n",
    "1   2003-04-16\n",
    "2   2023-12-29\n",
    "Name: BirthDate, dtype: datetime64[ns]\n",
    "'''"
   ]
  }
 ],
 "metadata": {},
 "nbformat": 4,
 "nbformat_minor": 5
}
