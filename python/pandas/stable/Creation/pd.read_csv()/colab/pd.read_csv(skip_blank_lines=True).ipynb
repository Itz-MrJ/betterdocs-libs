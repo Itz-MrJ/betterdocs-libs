{
 "cells": [
  {
   "cell_type": "code",
   "execution_count": null,
   "id": "983f5f44",
   "metadata": {},
   "outputs": [],
   "source": [
    "import pandas as pd\n",
    "\n",
    "# Example data with blank lines\n",
    "data = \"\"\"ID, Name, Age\n",
    "1, Alice, 30\n",
    "\n",
    "2, Bob, 25\n",
    "\n",
    "3, Charlie, 35\"\"\"\n",
    "\n",
    "# Write the data to a file\n",
    "file_path = \"skip_blank_lines_example.csv\"\n",
    "with open(file_path, \"w\") as f:\n",
    "    f.write(data)\n",
    "\n",
    "# Reading with skip_blank_lines=True (default)\n",
    "df = pd.read_csv(file_path, sep=',', skip_blank_lines=True)\n",
    "print(df)\n",
    "'''\n",
    "Output:\n",
    "   ID      Name   Age\n",
    "0   1     Alice    30\n",
    "1   2       Bob    25\n",
    "2   3   Charlie    35\n",
    "'''"
   ]
  }
 ],
 "metadata": {},
 "nbformat": 4,
 "nbformat_minor": 5
}
