{
 "cells": [
  {
   "cell_type": "code",
   "execution_count": null,
   "id": "1d6732f7",
   "metadata": {},
   "outputs": [],
   "source": [
    "import pandas as pd\n",
    "\n",
    "# Example data with Windows-style line terminators (\\t)\n",
    "data = \"ID,Name,Age\\t1,Alice,30\\t2,Bob,25\\t3,Charlie,35\"\n",
    "\n",
    "# Write the data to a file with \\r as line terminator\n",
    "file_path = \"example_lineterminator.csv\"\n",
    "with open(file_path, \"w\") as f:\n",
    "    f.write(data)\n",
    "\n",
    "# Read the file without specifying lineterminator\n",
    "df = pd.read_csv(file_path, sep=',', lineterminator=\"\\t\")\n",
    "print(df)\n",
    "'''\n",
    "Output:\n",
    "   ID     Name  Age\n",
    "0   1    Alice   30\n",
    "1   2      Bob   25\n",
    "2   3  Charlie   35\n",
    "'''"
   ]
  }
 ],
 "metadata": {},
 "nbformat": 4,
 "nbformat_minor": 5
}
