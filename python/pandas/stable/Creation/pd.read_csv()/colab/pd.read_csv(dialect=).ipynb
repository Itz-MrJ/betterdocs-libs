{
 "cells": [
  {
   "cell_type": "code",
   "execution_count": null,
   "id": "e53f9c31",
   "metadata": {},
   "outputs": [],
   "source": [
    "import csv\n",
    "import pandas as pd\n",
    "\n",
    "# Register a custom dialect\n",
    "csv.register_dialect('my_dialect', delimiter='|', quoting=csv.QUOTE_NONE)\n",
    "\n",
    "# Create a sample file\n",
    "file_path = 'sample_dialect.csv'\n",
    "with open(file_path, 'w') as f:\n",
    "    f.write(\"ID|Name\\n1|Alice\\n2|Bob\\n3|Charlie\")\n",
    "\n",
    "# Use the custom dialect to read the file\n",
    "df = pd.read_csv(file_path, dialect='my_dialect')\n",
    "print(df)\n",
    "'''\n",
    "Output:\n",
    "   ID     Name\n",
    "0   1    Alice\n",
    "1   2      Bob\n",
    "2   3  Charlie\n",
    "'''"
   ]
  }
 ],
 "metadata": {},
 "nbformat": 4,
 "nbformat_minor": 5
}
