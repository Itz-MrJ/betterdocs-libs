{
 "cells": [
  {
   "cell_type": "code",
   "execution_count": null,
   "id": "72b43e45",
   "metadata": {},
   "outputs": [],
   "source": [
    "import pandas as pd\n",
    "\n",
    "# URL pointing to an XML file\n",
    "url = \"https://betterdocs.tech/global/python/pandas/read_xml.xml\"\n",
    "\n",
    "def half_sal(sal):\n",
    "  return int(sal)/2\n",
    "\n",
    "# Read the XML data from the URL into a DataFrame\n",
    "df = pd.read_xml(path_or_buffer=url, parser='etree')\n",
    "\n",
    "# Display the DataFrame\n",
    "print(df)\n",
    "'''\n",
    "Output:\n",
    "   id   name   hire_date  salary\n",
    "0   1  Alice  2003-10-02   75000\n",
    "1   2    Bob  2003-04-16   80000\n",
    "2   3  Chloe  2023-12-29   85000\n",
    "'''"
   ]
  }
 ],
 "metadata": {},
 "nbformat": 4,
 "nbformat_minor": 5
}
