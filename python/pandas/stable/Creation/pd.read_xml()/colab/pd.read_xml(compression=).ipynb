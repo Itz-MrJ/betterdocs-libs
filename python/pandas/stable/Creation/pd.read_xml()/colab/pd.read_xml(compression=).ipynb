{
 "cells": [
  {
   "cell_type": "code",
   "execution_count": null,
   "id": "f3ff6dde",
   "metadata": {},
   "outputs": [],
   "source": [
    "import pandas as pd\n",
    "import gzip\n",
    "\n",
    "# Sample XML Data\n",
    "xml_data = \"\"\"<?xml version=\"1.0\" encoding=\"UTF-8\"?>\n",
    "<data>\n",
    "    <employee>\n",
    "        <id>1</id>\n",
    "        <name>Alice</name>\n",
    "        <salary>75000</salary>\n",
    "    </employee>\n",
    "    <employee>\n",
    "        <id>2</id>\n",
    "        <name>Bob</name>\n",
    "        <salary>80000</salary>\n",
    "    </employee>\n",
    "</data>\"\"\"\n",
    "\n",
    "# Write XML data to a gzip-compressed file\n",
    "with gzip.open(\"employees.xml.gz\", \"wt\", encoding=\"utf-8\") as f:\n",
    "    f.write(xml_data)\n",
    "\n",
    "# Read the compressed XML file\n",
    "df = pd.read_xml(\"employees.xml.gz\", compression=\"gzip\")\n",
    "print(df)\n",
    "'''\n",
    "Output:\n",
    "   id   name  salary\n",
    "0   1  Alice   75000\n",
    "1   2    Bob   80000\n",
    "'''"
   ]
  }
 ],
 "metadata": {},
 "nbformat": 4,
 "nbformat_minor": 5
}
