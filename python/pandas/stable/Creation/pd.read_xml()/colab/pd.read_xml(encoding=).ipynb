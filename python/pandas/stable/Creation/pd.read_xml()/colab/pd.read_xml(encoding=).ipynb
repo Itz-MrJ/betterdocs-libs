{
 "cells": [
  {
   "cell_type": "code",
   "execution_count": null,
   "id": "0eb79c77",
   "metadata": {},
   "outputs": [],
   "source": [
    "import pandas as pd\n",
    "\n",
    "# URL pointing to an XML file\n",
    "url = \"https://betterdocs.tech/global/python/pandas/read_xml.xml\"\n",
    "\n",
    "# Read the XML data from the URL into a DataFrame\n",
    "df = pd.read_xml(path_or_buffer=url, encoding='utf-8')\n",
    "\n",
    "# Display the DataFrame\n",
    "print(df)\n",
    "'''\n",
    "Output:\n",
    "   id   name   hire_date  salary\n",
    "0   1  Alice  2003-10-02   75000\n",
    "1   2    Bob  2003-04-16   80000\n",
    "2   3  Chloe  2023-12-29   85000\n",
    "'''"
   ]
  }
 ],
 "metadata": {},
 "nbformat": 4,
 "nbformat_minor": 5
}
