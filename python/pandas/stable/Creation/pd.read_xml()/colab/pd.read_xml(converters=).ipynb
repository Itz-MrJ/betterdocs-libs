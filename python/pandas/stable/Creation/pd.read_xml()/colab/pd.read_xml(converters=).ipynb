{
 "cells": [
  {
   "cell_type": "code",
   "execution_count": null,
   "id": "5acaaba7",
   "metadata": {},
   "outputs": [],
   "source": [
    "import pandas as pd\n",
    "\n",
    "# URL pointing to an XML file\n",
    "url = \"https://betterdocs.tech/global/python/pandas/read_xml.xml\"\n",
    "\n",
    "def half_sal(sal):\n",
    "  return int(sal)/2\n",
    "\n",
    "# Read the XML data from the URL into a DataFrame\n",
    "df = pd.read_xml(path_or_buffer=url, converters={'salary': half_sal})\n",
    "\n",
    "# Display the DataFrame\n",
    "print(df)\n",
    "'''\n",
    "Output:\n",
    "   id   name   hire_date   salary\n",
    "0   1  Alice  2003-10-02  37500.0\n",
    "1   2    Bob  2003-04-16  40000.0\n",
    "2   3  Chloe  2023-12-29  42500.0\n",
    "'''"
   ]
  }
 ],
 "metadata": {},
 "nbformat": 4,
 "nbformat_minor": 5
}
