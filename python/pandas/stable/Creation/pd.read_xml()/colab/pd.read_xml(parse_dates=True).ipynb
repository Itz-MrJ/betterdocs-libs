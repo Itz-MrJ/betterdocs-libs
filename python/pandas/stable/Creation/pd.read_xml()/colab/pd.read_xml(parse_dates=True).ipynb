{
 "cells": [
  {
   "cell_type": "code",
   "execution_count": null,
   "id": "fe0d3e92",
   "metadata": {},
   "outputs": [],
   "source": [
    "import pandas as pd\n",
    "\n",
    "# URL pointing to an XML file\n",
    "url = \"https://betterdocs.tech/global/python/pandas/read_xml.xml\"\n",
    "\n",
    "# Read the XML data from the URL into a DataFrame\n",
    "df = pd.read_xml(path_or_buffer=url, parse_dates=['hire_date'])\n",
    "\n",
    "# Display the DataFrame\n",
    "print(df['hire_date'])\n",
    "'''\n",
    "Output:\n",
    "0   2003-10-02\n",
    "1   2003-04-16\n",
    "2   2023-12-29\n",
    "Name: hire_date, dtype: datetime64[ns]\n",
    "'''"
   ]
  }
 ],
 "metadata": {},
 "nbformat": 4,
 "nbformat_minor": 5
}
