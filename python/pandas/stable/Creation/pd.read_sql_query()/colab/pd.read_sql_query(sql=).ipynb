{
 "cells": [
  {
   "cell_type": "code",
   "execution_count": null,
   "id": "76c00617",
   "metadata": {},
   "outputs": [],
   "source": [
    "import sqlite3\n",
    "import pandas as pd\n",
    "\n",
    "# Create an in-memory SQLite database and sample data\n",
    "conn = sqlite3.connect(':memory:')\n",
    "cursor = conn.cursor()\n",
    "\n",
    "# Create a table\n",
    "cursor.execute('CREATE TABLE employees (id INTEGER PRIMARY KEY, name TEXT, salary REAL, department TEXT)')\n",
    "cursor.executemany('INSERT INTO employees (name, salary, department) VALUES (?, ?, ?)', [('Alice', 75000.5, 'HR'), ('Bob', 80000.0, 'Engineering'), ('Chloe', 85000.0, 'Marketing')])\n",
    "conn.commit()\n",
    "\n",
    "# Use pandas.read_sql_query to fetch data\n",
    "query = \"SELECT id, name, salary FROM employees WHERE department = 'Engineering'\"\n",
    "df = pd.read_sql_query(sql=query, con=conn)\n",
    "conn.close()\n",
    "print(df)\n",
    "'''\n",
    "Output:\n",
    "   id name   salary\n",
    "0   2  Bob  80000.0\n",
    "'''"
   ]
  }
 ],
 "metadata": {},
 "nbformat": 4,
 "nbformat_minor": 5
}
