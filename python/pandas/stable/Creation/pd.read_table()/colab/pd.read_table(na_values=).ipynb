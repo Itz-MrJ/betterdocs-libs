{
 "cells": [
  {
   "cell_type": "code",
   "execution_count": null,
   "id": "eeb22fd7",
   "metadata": {},
   "outputs": [],
   "source": [
    "import pandas as pd\n",
    "\n",
    "# Data to write to the file\n",
    "data = {\n",
    "    \"ID\": [1, 2, 3],\n",
    "    \"Name\": [\"Alice\", \"Bob\", \"na\"],\n",
    "    \"Age\": [30, \"missing\", 10],\n",
    "    \"Salary\": [55000, 48000, 62000],\n",
    "}\n",
    "\n",
    "# Create a DataFrame\n",
    "df_to_write = pd.DataFrame(data)\n",
    "\n",
    "# Filepath for the tab-separated file\n",
    "file_path = \"data.csv\"\n",
    "\n",
    "# Writing the DataFrame to a tab-separated file\n",
    "df_to_write.to_csv(file_path, sep=\"\\t\", index=False)\n",
    "\n",
    "# Reading the file back into a DataFrame \n",
    "df_read = pd.read_table(filepath_or_buffer=file_path, sep=\"\\t\", header=0, na_values=[\"missing\", \"na\"])\n",
    "\n",
    "# Display the DataFrame read from the file\n",
    "print(df_read)\n",
    "'''\n",
    "Output:\n",
    "   ID   Name   Age  Salary\n",
    "0   1  Alice  30.0   55000\n",
    "1   2    Bob   NaN   48000\n",
    "2   3    NaN  10.0   62000\n",
    "'''"
   ]
  }
 ],
 "metadata": {},
 "nbformat": 4,
 "nbformat_minor": 5
}
