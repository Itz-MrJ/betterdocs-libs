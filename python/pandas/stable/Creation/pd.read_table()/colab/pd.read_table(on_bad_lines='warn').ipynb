{
 "cells": [
  {
   "cell_type": "code",
   "execution_count": null,
   "id": "16d8d4e9",
   "metadata": {},
   "outputs": [],
   "source": [
    "import pandas as pd\n",
    "\n",
    "# Create a sample file with a bad line\n",
    "file_path = 'sample_bad_lines.csv'\n",
    "with open(file_path, 'w') as f:\n",
    "    f.write(\"ID,Name\\n1,Alice\\n2,Bob\\n3,Charlie,ExtraField\\n4,Diana\")\n",
    "# Handle bad lines by logging a warning\n",
    "df_warn = pd.read_table(file_path, sep=\",\", on_bad_lines=\"warn\")\n",
    "print(\"With on_bad_lines='warn':\")\n",
    "print(df_warn)\n",
    "'''\n",
    "Output: \n",
    "With on_bad_lines='warn':\n",
    "   ID   Name\n",
    "0   1  Alice\n",
    "1   2    Bob\n",
    "2   4  Diana\n",
    "<ipython-input-301-47d9fc19f966>:8: ParserWarning: Skipping line 4: expected 2 fields, saw 3\n",
    "'''"
   ]
  }
 ],
 "metadata": {},
 "nbformat": 4,
 "nbformat_minor": 5
}
