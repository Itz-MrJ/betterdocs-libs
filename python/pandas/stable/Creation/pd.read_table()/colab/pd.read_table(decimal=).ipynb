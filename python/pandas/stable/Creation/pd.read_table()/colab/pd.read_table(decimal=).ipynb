{
 "cells": [
  {
   "cell_type": "code",
   "execution_count": null,
   "id": "acaa3ff6",
   "metadata": {},
   "outputs": [],
   "source": [
    "import pandas as pd\n",
    "\n",
    "# Example data with decimal separators (|)\n",
    "data = \"\"\"ID,Amount\n",
    "1,1,000|9\n",
    "2,2,500|70\n",
    "3,3,700\"\"\"\n",
    "\n",
    "# Write the data to a file\n",
    "file_path = \"example_dec.csv\"\n",
    "with open(file_path, \"w\") as f:\n",
    "    f.write(data)\n",
    "\n",
    "# Read the file\n",
    "df = pd.read_table(file_path, sep=',', decimal='|')\n",
    "\n",
    "print(df['Amount'])\n",
    "'''\n",
    "1      0.9\n",
    "2    500.7\n",
    "3    700.0\n",
    "Name: Amount, dtype: float64\n",
    "'''"
   ]
  }
 ],
 "metadata": {},
 "nbformat": 4,
 "nbformat_minor": 5
}
