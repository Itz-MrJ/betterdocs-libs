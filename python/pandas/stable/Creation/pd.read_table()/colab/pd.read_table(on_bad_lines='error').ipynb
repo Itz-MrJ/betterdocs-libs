{
 "cells": [
  {
   "cell_type": "code",
   "execution_count": null,
   "id": "5a1907c1",
   "metadata": {},
   "outputs": [],
   "source": [
    "import pandas as pd\n",
    "\n",
    "# Create a sample file with a bad line\n",
    "file_path = 'sample_bad_lines.csv'\n",
    "with open(file_path, 'w') as f:\n",
    "    f.write(\"ID,Name\\n1,Alice\\n2,Bob\\n3,Charlie,ExtraField\\n4,Diana\")\n",
    "\n",
    "df_err = pd.read_table(file_path, sep=\",\", on_bad_lines=\"error\")\n",
    "print(\"With on_bad_lines='error':\")\n",
    "print(df_err)\n",
    "'''\n",
    "Output (Error raised): \n",
    "ParserError                               Traceback (most recent call last)\n",
    "'''"
   ]
  }
 ],
 "metadata": {},
 "nbformat": 4,
 "nbformat_minor": 5
}
