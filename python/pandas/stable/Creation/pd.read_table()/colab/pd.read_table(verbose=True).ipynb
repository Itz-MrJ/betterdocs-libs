{
 "cells": [
  {
   "cell_type": "code",
   "execution_count": null,
   "id": "4ad111d5",
   "metadata": {},
   "outputs": [],
   "source": [
    "import pandas as pd\n",
    "\n",
    "# Example data\n",
    "data = \"\"\"ID, Name, Age\n",
    "1, Alice, 30\n",
    "2, Bob, 25\n",
    "3, Charlie, 35\"\"\"\n",
    "\n",
    "# Write the data to a file\n",
    "file_path = \"verbose_example.csv\"\n",
    "with open(file_path, \"w\") as f:\n",
    "    f.write(data)\n",
    "\n",
    "# Read the data with verbose=True\n",
    "df = pd.read_table(file_path, sep=',', verbose=True)\n",
    "\n",
    "# Display the DataFrame\n",
    "print(df)\n",
    "'''\n",
    "Output:\n",
    "Tokenization took: 0.02 ms\n",
    "Type conversion took: 0.16 ms\n",
    "Parser memory cleanup took: 0.01 ms\n",
    "   ID      Name   Age\n",
    "0   1     Alice    30\n",
    "1   2       Bob    25\n",
    "2   3   Charlie    35\n",
    "'''"
   ]
  }
 ],
 "metadata": {},
 "nbformat": 4,
 "nbformat_minor": 5
}
