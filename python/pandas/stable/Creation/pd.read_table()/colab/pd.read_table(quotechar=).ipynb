{
 "cells": [
  {
   "cell_type": "code",
   "execution_count": null,
   "id": "d732343e",
   "metadata": {},
   "outputs": [],
   "source": [
    "import pandas as pd\n",
    "\n",
    "# Example data with quoted fields\n",
    "data = \"\"\"ID,Name,Age\n",
    "1,\"Alice, Smith\",30\n",
    "2,\"Bob, Johnson\",25\n",
    "3,\"Charlie, Brown\",35\"\"\"\n",
    "\n",
    "# Write the data to a file\n",
    "file_path = \"example_quotechar.csv\"\n",
    "with open(file_path, \"w\") as f:\n",
    "    f.write(data)\n",
    "\n",
    "# Read the file with quotechar as \"\n",
    "df = pd.read_table(file_path, sep=',', quotechar='\"')\n",
    "\n",
    "print(df)\n",
    "'''\n",
    "Output:\n",
    "   ID            Name  Age\n",
    "0   1    Alice, Smith   30\n",
    "1   2    Bob, Johnson   25\n",
    "2   3  Charlie, Brown   35\n",
    "'''"
   ]
  }
 ],
 "metadata": {},
 "nbformat": 4,
 "nbformat_minor": 5
}
