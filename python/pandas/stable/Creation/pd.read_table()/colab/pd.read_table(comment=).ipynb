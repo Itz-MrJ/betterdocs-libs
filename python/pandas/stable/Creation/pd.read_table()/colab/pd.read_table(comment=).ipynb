{
 "cells": [
  {
   "cell_type": "code",
   "execution_count": null,
   "id": "bf6416a8",
   "metadata": {},
   "outputs": [],
   "source": [
    "import pandas as pd\n",
    "\n",
    "# Example data with a comment line\n",
    "data = '''# This is a comment line\n",
    "ID,Name\n",
    "1,Alice\n",
    "2,Bob\n",
    "3,Charlie\n",
    "'''\n",
    "\n",
    "# Write the data to a file\n",
    "file_path = \"comment_example.csv\"\n",
    "with open(file_path, \"w\") as f:\n",
    "    f.write(data)\n",
    "\n",
    "# Read the file and skip comment lines\n",
    "df = pd.read_table(file_path, sep=',', comment='#')\n",
    "print(df)\n",
    "'''\n",
    "Output:\n",
    "   ID     Name\n",
    "0   1    Alice\n",
    "1   2      Bob\n",
    "2   3  Charlie\n",
    "'''"
   ]
  }
 ],
 "metadata": {},
 "nbformat": 4,
 "nbformat_minor": 5
}
