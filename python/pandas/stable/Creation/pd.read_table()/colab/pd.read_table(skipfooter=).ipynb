{
 "cells": [
  {
   "cell_type": "code",
   "execution_count": null,
   "id": "6735ad85",
   "metadata": {},
   "outputs": [],
   "source": [
    "import pandas as pd\n",
    "\n",
    "# Example data with extra rows before the actual data\n",
    "data = \"\"\"\n",
    "ID, Name, Age\n",
    "1, Alice, 30\n",
    "2, Bob, 25\n",
    "3, Charlie, 35\n",
    "Some metadata line\n",
    "More metadata line\"\"\"\n",
    "\n",
    "# Write the data to a file\n",
    "file_path = \"skiprows_example.csv\"\n",
    "with open(file_path, \"w\") as f:\n",
    "    f.write(data)\n",
    "\n",
    "df = pd.read_table(file_path, skipfooter=2, sep=\",\")\n",
    "print(df)\n",
    "'''\n",
    "Output:\n",
    "   ID      Name   Age\n",
    "0   1     Alice    30\n",
    "1   2       Bob    25\n",
    "2   3   Charlie    35\n",
    "'''"
   ]
  }
 ],
 "metadata": {},
 "nbformat": 4,
 "nbformat_minor": 5
}
