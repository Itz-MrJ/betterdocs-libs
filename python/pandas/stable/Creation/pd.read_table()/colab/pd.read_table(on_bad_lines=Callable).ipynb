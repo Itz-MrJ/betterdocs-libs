{
 "cells": [
  {
   "cell_type": "code",
   "execution_count": null,
   "id": "bfc9c845",
   "metadata": {},
   "outputs": [],
   "source": [
    "import pandas as pd\n",
    "\n",
    "# Create a sample file with a bad line\n",
    "file_path = 'sample_bad_lines.csv'\n",
    "with open(file_path, 'w') as f:\n",
    "    f.write(\"ID,Name\\n1,Alice\\n2,Bob\\n3,Charlie,ExtraField\\n4,Diana\")\n",
    "\n",
    "# Define a custom function for processing bad lines\n",
    "def custom_handler(bad_line):\n",
    "    print(f\"Processing bad line: {bad_line}\")\n",
    "    # Example: return None to skip the line or modify the line\n",
    "    return None\n",
    "\n",
    "df_custom = pd.read_table(file_path, sep=\",\", on_bad_lines=custom_handler, engine='python')\n",
    "print(\"With a custom handler:\")\n",
    "print(df_custom)\n",
    "'''\n",
    "Output:\n",
    "Processing bad line: ['3', 'Charlie', 'ExtraField']\n",
    "\n",
    "With a custom handler:\n",
    "   ID   Name\n",
    "0   1  Alice\n",
    "1   2    Bob\n",
    "2   4  Diana\n",
    "'''"
   ]
  }
 ],
 "metadata": {},
 "nbformat": 4,
 "nbformat_minor": 5
}
