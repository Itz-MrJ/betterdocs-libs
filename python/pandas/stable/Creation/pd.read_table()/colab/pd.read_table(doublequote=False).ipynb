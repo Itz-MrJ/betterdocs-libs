{
 "cells": [
  {
   "cell_type": "code",
   "execution_count": null,
   "id": "0332bc52",
   "metadata": {},
   "outputs": [],
   "source": [
    "import pandas as pd\n",
    "import csv\n",
    "\n",
    "# Example data with quotes inside quoted fields\n",
    "data = '''ID,Name\n",
    "1,Alice\n",
    "2,Bob\n",
    "3,\"Charlie \"\"The King\"\"\"\n",
    "'''\n",
    "\n",
    "# Write the data to a file\n",
    "file_path = \"doublequote_example.csv\"\n",
    "with open(file_path, \"w\") as f:\n",
    "    f.write(data)\n",
    "\n",
    "# Read the file with doublequote=False\n",
    "df = pd.read_table(file_path, quotechar='\"', doublequote=False)\n",
    "print(df)\n",
    "'''\n",
    "Output:\n",
    "   ID                  Name\n",
    "0   1                 Alice\n",
    "1   2                   Bob\n",
    "2   3  Charlie \"The King\"\"\"\n",
    "'''"
   ]
  }
 ],
 "metadata": {},
 "nbformat": 4,
 "nbformat_minor": 5
}
