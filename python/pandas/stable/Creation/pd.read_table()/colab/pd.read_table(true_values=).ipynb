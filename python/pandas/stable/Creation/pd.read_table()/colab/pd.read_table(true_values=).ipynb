{
 "cells": [
  {
   "cell_type": "code",
   "execution_count": null,
   "id": "3896ef9e",
   "metadata": {},
   "outputs": [],
   "source": [
    "import pandas as pd\n",
    "\n",
    "# Data to write to the file\n",
    "data = {\n",
    "    \"ID\": [1, 2, 3],\n",
    "    \"Name\": [\"Alice\", \"Bob\", \"Charlie\"],\n",
    "    \"Age\": [30, 20, 10],\n",
    "    \"Salary\": [55000, 48000, 62000],\n",
    "    \"IsActive\": [\"no\", \"maybe\", \"yes\"]\n",
    "}\n",
    "\n",
    "# Create a DataFrame\n",
    "df_to_write = pd.DataFrame(data)\n",
    "\n",
    "# Filepath for the tab-separated file\n",
    "file_path = \"data.csv\"\n",
    "\n",
    "# Writing the DataFrame to a tab-separated file\n",
    "df_to_write.to_csv(file_path, sep=\"\\t\", index=False)\n",
    "\n",
    "# Reading the file back into a DataFrame using true_values\n",
    "df_read = pd.read_table(filepath_or_buffer=file_path, sep=\"\\t\", header=0, true_values=[\"yes\", \"maybe\"], false_values=[\"no\"])\n",
    "\n",
    "# Display the DataFrame read from the file\n",
    "print(df_read)\n",
    "'''\n",
    "Output:\n",
    "   ID     Name  Age  Salary  IsActive\n",
    "0   1    Alice   30   55000     False\n",
    "1   2      Bob   20   48000      True\n",
    "2   3  Charlie   10   62000      True\n",
    "'''"
   ]
  }
 ],
 "metadata": {},
 "nbformat": 4,
 "nbformat_minor": 5
}
