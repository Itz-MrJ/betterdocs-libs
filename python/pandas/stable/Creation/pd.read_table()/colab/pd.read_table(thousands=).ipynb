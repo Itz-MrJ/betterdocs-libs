{
 "cells": [
  {
   "cell_type": "code",
   "execution_count": null,
   "id": "bf37f1c5",
   "metadata": {},
   "outputs": [],
   "source": [
    "import pandas as pd\n",
    "\n",
    "# Example data with thousands separators (dot)\n",
    "data = \"\"\"ID,Amount\n",
    "1,1,000\n",
    "2,2,500.000\n",
    "3,3,700\"\"\"\n",
    "\n",
    "# Write the data to a file\n",
    "file_path = \"example_thousands.csv\"\n",
    "with open(file_path, \"w\") as f:\n",
    "    f.write(data)\n",
    "\n",
    "# Read the file and specify the thousands separator (dot)\n",
    "df = pd.read_table(file_path, sep=',', thousands='.')\n",
    "\n",
    "print(df['Amount'])\n",
    "'''\n",
    "Output:\n",
    "1         0\n",
    "2    500000\n",
    "3       700\n",
    "Name: Amount, dtype: int64\n",
    "'''"
   ]
  }
 ],
 "metadata": {},
 "nbformat": 4,
 "nbformat_minor": 5
}
