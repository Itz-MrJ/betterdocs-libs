{
 "cells": [
  {
   "cell_type": "code",
   "execution_count": null,
   "id": "515742b9",
   "metadata": {},
   "outputs": [],
   "source": [
    "import pandas as pd\n",
    "\n",
    "# Example data with date-like strings\n",
    "data = \"\"\"ID,Name,BirthDate\n",
    "1,Alice,2003-10-02\n",
    "2,Bob,2003-04-16\n",
    "3,Charlie,2023-12-29\"\"\"\n",
    "\n",
    "# Write the data to a file\n",
    "file_path = \"parse_dates_example.csv\"\n",
    "with open(file_path, \"w\") as f:\n",
    "    f.write(data)\n",
    "\n",
    "# Reading with parse_dates=False\n",
    "df = pd.read_table(file_path, sep=',', header=0, parse_dates=False)\n",
    "print(df['BirthDate'])\n",
    "'''\n",
    "Output:\n",
    "0    2003-10-02\n",
    "1    2003-04-16\n",
    "2    2023-12-29\n",
    "Name: BirthDate, dtype: object\n",
    "'''"
   ]
  }
 ],
 "metadata": {},
 "nbformat": 4,
 "nbformat_minor": 5
}
