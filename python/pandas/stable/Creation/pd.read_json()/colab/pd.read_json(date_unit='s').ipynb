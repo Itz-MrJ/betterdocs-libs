{
 "cells": [
  {
   "cell_type": "code",
   "execution_count": null,
   "id": "28ab50d9",
   "metadata": {},
   "outputs": [],
   "source": [
    "import pandas as pd\n",
    "import json\n",
    "\n",
    "# Create a sample JSON object\n",
    "sample_json = {\n",
    "    \"Name\": [\"Alice\", \"Bob\", \"Chloe\"],\n",
    "    \"Age\": [\"25\", \"30\", \"22\"],\n",
    "    \"Timestamp\": [1065117600, 1050480000, 1703876400]\n",
    "}\n",
    "\n",
    "# Write the JSON to a file\n",
    "json_file_path = \"sample_data.json\"\n",
    "with open(json_file_path, \"w\") as json_file:\n",
    "    json.dump(sample_json, json_file, indent=2)\n",
    "\n",
    "# Read the JSON file into a DataFrame\n",
    "df = pd.read_json(path_or_buf=json_file_path, date_unit='s')\n",
    "print(df)\n",
    "'''\n",
    "Output:\n",
    "    Name  Age           Timestamp\n",
    "0  Alice   25 2003-10-02 18:00:00\n",
    "1    Bob   30 2003-04-16 08:00:00\n",
    "2  Chloe   22 2023-12-29 19:00:00\n",
    "'''"
   ]
  }
 ],
 "metadata": {},
 "nbformat": 4,
 "nbformat_minor": 5
}
