{
 "cells": [
  {
   "cell_type": "code",
   "execution_count": null,
   "id": "ddd27e3a",
   "metadata": {},
   "outputs": [],
   "source": [
    "import pandas as pd\n",
    "import json\n",
    "\n",
    "# Create a sample JSON object\n",
    "sample_json = {\n",
    "    \"Name\": [\"Alice\", \"Bob\", \"Chloe\"],\n",
    "    \"Age\": [\"25\", \"30\", \"22\"],\n",
    "}\n",
    "\n",
    "# Write the JSON to a file\n",
    "json_file_path = \"sample_data.json\"\n",
    "with open(json_file_path, \"w\", encoding=\"utf-8\") as json_file:\n",
    "    json.dump(sample_json, json_file, indent=2)\n",
    "\n",
    "# Read the JSON file into a DataFrame\n",
    "df = pd.read_json(path_or_buf=json_file_path, encoding=\"utf-8\")\n",
    "print(df)\n",
    "'''\n",
    "Output:\n",
    "    Name  Age\n",
    "0  Alice   25\n",
    "1    Bob   30\n",
    "2  Chloe   22\n",
    "'''"
   ]
  }
 ],
 "metadata": {},
 "nbformat": 4,
 "nbformat_minor": 5
}
