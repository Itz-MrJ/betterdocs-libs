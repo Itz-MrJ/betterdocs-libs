{
 "cells": [
  {
   "cell_type": "code",
   "execution_count": null,
   "id": "01937a2f",
   "metadata": {},
   "outputs": [],
   "source": [
    "import pandas as pd\n",
    "import json\n",
    "\n",
    "# Create a sample JSON object\n",
    "sample_json = {\n",
    "    \"Name\": [\"Alice\", \"Bob\", \"Chloe\"],\n",
    "    \"Age\": [\"25\", \"30\", \"22\"],\n",
    "    \"BirthDates\": [\"2003-10-02\", \"2003-04-16\", \"2023-12-29\"]\n",
    "}\n",
    "\n",
    "# Write the JSON to a file\n",
    "json_file_path = \"sample_data.json\"\n",
    "with open(json_file_path, \"w\") as json_file:\n",
    "    json.dump(sample_json, json_file, indent=2)\n",
    "\n",
    "# Read the JSON file into a DataFrame\n",
    "df = pd.read_json(path_or_buf=json_file_path, convert_dates=['BirthDates'])\n",
    "print(df['BirthDates'])\n",
    "'''\n",
    "Output:\n",
    "0   2003-10-02\n",
    "1   2003-04-16\n",
    "2   2023-12-29\n",
    "Name: BirthDates, dtype: datetime64[ns]\n",
    "'''"
   ]
  }
 ],
 "metadata": {},
 "nbformat": 4,
 "nbformat_minor": 5
}
