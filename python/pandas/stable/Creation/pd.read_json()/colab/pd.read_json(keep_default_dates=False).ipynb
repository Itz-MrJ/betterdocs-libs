{
 "cells": [
  {
   "cell_type": "code",
   "execution_count": null,
   "id": "a4bcc45f",
   "metadata": {},
   "outputs": [],
   "source": [
    "import pandas as pd\n",
    "import json\n",
    "\n",
    "# Create a sample JSON object\n",
    "sample_json = {\n",
    "    \"Name\": [\"Alice\", \"Bob\", \"Chloe\"],\n",
    "    \"Age\": [\"25\", \"30\", \"22\"],\n",
    "    \"timestamp\": [\"2003-10-02\", \"2003-04-16\", \"2023-12-29\"]\n",
    "}\n",
    "\n",
    "# Write the JSON to a file\n",
    "json_file_path = \"sample_data.json\"\n",
    "with open(json_file_path, \"w\") as json_file:\n",
    "    json.dump(sample_json, json_file, indent=2)\n",
    "\n",
    "# Read the JSON file into a DataFrame\n",
    "df = pd.read_json(path_or_buf=json_file_path, keep_default_dates=False)\n",
    "print(df['timestamp'])\n",
    "'''\n",
    "Output:\n",
    "0    2003-10-02\n",
    "1    2003-04-16\n",
    "2    2023-12-29\n",
    "Name: timestamp, dtype: object\n",
    "'''"
   ]
  }
 ],
 "metadata": {},
 "nbformat": 4,
 "nbformat_minor": 5
}
