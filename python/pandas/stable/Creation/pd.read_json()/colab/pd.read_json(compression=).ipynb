{
 "cells": [
  {
   "cell_type": "code",
   "execution_count": null,
   "id": "4d0a37ee",
   "metadata": {},
   "outputs": [],
   "source": [
    "import pandas as pd\n",
    "import json\n",
    "\n",
    "# Create a sample DataFrame\n",
    "data = {\n",
    "    \"Name\": [\"Alice\", \"Bob\", \"Chloe\"],\n",
    "    \"Age\": [25, 30, 22],\n",
    "    \"City\": [\"New York\", \"Berlin\", \"Hamburg\"]\n",
    "}\n",
    "df = pd.DataFrame(data)\n",
    "\n",
    "# Write the DataFrame to a JSON file with Gzip compression\n",
    "json_file_path = \"data.json.gz\"\n",
    "df.to_json(json_file_path, orient='records', lines=True, compression='gzip')\n",
    "\n",
    "# Read the compressed JSON file using pandas.read_json\n",
    "df_read = pd.read_json(json_file_path, compression='gzip', lines=True)\n",
    "print(df_read)\n",
    "'''\n",
    "Output:\n",
    "    Name  Age      City\n",
    "0  Alice   25  New York\n",
    "1    Bob   30    Berlin\n",
    "2  Chloe   22   Hamburg\n",
    "'''"
   ]
  }
 ],
 "metadata": {},
 "nbformat": 4,
 "nbformat_minor": 5
}
