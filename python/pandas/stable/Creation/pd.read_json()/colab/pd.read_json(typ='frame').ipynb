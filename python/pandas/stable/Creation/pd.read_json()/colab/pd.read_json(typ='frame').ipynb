{
 "cells": [
  {
   "cell_type": "code",
   "execution_count": null,
   "id": "9634a6e0",
   "metadata": {},
   "outputs": [],
   "source": [
    "import pandas as pd\n",
    "import json\n",
    "\n",
    "# Create a sample JSON object\n",
    "sample_json = {\n",
    "    \"Name\": [\"Alice\", \"Bob\", \"Chloe\"],\n",
    "    \"Age\": [25, 30, 22],\n",
    "    \"City\": [\"New York\", \"Los Angeles\", \"Chicago\"]\n",
    "}\n",
    "\n",
    "# Write the JSON to a file\n",
    "json_file_path = \"sample_data.json\"\n",
    "with open(json_file_path, \"w\") as json_file:\n",
    "    json.dump(sample_json, json_file, indent=2)\n",
    "\n",
    "# Read the JSON file into a DataFrame\n",
    "df = pd.read_json(path_or_buf=json_file_path, typ='frame')\n",
    "print(df)\n",
    "'''\n",
    "Output:\n",
    "    Name  Age         City\n",
    "0  Alice   25     New York\n",
    "1    Bob   30  Los Angeles\n",
    "2  Chloe   22      Chicago\n",
    "'''"
   ]
  }
 ],
 "metadata": {},
 "nbformat": 4,
 "nbformat_minor": 5
}
