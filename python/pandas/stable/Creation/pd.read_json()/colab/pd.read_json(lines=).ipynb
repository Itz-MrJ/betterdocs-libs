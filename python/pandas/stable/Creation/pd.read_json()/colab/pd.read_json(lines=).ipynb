{
 "cells": [
  {
   "cell_type": "code",
   "execution_count": null,
   "id": "fc903ec4",
   "metadata": {},
   "outputs": [],
   "source": [
    "import pandas as pd\n",
    "import json\n",
    "\n",
    "# Sample data for JSON Lines format (one JSON object per line)\n",
    "data = [\n",
    "    {\"Name\": \"Alice\", \"Age\": 25},\n",
    "    {\"Name\": \"Bob\", \"Age\": 30},\n",
    "    {\"Name\": \"Chloe\", \"Age\": 22}\n",
    "]\n",
    "\n",
    "# Define the file path\n",
    "json_file_path = \"data.json\"\n",
    "\n",
    "# Write data to the file (one JSON object per line)\n",
    "with open(json_file_path, \"w\") as json_file:\n",
    "    for record in data:\n",
    "        json.dump(record, json_file)\n",
    "        json_file.write(\"\\n\")\n",
    "\n",
    "# Now, read the JSON data back with lines=True\n",
    "df = pd.read_json(json_file_path, lines=True)\n",
    "print(df)"
   ]
  }
 ],
 "metadata": {},
 "nbformat": 4,
 "nbformat_minor": 5
}
