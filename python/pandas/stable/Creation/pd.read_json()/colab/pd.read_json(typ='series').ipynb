{
 "cells": [
  {
   "cell_type": "code",
   "execution_count": null,
   "id": "01e7c854",
   "metadata": {},
   "outputs": [],
   "source": [
    "import pandas as pd\n",
    "import json\n",
    "\n",
    "# Create a sample JSON object\n",
    "sample_json = {\n",
    "    \"Name\": [\"Alice\", \"Bob\", \"Chloe\"],\n",
    "    \"Age\": [25, 30, 22],\n",
    "    \"City\": [\"New York\", \"Los Angeles\", \"Chicago\"]\n",
    "}\n",
    "\n",
    "# Write the JSON to a file\n",
    "json_file_path = \"sample_data.json\"\n",
    "with open(json_file_path, \"w\") as json_file:\n",
    "    json.dump(sample_json, json_file, indent=2)\n",
    "\n",
    "# Read the JSON file into Series\n",
    "s = pd.read_json(path_or_buf=json_file_path, typ='series')\n",
    "print(s)\n",
    "'''\n",
    "Output:\n",
    "Name                 [Alice, Bob, Chloe]\n",
    "Age                         [25, 30, 22]\n",
    "City    [New York, Los Angeles, Chicago]\n",
    "dtype: object\n",
    "'''"
   ]
  }
 ],
 "metadata": {},
 "nbformat": 4,
 "nbformat_minor": 5
}
