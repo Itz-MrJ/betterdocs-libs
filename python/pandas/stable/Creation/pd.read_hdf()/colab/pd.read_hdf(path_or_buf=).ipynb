{
 "cells": [
  {
   "cell_type": "code",
   "execution_count": null,
   "id": "c3c26eab",
   "metadata": {},
   "outputs": [],
   "source": [
    "import pandas as pd\n",
    "import requests\n",
    "\n",
    "# URL to the HDF5 file\n",
    "url = \"https://betterdocs.tech/global/python/pandas/data_large.h5\"\n",
    "\n",
    "# Download the file\n",
    "response = requests.get(url)\n",
    "with open(\"data.h5\", \"wb\") as f:\n",
    "    f.write(response.content)\n",
    "\n",
    "# Read the HDF5 file locally\n",
    "df = pd.read_hdf(path_or_buf=\"data.h5\")\n",
    "print(df.head())\n",
    "'''\n",
    "Output:\n",
    "   id             name   birthdate  age  salary\n",
    "0   1       Eric Arias  1979-05-22   45  102905\n",
    "1   2      Billy Silva  1998-03-13   26   87949\n",
    "2   3    David Goodwin  1974-09-07   50   34936\n",
    "3   4  Wendy Jones DVM  1968-07-23   56   67408\n",
    "4   5     Becky Butler  1995-11-30   29  134267\n",
    "'''"
   ]
  }
 ],
 "metadata": {},
 "nbformat": 4,
 "nbformat_minor": 5
}
