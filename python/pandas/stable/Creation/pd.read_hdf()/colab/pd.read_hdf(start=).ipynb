{
 "cells": [
  {
   "cell_type": "code",
   "execution_count": null,
   "id": "01fd9210",
   "metadata": {},
   "outputs": [],
   "source": [
    "import pandas as pd\n",
    "import requests\n",
    "\n",
    "# URL to the HDF5 file\n",
    "url = \"https://betterdocs.tech/global/python/pandas/data_large.h5\"\n",
    "\n",
    "# Download the file\n",
    "response = requests.get(url)\n",
    "with open(\"data.h5\", \"wb\") as f:\n",
    "    f.write(response.content)\n",
    "\n",
    "# Read the HDF5 file locally\n",
    "df = pd.read_hdf(path_or_buf=\"data.h5\", start=2)\n",
    "print(df.head())\n",
    "'''\n",
    "Output:\n",
    "   id             name   birthdate  age  salary\n",
    "2   3    David Goodwin  1974-09-07   50   34936\n",
    "3   4  Wendy Jones DVM  1968-07-23   56   67408\n",
    "4   5     Becky Butler  1995-11-30   29  134267\n",
    "5   6    Heather Frank  1985-12-13   39   48576\n",
    "6   7       John Hicks  1978-12-03   46   49362\n",
    "'''"
   ]
  }
 ],
 "metadata": {},
 "nbformat": 4,
 "nbformat_minor": 5
}
