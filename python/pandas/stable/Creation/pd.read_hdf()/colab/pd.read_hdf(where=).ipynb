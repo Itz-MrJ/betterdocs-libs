{
 "cells": [
  {
   "cell_type": "code",
   "execution_count": null,
   "id": "88d50006",
   "metadata": {},
   "outputs": [],
   "source": [
    "import pandas as pd\n",
    "\n",
    "# Create sample DataFrame\n",
    "data = {\n",
    "    'id': [1, 2, 3, 4, 5],\n",
    "    'name': ['Alice', 'Bob', 'Chloe', 'David', 'Eva'],\n",
    "    'salary': [75000, 80000, 85000, 90000, 95000],\n",
    "    'department': ['HR', 'Engineering', 'Marketing', 'Engineering', 'HR']\n",
    "}\n",
    "\n",
    "df = pd.DataFrame(data)\n",
    "df.to_hdf('employees_table.h5', key='data', mode='w', data_columns=True, format='table')\n",
    "\n",
    "# Use the 'where' parameter to filter data with salary > 80000\n",
    "df_filtered = pd.read_hdf('employees_table.h5', key='data', where=\"id=2\")\n",
    "\n",
    "# Print the filtered DataFrame\n",
    "print(df_filtered)\n",
    "'''\n",
    "Output:\n",
    "   id name  salary   department\n",
    "1   2  Bob   80000  Engineering\n",
    "'''"
   ]
  }
 ],
 "metadata": {},
 "nbformat": 4,
 "nbformat_minor": 5
}
