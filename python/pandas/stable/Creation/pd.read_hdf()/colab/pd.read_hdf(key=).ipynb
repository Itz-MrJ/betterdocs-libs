{
 "cells": [
  {
   "cell_type": "code",
   "execution_count": null,
   "id": "2bbd8a50",
   "metadata": {},
   "outputs": [],
   "source": [
    "import pandas as pd\n",
    "\n",
    "# Create two DataFrames\n",
    "df1 = pd.DataFrame({'id': [1, 2], 'name': ['Alice', 'Bob']})\n",
    "df2 = pd.DataFrame({'id': [3, 4], 'name': ['Chloe', 'David']})\n",
    "\n",
    "# Write DataFrames to an HDF5 file under different keys\n",
    "df1.to_hdf('data.h5', key='group1', mode='w')\n",
    "df2.to_hdf('data.h5', key='group2', mode='a')\n",
    "\n",
    "# Read the dataset under 'group1'\n",
    "df_group1 = pd.read_hdf('data.h5', key='group1')\n",
    "print(df_group1)\n",
    "\n",
    "# Read the dataset under 'group2'\n",
    "df_group2 = pd.read_hdf('data.h5', key='group2')\n",
    "print(df_group2)\n",
    "'''\n",
    "Output:\n",
    "   id   name\n",
    "0   1  Alice\n",
    "1   2    Bob\n",
    "   id   name\n",
    "0   3  Chloe\n",
    "1   4  David\n",
    "'''"
   ]
  }
 ],
 "metadata": {},
 "nbformat": 4,
 "nbformat_minor": 5
}
