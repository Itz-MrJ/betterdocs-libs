{
 "cells": [
  {
   "cell_type": "code",
   "execution_count": null,
   "id": "f8ae20c2",
   "metadata": {},
   "outputs": [],
   "source": [
    "import pandas as pd\n",
    "\n",
    "# Create sample DataFrame\n",
    "data = {\n",
    "    'id': [1, 2, 3, 4, 5],\n",
    "    'name': ['Alice', 'Bob', 'Chloe', 'David', 'Eva'],\n",
    "    'salary': [75000, 80000, 85000, 90000, 95000],\n",
    "    'department': ['HR', 'Engineering', 'Marketing', 'Engineering', 'HR']\n",
    "}\n",
    "\n",
    "df = pd.DataFrame(data)\n",
    "\n",
    "# Save to HDF5 in table format\n",
    "df.to_hdf('bb.h5', key='data', mode='w', data_columns=True, format='table')\n",
    "\n",
    "# Read HDF5 without iterator\n",
    "df_filtered = pd.read_hdf('bb.h5', iterator=False)\n",
    "print(df_filtered)\n",
    "'''\n",
    "Output:\n",
    "   id   name  salary   department\n",
    "0   1  Alice   75000           HR\n",
    "1   2    Bob   80000  Engineering\n",
    "2   3  Chloe   85000    Marketing\n",
    "3   4  David   90000  Engineering\n",
    "4   5    Eva   95000           HR\n",
    "'''"
   ]
  }
 ],
 "metadata": {},
 "nbformat": 4,
 "nbformat_minor": 5
}
