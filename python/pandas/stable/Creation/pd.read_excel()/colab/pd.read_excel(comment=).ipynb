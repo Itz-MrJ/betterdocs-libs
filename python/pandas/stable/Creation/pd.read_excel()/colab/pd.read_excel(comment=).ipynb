{
 "cells": [
  {
   "cell_type": "code",
   "execution_count": null,
   "id": "3d947aa8",
   "metadata": {},
   "outputs": [],
   "source": [
    "import pandas as pd\n",
    "from openpyxl import Workbook\n",
    "\n",
    "# Create an Excel file with multiple sheets\n",
    "file_path = \"example.xlsx\"\n",
    "\n",
    "# Create a workbook and add data\n",
    "wb = Workbook()\n",
    "sheet1 = wb.active\n",
    "sheet1.title = \"Sheet1\"\n",
    "sheet1.append([\"ID\", \"Name\", \"Salary\"])\n",
    "sheet1.append([1, \"Alice\", \"2000 #commentttt hehe\"])\n",
    "sheet1.append([2, \"Bob\", \"10000\"])\n",
    "sheet1.append([2, \"Charlie\", \"2000\"])\n",
    "\n",
    "# Save the workbook\n",
    "wb.save(file_path)\n",
    "\n",
    "# Read the sheets\n",
    "df = pd.read_excel(io=file_path, comment='#')\n",
    "print(df)\n",
    "'''\n",
    "Output:\n",
    "   ID     Name  Salary\n",
    "0   1    Alice    2000\n",
    "1   2      Bob   10000\n",
    "2   2  Charlie    2000\n",
    "'''"
   ]
  }
 ],
 "metadata": {},
 "nbformat": 4,
 "nbformat_minor": 5
}
