{
 "cells": [
  {
   "cell_type": "code",
   "execution_count": null,
   "id": "50a990cc",
   "metadata": {},
   "outputs": [],
   "source": [
    "import pandas as pd\n",
    "from openpyxl import Workbook\n",
    "\n",
    "# Create an Excel file with multiple sheets\n",
    "file_path = \"example.xlsx\"\n",
    "\n",
    "# Create a workbook and add data\n",
    "wb = Workbook()\n",
    "sheet1 = wb.active\n",
    "sheet1.title = \"Sheet1\"\n",
    "sheet1.append([\"ID\", \"Name\", \"Age\"])\n",
    "sheet1.append([1, \"Alice\", \"na\"])\n",
    "sheet1.append([2, \"missing\", 30])\n",
    "sheet1.append([2, \"Charlie\", 10])\n",
    "\n",
    "# Save the workbook\n",
    "wb.save(file_path)\n",
    "\n",
    "# Read the sheets\n",
    "df = pd.read_excel(io=file_path, na_values=[\"missing\", \"na\"])\n",
    "print(df)\n",
    "'''\n",
    "Output:\n",
    "   ID   Name  Age\n",
    "0   1  Alice   25\n",
    "1   2    Bob   30\n",
    "'''"
   ]
  }
 ],
 "metadata": {},
 "nbformat": 4,
 "nbformat_minor": 5
}
