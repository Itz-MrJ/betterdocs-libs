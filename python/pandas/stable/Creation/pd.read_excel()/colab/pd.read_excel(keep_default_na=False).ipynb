{
 "cells": [
  {
   "cell_type": "code",
   "execution_count": null,
   "id": "81fff1cc",
   "metadata": {},
   "outputs": [],
   "source": [
    "import pandas as pd\n",
    "from openpyxl import Workbook\n",
    "\n",
    "# Create an Excel file with multiple sheets\n",
    "file_path = \"example.xlsx\"\n",
    "\n",
    "# Create a workbook and add data\n",
    "wb = Workbook()\n",
    "sheet1 = wb.active\n",
    "sheet1.title = \"Sheet1\"\n",
    "sheet1.append([\"ID\", \"Name\", \"Age\"])\n",
    "sheet1.append([1, \"Alice\", \"NA\"])\n",
    "sheet1.append([2, \"null\", 30])\n",
    "sheet1.append([2, \"Charlie\", 10])\n",
    "\n",
    "# Save the workbook\n",
    "wb.save(file_path)\n",
    "\n",
    "# Read the sheets\n",
    "df = pd.read_excel(io=file_path, keep_default_na=False)\n",
    "print(df)\n",
    "'''\n",
    "Output:\n",
    "   ID     Name Age\n",
    "0   1    Alice  NA\n",
    "1   2     null  30\n",
    "2   2  Charlie  10\n",
    "'''"
   ]
  }
 ],
 "metadata": {},
 "nbformat": 4,
 "nbformat_minor": 5
}
