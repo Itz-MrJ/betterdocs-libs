{
 "cells": [
  {
   "cell_type": "code",
   "execution_count": null,
   "id": "d7ce50ac",
   "metadata": {},
   "outputs": [],
   "source": [
    "import pandas as pd\n",
    "from openpyxl import Workbook\n",
    "\n",
    "# Create an Excel file with multiple sheets\n",
    "file_path = \"example.xlsx\"\n",
    "\n",
    "# Create a workbook and add data\n",
    "wb = Workbook()\n",
    "sheet1 = wb.active\n",
    "sheet1.title = \"Sheet1\"\n",
    "sheet1.append([\"ID\", \"Name\", \"Age\", \"isActive\"])\n",
    "sheet1.append([1, \"Alice\", 25, \"yes\"])\n",
    "sheet1.append([2, \"Bob\", 30, \"maybe\"])\n",
    "sheet1.append([2, \"Charlie\", 10, \"no\"])\n",
    "\n",
    "# Save the workbook\n",
    "wb.save(file_path)\n",
    "\n",
    "# Read the sheets\n",
    "df = pd.read_excel(io=file_path, true_values=[\"yes\"], false_values=[\"no\", \"maybe\"])\n",
    "print(df)\n",
    "'''\n",
    "Output:\n",
    "   ID     Name  Age  isActive\n",
    "0   1    Alice   25      True\n",
    "1   2      Bob   30     False\n",
    "2   2  Charlie   10     False\n",
    "'''"
   ]
  }
 ],
 "metadata": {},
 "nbformat": 4,
 "nbformat_minor": 5
}
